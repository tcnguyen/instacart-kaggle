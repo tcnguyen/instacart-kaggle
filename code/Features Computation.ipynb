{
 "cells": [
  {
   "cell_type": "code",
   "execution_count": null,
   "metadata": {
    "collapsed": true
   },
   "outputs": [],
   "source": [
    "import numpy as np\n",
    "import pandas as pd\n",
    "import gc\n",
    "IDIR = '../input/'\n",
    "FEATURES_PATH = './features3/'"
   ]
  },
  {
   "cell_type": "code",
   "execution_count": null,
   "metadata": {
    "collapsed": false
   },
   "outputs": [],
   "source": [
    "gc.collect()"
   ]
  },
  {
   "cell_type": "code",
   "execution_count": null,
   "metadata": {
    "collapsed": false
   },
   "outputs": [],
   "source": [
    "print('loading prior')\n",
    "#priors = pd.read_csv(IDIR + 'order_products__prior.csv', dtype={\n",
    "#            'order_id': np.int32,\n",
    "#            'product_id': np.uint16,\n",
    "#            'add_to_cart_order': np.int16,\n",
    "#            'reordered': np.int8})\n",
    "\n",
    "\n",
    "priors = pd.read_hdf(IDIR+\"input.h5\",\"priors\")\n",
    "\n",
    "print('loading train')\n",
    "trains = pd.read_hdf(IDIR+\"input.h5\",\"trains\")\n",
    "\n",
    "#trains = pd.read_csv(IDIR + 'order_products__train.csv', dtype={\n",
    "#            'order_id': np.int32,\n",
    "#            'product_id': np.uint16,\n",
    "#            'add_to_cart_order': np.int16,\n",
    "#            'reordered': np.int8})\n",
    "\n",
    "print('loading orders')\n",
    "orders = pd.read_csv(IDIR + 'orders.csv', dtype={\n",
    "        'order_id': np.int32,\n",
    "        'user_id': np.int32,\n",
    "        'order_number': np.int16,\n",
    "        'order_dow': np.int8,\n",
    "        'order_hour_of_day': np.int8,\n",
    "        'days_since_prior_order': np.float32})\n",
    "\n",
    "print('loading products')\n",
    "products = pd.read_csv(IDIR + 'products.csv', dtype={\n",
    "        'product_id': np.uint16,\n",
    "        'order_id': np.int32,\n",
    "        'aisle_id': np.uint8,\n",
    "        'department_id': np.uint8},\n",
    "        usecols=['product_id', 'aisle_id', 'department_id'])\n",
    "\n",
    "print('loading aisle')\n",
    "aisles = pd.read_csv(IDIR + 'aisles.csv', dtype={\n",
    "        'aisle_id': np.int16 })\n",
    "\n",
    "print('loading department')\n",
    "departments = pd.read_csv(IDIR + 'departments.csv', dtype={\n",
    "        'department_id': np.int16 })\n",
    "        \n",
    "\n",
    "print('priors {}: {}'.format(priors.shape, ', '.join(priors.columns)))\n",
    "print('orders {}: {}'.format(orders.shape, ', '.join(orders.columns)))\n",
    "print('trains {}: {}'.format(trains.shape, ', '.join(trains.columns)))"
   ]
  },
  {
   "cell_type": "code",
   "execution_count": null,
   "metadata": {
    "collapsed": true
   },
   "outputs": [],
   "source": [
    "priors.to_hdf(IDIR+\"input.h5\",\"priors\", mode=\"w\")\n",
    "trains.to_hdf(IDIR+\"input.h5\",\"trains\", mode=\"a\")"
   ]
  },
  {
   "cell_type": "markdown",
   "metadata": {},
   "source": [
    "# USER PRODUCT"
   ]
  },
  {
   "cell_type": "markdown",
   "metadata": {},
   "source": [
    "## Product number of days since last order, period ..."
   ]
  },
  {
   "cell_type": "code",
   "execution_count": null,
   "metadata": {
    "collapsed": false
   },
   "outputs": [],
   "source": [
    "orders.days_since_prior_order = orders.days_since_prior_order.fillna(0)\n",
    "orders[\"days_since_first_order\"] = orders.groupby('user_id').days_since_prior_order.cumsum()\n",
    "priors = pd.merge(priors, orders, on=['order_id'], how='left')"
   ]
  },
  {
   "cell_type": "code",
   "execution_count": null,
   "metadata": {
    "collapsed": true
   },
   "outputs": [],
   "source": [
    "up_info = priors.groupby(['user_id', 'product_id'])[['days_since_first_order']].agg([np.max, np.min, np.size]).astype(np.float32)"
   ]
  },
  {
   "cell_type": "code",
   "execution_count": null,
   "metadata": {
    "collapsed": false
   },
   "outputs": [],
   "source": [
    "up_info.head()"
   ]
  },
  {
   "cell_type": "code",
   "execution_count": null,
   "metadata": {
    "collapsed": true
   },
   "outputs": [],
   "source": [
    "up_info.columns = up_info.columns.droplevel(0)\n",
    "up_info.columns=['up_days_since_first_order_max', 'up_days_since_first_order_min', 'up_orders']\n",
    "up_info.reset_index(inplace = True)"
   ]
  },
  {
   "cell_type": "code",
   "execution_count": null,
   "metadata": {
    "collapsed": false
   },
   "outputs": [],
   "source": [
    "user_info = orders[orders.eval_set != \"prior\"][['user_id', 'days_since_first_order']]\n",
    "user_info.rename(columns={\"days_since_first_order\": \"last_order_days_since_first_order\"}, inplace = True)\n",
    "up_info = up_info.merge(user_info, on=\"user_id\", how=\"left\")"
   ]
  },
  {
   "cell_type": "code",
   "execution_count": null,
   "metadata": {
    "collapsed": false
   },
   "outputs": [],
   "source": [
    "up_info.isnull().sum()"
   ]
  },
  {
   "cell_type": "code",
   "execution_count": null,
   "metadata": {
    "collapsed": false
   },
   "outputs": [],
   "source": [
    "up_info['up_days_since_last_order'] = (up_info.last_order_days_since_first_order - up_info.up_days_since_first_order_max).astype(np.int16)\n",
    "up_info.drop(['last_order_days_since_first_order'], axis = 1, inplace=True)"
   ]
  },
  {
   "cell_type": "code",
   "execution_count": null,
   "metadata": {
    "collapsed": false
   },
   "outputs": [],
   "source": [
    "up_info['up_order_period'] = (up_info.up_days_since_first_order_max - up_info.up_days_since_first_order_min).astype(np.int16)\n",
    "up_info['up_order_period_mean'] = (up_info.up_order_period/up_info.up_orders).astype(np.float32)"
   ]
  },
  {
   "cell_type": "code",
   "execution_count": null,
   "metadata": {
    "collapsed": true
   },
   "outputs": [],
   "source": [
    "up_info.set_index(['user_id', 'product_id'], inplace = True)\n",
    "up_info.drop(['up_days_since_first_order_max', 'up_days_since_first_order_min', 'up_orders'], axis = 1, inplace = True)"
   ]
  },
  {
   "cell_type": "code",
   "execution_count": null,
   "metadata": {
    "collapsed": false
   },
   "outputs": [],
   "source": [
    "up_days_since_prior_order_mean = priors[['user_id', 'product_id','days_since_prior_order']].groupby(['user_id', 'product_id']).mean()"
   ]
  },
  {
   "cell_type": "code",
   "execution_count": null,
   "metadata": {
    "collapsed": false
   },
   "outputs": [],
   "source": [
    "up_days_since_prior_order_mean.head()"
   ]
  },
  {
   "cell_type": "code",
   "execution_count": null,
   "metadata": {
    "collapsed": true
   },
   "outputs": [],
   "source": [
    "up_info['up_days_since_prior_order_mean'] = up_days_since_prior_order_mean.astype(np.float32)"
   ]
  },
  {
   "cell_type": "code",
   "execution_count": null,
   "metadata": {
    "collapsed": true
   },
   "outputs": [],
   "source": [
    "up_info.to_hdf(FEATURES_PATH+\"features.h5\", \"up_days_since_last_order\", mode='a')"
   ]
  },
  {
   "cell_type": "code",
   "execution_count": null,
   "metadata": {
    "collapsed": false
   },
   "outputs": [],
   "source": [
    "up_info.memory_usage().sum()/1000000"
   ]
  },
  {
   "cell_type": "code",
   "execution_count": null,
   "metadata": {
    "collapsed": false
   },
   "outputs": [],
   "source": [
    "up_info.dtypes"
   ]
  },
  {
   "cell_type": "markdown",
   "metadata": {},
   "source": [
    "## Product order rate and number of orders from the last order"
   ]
  },
  {
   "cell_type": "code",
   "execution_count": null,
   "metadata": {
    "collapsed": true
   },
   "outputs": [],
   "source": [
    "#priors = pd.merge(priors, orders, on=\"order_id\", how=\"inner\")"
   ]
  },
  {
   "cell_type": "code",
   "execution_count": null,
   "metadata": {
    "collapsed": true
   },
   "outputs": [],
   "source": [
    "user_info = orders[orders.eval_set == \"prior\"].groupby('user_id') \\\n",
    "        .agg({'order_number': np.max}) \\\n",
    "        .rename(columns={'order_number': 'user_orders'})\n",
    "        \n",
    "user_info.reset_index(inplace = True)"
   ]
  },
  {
   "cell_type": "code",
   "execution_count": null,
   "metadata": {
    "collapsed": false
   },
   "outputs": [],
   "source": [
    "user_info.head()"
   ]
  },
  {
   "cell_type": "code",
   "execution_count": null,
   "metadata": {
    "collapsed": false
   },
   "outputs": [],
   "source": [
    "up_info = pd.DataFrame(priors.groupby(['user_id', 'product_id']).size().astype(np.int16), columns=['up_orders'])\n",
    "up_info[['up_first_order', 'up_last_order']] = priors.groupby(['user_id', 'product_id']).order_number.agg([np.min, np.max])\n",
    "up_info.reset_index(inplace = True)\n",
    "up_info.user_id = up_info.user_id.astype(np.int32)\n",
    "up_info.product_id  = up_info.product_id.astype(np.int32)"
   ]
  },
  {
   "cell_type": "code",
   "execution_count": null,
   "metadata": {
    "collapsed": false
   },
   "outputs": [],
   "source": [
    "up_info = pd.merge(up_info, user_info, on='user_id', how='left')\n",
    "up_info['up_order_rate'] = (up_info.up_orders/up_info.user_orders).astype(np.float32)\n",
    "up_info['up_orders_since_last_order'] = (up_info.user_orders - up_info.up_last_order).astype(np.float32)\n",
    "up_info['up_order_rate_since_first_order'] = (up_info.up_orders / (up_info.user_orders - up_info.up_first_order + 1)).astype(np.float32)\n",
    "\n",
    "#finish, remove temporal user feature\n",
    "up_info.drop(['user_orders'], axis=1, inplace=True)"
   ]
  },
  {
   "cell_type": "code",
   "execution_count": null,
   "metadata": {
    "collapsed": false
   },
   "outputs": [],
   "source": [
    "up_info.head()"
   ]
  },
  {
   "cell_type": "code",
   "execution_count": null,
   "metadata": {
    "collapsed": false
   },
   "outputs": [],
   "source": [
    "up_info.set_index(['user_id', 'product_id'], inplace = True)\n",
    "up_info.to_hdf(FEATURES_PATH+\"features.h5\", \"up_order_rates\", mode='a')\n",
    "#up_info.to_csv(FEATURES_PATH +  \"up_order_rates.csv\")"
   ]
  },
  {
   "cell_type": "markdown",
   "metadata": {},
   "source": [
    "## Average add to cart order"
   ]
  },
  {
   "cell_type": "code",
   "execution_count": null,
   "metadata": {
    "collapsed": false
   },
   "outputs": [],
   "source": [
    "up_info = priors.groupby(['user_id', 'product_id'])[['add_to_cart_order']].mean().astype(np.float32)\n",
    "up_info.rename(columns={\"add_to_cart_order\":\"up_add_to_cart_order_mean\"}, inplace=True)"
   ]
  },
  {
   "cell_type": "code",
   "execution_count": null,
   "metadata": {
    "collapsed": false
   },
   "outputs": [],
   "source": [
    "up_info.head()"
   ]
  },
  {
   "cell_type": "code",
   "execution_count": null,
   "metadata": {
    "collapsed": false
   },
   "outputs": [],
   "source": [
    "up_info.to_hdf(FEATURES_PATH+\"features.h5\", \"up_add_to_cart_order_mean\", mode='a')\n",
    "#up_info.to_csv(FEATURES_PATH +  \"up_add_to_cart_order_mean.csv\")"
   ]
  },
  {
   "cell_type": "markdown",
   "metadata": {},
   "source": [
    "## Average days since prior order, order hour, hour day of week"
   ]
  },
  {
   "cell_type": "code",
   "execution_count": null,
   "metadata": {
    "collapsed": false
   },
   "outputs": [],
   "source": [
    "priors = pd.merge(priors, orders, on='order_id', how='left')"
   ]
  },
  {
   "cell_type": "code",
   "execution_count": null,
   "metadata": {
    "collapsed": true
   },
   "outputs": [],
   "source": [
    "order_stat = priors.groupby('order_id').agg({'order_id': 'size'}).rename(columns={'order_id': 'order_size'}).reset_index()"
   ]
  },
  {
   "cell_type": "code",
   "execution_count": null,
   "metadata": {
    "collapsed": false
   },
   "outputs": [],
   "source": [
    "priors= pd.merge(priors, order_stat, on='order_id')\n",
    "priors['add_to_cart_order_relative'] = (priors.add_to_cart_order / priors.order_size).astype(np.float32)"
   ]
  },
  {
   "cell_type": "code",
   "execution_count": null,
   "metadata": {
    "collapsed": false
   },
   "outputs": [],
   "source": [
    "priors.head()"
   ]
  },
  {
   "cell_type": "code",
   "execution_count": null,
   "metadata": {
    "collapsed": false
   },
   "outputs": [],
   "source": [
    "up_info = priors.groupby(['user_id', 'product_id']).agg({'order_dow': [np.mean, np.median],\n",
    "                                                     'order_hour_of_day': [np.mean, np.median],\n",
    "                                                     'add_to_cart_order_relative': [np.mean, np.median]}).astype(np.float32)"
   ]
  },
  {
   "cell_type": "code",
   "execution_count": null,
   "metadata": {
    "collapsed": true
   },
   "outputs": [],
   "source": [
    "up_info.columns = up_info.columns.droplevel(0)\n",
    "up_info.columns = ['up_order_dow_mean','up_order_dow_median',\n",
    "                   'order_hour_of_day_mean', 'order_hour_of_median',\n",
    "                   'add_to_cart_order_relative', 'add_to_cart_order_relative_median']"
   ]
  },
  {
   "cell_type": "code",
   "execution_count": null,
   "metadata": {
    "collapsed": false
   },
   "outputs": [],
   "source": [
    "up_info.isnull().sum()"
   ]
  },
  {
   "cell_type": "code",
   "execution_count": null,
   "metadata": {
    "collapsed": false
   },
   "outputs": [],
   "source": [
    "up_info.head()"
   ]
  },
  {
   "cell_type": "code",
   "execution_count": null,
   "metadata": {
    "collapsed": false
   },
   "outputs": [],
   "source": [
    "up_info.dtypes"
   ]
  },
  {
   "cell_type": "code",
   "execution_count": null,
   "metadata": {
    "collapsed": true
   },
   "outputs": [],
   "source": [
    "up_info.to_hdf(FEATURES_PATH+\"features.h5\", \"up_info\", mode='a')"
   ]
  },
  {
   "cell_type": "markdown",
   "metadata": {},
   "source": [
    "## Reordered in the train set"
   ]
  },
  {
   "cell_type": "code",
   "execution_count": null,
   "metadata": {
    "collapsed": true
   },
   "outputs": [],
   "source": [
    "#must reset"
   ]
  },
  {
   "cell_type": "code",
   "execution_count": null,
   "metadata": {
    "collapsed": false
   },
   "outputs": [],
   "source": [
    "trains = pd.merge(trains, orders[['order_id', 'user_id']], on = 'order_id', how='left')\n",
    "priors = pd.merge(priors, orders[['order_id', 'user_id']], on=\"order_id\", how=\"inner\")\n",
    "up_info = pd.DataFrame(priors.groupby(['user_id', 'product_id']).size()).reset_index()\n",
    "up_info.drop([0], axis = 1, inplace = True)\n",
    "up_info = pd.merge(up_info, trains[['user_id', 'product_id', 'reordered']], on=['user_id', 'product_id'], how='left')\n",
    "up_info.reordered.fillna(0, inplace = True)\n",
    "up_info.rename(columns={\"reordered\": \"up_reordered\"}, inplace=True)"
   ]
  },
  {
   "cell_type": "code",
   "execution_count": null,
   "metadata": {
    "collapsed": false
   },
   "outputs": [],
   "source": [
    "up_info.head()"
   ]
  },
  {
   "cell_type": "code",
   "execution_count": null,
   "metadata": {
    "collapsed": true
   },
   "outputs": [],
   "source": [
    "up_info.set_index(['user_id','product_id'], inplace=True)\n",
    "up_info.to_hdf(FEATURES_PATH+\"features.h5\", \"up_reordered\", mode='a')\n",
    "#up_info.to_csv(FEATURES_PATH + \"up_reordered.csv\")"
   ]
  },
  {
   "cell_type": "markdown",
   "metadata": {},
   "source": [
    "# USER"
   ]
  },
  {
   "cell_type": "code",
   "execution_count": null,
   "metadata": {
    "collapsed": true
   },
   "outputs": [],
   "source": [
    "#priors = pd.merge(priors, orders[['order_id', 'user_id']], on=\"order_id\", how=\"inner\")"
   ]
  },
  {
   "cell_type": "code",
   "execution_count": null,
   "metadata": {
    "collapsed": true
   },
   "outputs": [],
   "source": [
    "user_info = orders[orders.eval_set == \"prior\"].groupby('user_id') \\\n",
    "        .agg({'order_number': np.max}) \\\n",
    "        .rename(columns={'order_number': 'user_total_order'})        \n",
    "user_info.reset_index(inplace = True)"
   ]
  },
  {
   "cell_type": "code",
   "execution_count": null,
   "metadata": {
    "collapsed": false
   },
   "outputs": [],
   "source": [
    "user_reorder_rate = priors.groupby(['user_id']).reordered.agg([np.sum, np.size])\n",
    "user_reorder_rate['user_reorder_rate'] = (user_reorder_rate['sum']/user_reorder_rate['size']).astype(np.float32)\n",
    "user_reorder_rate.reset_index(inplace=True)\n",
    "user_info = pd.merge(user_info, user_reorder_rate[['user_id', 'user_reorder_rate']], on=\"user_id\", how='left')\n",
    "del user_reorder_rate"
   ]
  },
  {
   "cell_type": "code",
   "execution_count": null,
   "metadata": {
    "collapsed": false
   },
   "outputs": [],
   "source": [
    "orders_count = priors.groupby('order_id')['product_id'].count()\n",
    "orders['item_count'] = orders['order_id'].map(orders_count)\n",
    "user_basket_avg = orders[orders.eval_set==\"prior\"].groupby('user_id')[['item_count']].mean()\n",
    "user_basket_avg.rename(columns={\"item_count\": \"user_order_size_mean\"}, inplace=True)\n",
    "user_basket_avg.reset_index(inplace=True)\n",
    "orders.drop(['item_count'], axis = 1, inplace = True)\n",
    "\n",
    "user_info = pd.merge(user_info, user_basket_avg, on=\"user_id\", how='left')\n",
    "del user_basket_avg"
   ]
  },
  {
   "cell_type": "code",
   "execution_count": null,
   "metadata": {
    "collapsed": false
   },
   "outputs": [],
   "source": [
    "user_info.set_index('user_id').to_hdf(FEATURES_PATH+\"features.h5\", \"user_info\", mode='a')"
   ]
  },
  {
   "cell_type": "markdown",
   "metadata": {},
   "source": [
    "## last order info"
   ]
  },
  {
   "cell_type": "code",
   "execution_count": null,
   "metadata": {
    "collapsed": true
   },
   "outputs": [],
   "source": [
    "user_info = pd.read_hdf(FEATURES_PATH+\"features.h5\", \"user_info\")"
   ]
  },
  {
   "cell_type": "code",
   "execution_count": null,
   "metadata": {
    "collapsed": false
   },
   "outputs": [],
   "source": [
    "user_info.reset_index(inplace = True)"
   ]
  },
  {
   "cell_type": "code",
   "execution_count": null,
   "metadata": {
    "collapsed": false
   },
   "outputs": [],
   "source": [
    "last_orders_info = orders[orders.eval_set != 'prior'][['user_id',  'order_dow', 'order_hour_of_day', 'eval_set', 'days_since_prior_order']]\n",
    "user_info = user_info.merge(last_orders_info, on='user_id', how='left')\n",
    "user_info.rename(columns = {\n",
    "    'order_dow': 'user_order_dow',\n",
    "    'order_hour_of_day': 'user_order_hour_of_day',\n",
    "    'eval_set':'user_eval_set', \n",
    "    'days_since_prior_order': 'user_days_since_prior_order'\n",
    "}, inplace = True)"
   ]
  },
  {
   "cell_type": "code",
   "execution_count": null,
   "metadata": {
    "collapsed": false
   },
   "outputs": [],
   "source": [
    "user_info.head()"
   ]
  },
  {
   "cell_type": "markdown",
   "metadata": {},
   "source": [
    "## User mean days since prior"
   ]
  },
  {
   "cell_type": "code",
   "execution_count": null,
   "metadata": {
    "collapsed": true
   },
   "outputs": [],
   "source": [
    "user_orders = orders[orders['eval_set'] == \"prior\"].groupby(['user_id'])['order_number'].max().to_frame('user_orders')\n",
    "user_orders['user_period'] = orders[orders['eval_set'] == \"prior\"].groupby(['user_id'])['days_since_prior_order'].sum()\n",
    "user_orders['user_days_since_prior_mean'] = orders[orders['eval_set'] == \"prior\"].groupby(['user_id'])['days_since_prior_order'].mean()"
   ]
  },
  {
   "cell_type": "code",
   "execution_count": null,
   "metadata": {
    "collapsed": false
   },
   "outputs": [],
   "source": [
    "#concatenate\n",
    "user_info = pd.read_hdf(FEATURES_PATH+\"features.h5\", \"user_info\")\n",
    "user_info['user_days_since_prior_mean']=  user_orders['user_days_since_prior_mean'].astype(np.float32)\n",
    "user_info.to_hdf(FEATURES_PATH+\"features.h5\", \"user_info\", mode='a')"
   ]
  },
  {
   "cell_type": "markdown",
   "metadata": {},
   "source": [
    "### Average dow, hod"
   ]
  },
  {
   "cell_type": "code",
   "execution_count": null,
   "metadata": {
    "collapsed": true
   },
   "outputs": [],
   "source": [
    "user_orders = orders[orders['eval_set'] == \"prior\"].groupby(['user_id']).agg({\n",
    "    \"order_dow\": np.mean,\n",
    "    \"order_hour_of_day\": np.mean}).astype(np.float32).reset_index()"
   ]
  },
  {
   "cell_type": "code",
   "execution_count": null,
   "metadata": {
    "collapsed": false
   },
   "outputs": [],
   "source": [
    "user_orders.rename(columns = \n",
    "                   {\"order_dow\":\"user_order_dow_mean\", \n",
    "                    \"order_hour_of_day\":\"user_order_hour_of_day_mean\"}, inplace = True)"
   ]
  },
  {
   "cell_type": "code",
   "execution_count": null,
   "metadata": {
    "collapsed": true
   },
   "outputs": [],
   "source": [
    "user_info = pd.read_hdf(FEATURES_PATH+\"features.h5\", \"user_info\").reset_index()\n",
    "user_info = user_info.merge(user_orders, on =\"user_id\", how=\"left\")\n",
    "user_info.set_index('user_id').to_hdf(FEATURES_PATH+\"features.h5\", \"user_info\", mode='a')"
   ]
  },
  {
   "cell_type": "code",
   "execution_count": null,
   "metadata": {
    "collapsed": false
   },
   "outputs": [],
   "source": [
    "user_info.isnull().sum()"
   ]
  },
  {
   "cell_type": "markdown",
   "metadata": {},
   "source": [
    "# PRODUCT"
   ]
  },
  {
   "cell_type": "code",
   "execution_count": null,
   "metadata": {
    "collapsed": true
   },
   "outputs": [],
   "source": [
    "product_reorder_sum = priors.groupby('product_id').reordered.sum()\n",
    "product_reorder_size = priors.groupby('product_id').reordered.size()\n",
    "product_reorder_ratio = ((product_reorder_sum+1)/(product_reorder_size + 1)).astype(np.float32)\n",
    "product_info = pd.DataFrame(product_reorder_ratio)\n",
    "product_info.rename(columns={\"reordered\": \"product_reorder_ratio\"}, inplace=True)\n",
    "product_info.reset_index(inplace = True)\n",
    "product_info = pd.merge(product_info, products, on=\"product_id\", how=\"inner\")"
   ]
  },
  {
   "cell_type": "code",
   "execution_count": null,
   "metadata": {
    "collapsed": false
   },
   "outputs": [],
   "source": [
    "product_info.head()"
   ]
  },
  {
   "cell_type": "code",
   "execution_count": null,
   "metadata": {
    "collapsed": false
   },
   "outputs": [],
   "source": [
    "product_info.sort_values(by=\"product_reorder_ratio\")"
   ]
  },
  {
   "cell_type": "code",
   "execution_count": null,
   "metadata": {
    "collapsed": true
   },
   "outputs": [],
   "source": [
    "product_info.set_index('product_id').to_hdf(FEATURES_PATH+\"features.h5\", \"product_info\", mode='a')\n",
    "#product_info.set_index('product_id').to_csv(FEATURES_PATH +  \"product_info.csv\")"
   ]
  },
  {
   "cell_type": "markdown",
   "metadata": {},
   "source": [
    "## Product reorder probability"
   ]
  },
  {
   "cell_type": "code",
   "execution_count": null,
   "metadata": {
    "collapsed": false
   },
   "outputs": [],
   "source": [
    "priors = priors.merge(orders, on=\"order_id\", how=\"left\")\n",
    "priors.sort_values(['user_id', 'order_number', 'product_id'], ascending=True, inplace=True)\n",
    "priors[\"product_time\"] = priors.groupby(['user_id', 'product_id']).cumcount()+1\n"
   ]
  },
  {
   "cell_type": "code",
   "execution_count": null,
   "metadata": {
    "collapsed": true
   },
   "outputs": [],
   "source": [
    "sub1 = priors[priors['product_time'] == 1].groupby('product_id').size().to_frame('prod_first_orders')\n",
    "sub1['prod_second_orders'] = priors[priors['product_time'] == 2].groupby('product_id').size().to_frame('prod_second_orders')\n",
    "sub1.prod_second_orders.fillna(0, inplace = True)\n",
    "sub1['prod_reorder_probability'] = sub1['prod_second_orders']/sub1['prod_first_orders']"
   ]
  },
  {
   "cell_type": "code",
   "execution_count": null,
   "metadata": {
    "collapsed": false
   },
   "outputs": [],
   "source": [
    "product_info = pd.read_hdf(FEATURES_PATH+\"features.h5\", \"product_info\")\n",
    "product_info['product_reorder_probability']  = sub1['prod_reorder_probability'].astype(np.float32)\n",
    "product_info.to_hdf(FEATURES_PATH+\"features.h5\", \"product_info\", mode= \"a\")"
   ]
  },
  {
   "cell_type": "code",
   "execution_count": null,
   "metadata": {
    "collapsed": true
   },
   "outputs": [],
   "source": [
    "product_info = pd.read_hdf(FEATURES_PATH+\"features.h5\", \"product_info\")"
   ]
  },
  {
   "cell_type": "code",
   "execution_count": null,
   "metadata": {
    "collapsed": false
   },
   "outputs": [],
   "source": [
    "product_info.dtypes"
   ]
  },
  {
   "cell_type": "markdown",
   "metadata": {},
   "source": [
    "### Is organic"
   ]
  },
  {
   "cell_type": "code",
   "execution_count": null,
   "metadata": {
    "collapsed": true
   },
   "outputs": [],
   "source": [
    "products = pd.read_csv(IDIR + 'products.csv', dtype={\n",
    "        'product_id': np.uint16,\n",
    "        'order_id': np.int32,\n",
    "        'aisle_id': np.uint8,\n",
    "        'department_id': np.uint8})"
   ]
  },
  {
   "cell_type": "code",
   "execution_count": null,
   "metadata": {
    "collapsed": false
   },
   "outputs": [],
   "source": [
    "products.head()"
   ]
  },
  {
   "cell_type": "code",
   "execution_count": null,
   "metadata": {
    "collapsed": false
   },
   "outputs": [],
   "source": [
    "products['is_organic'] = products.product_name.str.contains('organic', case=False, na = False)"
   ]
  },
  {
   "cell_type": "code",
   "execution_count": null,
   "metadata": {
    "collapsed": false
   },
   "outputs": [],
   "source": [
    "products['is_organic'].value_counts()"
   ]
  },
  {
   "cell_type": "code",
   "execution_count": null,
   "metadata": {
    "collapsed": false
   },
   "outputs": [],
   "source": [
    "products.set_index('product_id', inplace=True)"
   ]
  },
  {
   "cell_type": "code",
   "execution_count": null,
   "metadata": {
    "collapsed": true
   },
   "outputs": [],
   "source": [
    "product_info = pd.read_hdf(FEATURES_PATH+\"features.h5\", \"product_info\")\n",
    "product_info['is_organic']  = products['is_organic'].astype(np.uint8)\n",
    "product_info.to_hdf(FEATURES_PATH+\"features.h5\", \"product_info\", mode= \"a\")"
   ]
  },
  {
   "cell_type": "code",
   "execution_count": null,
   "metadata": {
    "collapsed": false
   },
   "outputs": [],
   "source": [
    "product_info.head()"
   ]
  },
  {
   "cell_type": "code",
   "execution_count": null,
   "metadata": {
    "collapsed": true
   },
   "outputs": [],
   "source": []
  },
  {
   "cell_type": "markdown",
   "metadata": {
    "collapsed": true
   },
   "source": [
    "# AISLE DEPARTMENT"
   ]
  },
  {
   "cell_type": "code",
   "execution_count": null,
   "metadata": {
    "collapsed": true
   },
   "outputs": [],
   "source": [
    "#need reset"
   ]
  },
  {
   "cell_type": "code",
   "execution_count": null,
   "metadata": {
    "collapsed": false
   },
   "outputs": [],
   "source": [
    "priors = pd.merge(priors, orders[['user_id', 'order_id','order_number']], on='order_id', how='left')\n",
    "priors = pd.merge(priors, products, on='product_id', how='left')"
   ]
  },
  {
   "cell_type": "code",
   "execution_count": null,
   "metadata": {
    "collapsed": true
   },
   "outputs": [],
   "source": [
    "aisle_reordered_sum = priors.groupby('aisle_id').reordered.sum()\n",
    "aisle_reordered_size = priors.groupby('aisle_id').reordered.size()\n",
    "aisle_reordered_ratio = ((aisle_reordered_sum + 1)/(aisle_reordered_size + 1)).astype(np.float32)\n",
    "aisle_info = pd.DataFrame(aisle_reordered_ratio)\n",
    "aisle_info.rename(columns={\"reordered\": \"aisle_reorder_ratio\"}, inplace=True)"
   ]
  },
  {
   "cell_type": "code",
   "execution_count": null,
   "metadata": {
    "collapsed": false
   },
   "outputs": [],
   "source": [
    "aisle_info.head()"
   ]
  },
  {
   "cell_type": "code",
   "execution_count": null,
   "metadata": {
    "collapsed": false
   },
   "outputs": [],
   "source": [
    "aisle_info.sort_values(by=\"aisle_reorder_ratio\")"
   ]
  },
  {
   "cell_type": "code",
   "execution_count": null,
   "metadata": {
    "collapsed": false
   },
   "outputs": [],
   "source": [
    "aisle_info.to_hdf(FEATURES_PATH+\"features.h5\", \"aisle_info\", mode='a')\n",
    "#aisle_info.to_csv(FEATURES_PATH + \"aisle_info.csv\")"
   ]
  },
  {
   "cell_type": "code",
   "execution_count": null,
   "metadata": {
    "collapsed": false
   },
   "outputs": [],
   "source": [
    "department_reordered_sum = priors.groupby('department_id').reordered.sum()\n",
    "department_reordered_size = priors.groupby('department_id').reordered.size()\n",
    "department_reordered_ratio = ((department_reordered_sum + 1)/(department_reordered_size + 1)).astype(np.float32)\n",
    "department_info = pd.DataFrame(department_reordered_ratio)\n",
    "department_info.rename(columns={\"reordered\": \"dep_reorder_ratio\"}, inplace=True)"
   ]
  },
  {
   "cell_type": "code",
   "execution_count": null,
   "metadata": {
    "collapsed": false
   },
   "outputs": [],
   "source": [
    "department_info.head()"
   ]
  },
  {
   "cell_type": "code",
   "execution_count": null,
   "metadata": {
    "collapsed": true
   },
   "outputs": [],
   "source": [
    "department_info.to_hdf(FEATURES_PATH+\"features.h5\", \"department_info\", mode='a')\n",
    "#department_info.to_csv(FEATURES_PATH + \"department_info.csv\")"
   ]
  },
  {
   "cell_type": "markdown",
   "metadata": {},
   "source": [
    "## User Aisle"
   ]
  },
  {
   "cell_type": "code",
   "execution_count": null,
   "metadata": {
    "collapsed": true
   },
   "outputs": [],
   "source": [
    "user_aisle_reordered_sum = priors.groupby(['user_id', 'aisle_id']).reordered.sum()\n",
    "user_aisle_reordered_size = priors.groupby(['user_id', 'aisle_id']).reordered.size()\n",
    "user_aisle_reordered_ratio = ((user_aisle_reordered_sum + 1)/(user_aisle_reordered_size + 1)).astype(np.float32)\n",
    "user_aisle_info = pd.DataFrame(user_aisle_reordered_ratio)\n",
    "user_aisle_info.rename(columns={\"reordered\": \"user_aisle_reordered_ratio\"}, inplace=True)"
   ]
  },
  {
   "cell_type": "code",
   "execution_count": null,
   "metadata": {
    "collapsed": false
   },
   "outputs": [],
   "source": [
    "user_aisle_info.head()"
   ]
  },
  {
   "cell_type": "code",
   "execution_count": null,
   "metadata": {
    "collapsed": false
   },
   "outputs": [],
   "source": [
    "user_aisle_info.sort_values(by=\"user_aisle_reordered_ratio\").head()"
   ]
  },
  {
   "cell_type": "code",
   "execution_count": null,
   "metadata": {
    "collapsed": false
   },
   "outputs": [],
   "source": [
    "print(user_aisle_info.isnull().sum())"
   ]
  },
  {
   "cell_type": "code",
   "execution_count": null,
   "metadata": {
    "collapsed": true
   },
   "outputs": [],
   "source": [
    "user_aisle_info.to_hdf(FEATURES_PATH+\"features.h5\", \"user_aisle_info\", mode='a')\n",
    "#user_aisle_info.to_csv(FEATURES_PATH + \"user_aisle_info.csv\")"
   ]
  },
  {
   "cell_type": "markdown",
   "metadata": {},
   "source": [
    "### User aisle ratio (proportion)"
   ]
  },
  {
   "cell_type": "code",
   "execution_count": null,
   "metadata": {
    "collapsed": true
   },
   "outputs": [],
   "source": [
    "#reset\n",
    "priors = pd.merge(priors, orders[['user_id', 'order_id']], on='order_id', how='left')\n",
    "priors = pd.merge(priors, products, on='product_id', how='left')"
   ]
  },
  {
   "cell_type": "code",
   "execution_count": null,
   "metadata": {
    "collapsed": false
   },
   "outputs": [],
   "source": [
    "user_aisle = priors.groupby(['user_id', 'aisle_id']).size().to_frame(\"user_aisle_count\").reset_index()\n",
    "user_prod_count = priors.groupby(['user_id']).size()\n",
    "user_aisle['user_prod_count'] = user_aisle['user_id'].map(user_prod_count)\n",
    "user_aisle['user_aisle_ratio'] = (user_aisle['user_aisle_count']/ user_aisle['user_prod_count']).astype(np.float32)\n",
    "user_aisle.set_index(['user_id', 'aisle_id'], inplace = True)"
   ]
  },
  {
   "cell_type": "code",
   "execution_count": null,
   "metadata": {
    "collapsed": false
   },
   "outputs": [],
   "source": [
    "#merge\n",
    "user_aisle_info = pd.read_hdf(FEATURES_PATH+\"features.h5\", \"user_aisle_info\")\n",
    "user_aisle_info['user_aisle_ratio'] = user_aisle['user_aisle_ratio']\n",
    "user_aisle_info.to_hdf(FEATURES_PATH+\"features.h5\", \"user_aisle_info\", mode =\"a\")"
   ]
  },
  {
   "cell_type": "code",
   "execution_count": null,
   "metadata": {
    "collapsed": false
   },
   "outputs": [],
   "source": [
    "user_aisle_info.head()"
   ]
  },
  {
   "cell_type": "markdown",
   "metadata": {},
   "source": [
    "## User Department"
   ]
  },
  {
   "cell_type": "code",
   "execution_count": null,
   "metadata": {
    "collapsed": true
   },
   "outputs": [],
   "source": [
    "user_dep_reordered_sum = priors.groupby(['user_id', 'department_id']).reordered.sum()\n",
    "user_dep_reordered_size = priors.groupby(['user_id', 'department_id']).reordered.size()\n",
    "user_dep_reordered_ratio = ((user_dep_reordered_sum + 1)/(user_dep_reordered_size + 1)).astype(np.float32)\n",
    "user_dep_info = pd.DataFrame(user_dep_reordered_ratio)\n",
    "user_dep_info.rename(columns={\"reordered\": \"user_dep_reordered_ratio\"}, inplace=True)"
   ]
  },
  {
   "cell_type": "code",
   "execution_count": null,
   "metadata": {
    "collapsed": false
   },
   "outputs": [],
   "source": [
    "user_dep_info.head()"
   ]
  },
  {
   "cell_type": "code",
   "execution_count": null,
   "metadata": {
    "collapsed": false
   },
   "outputs": [],
   "source": [
    "user_dep_info.sort_values(by=\"user_dep_reordered_ratio\").head()"
   ]
  },
  {
   "cell_type": "code",
   "execution_count": null,
   "metadata": {
    "collapsed": false
   },
   "outputs": [],
   "source": [
    "user_dep_info.isnull().sum()"
   ]
  },
  {
   "cell_type": "code",
   "execution_count": null,
   "metadata": {
    "collapsed": true
   },
   "outputs": [],
   "source": [
    "user_dep_info.to_hdf(FEATURES_PATH+\"features.h5\", \"user_dep_info\", mode='a')\n",
    "#user_dep_info.to_csv(FEATURES_PATH + \"user_dep_info.csv\")"
   ]
  },
  {
   "cell_type": "markdown",
   "metadata": {},
   "source": [
    "### User department ratio (proportion)"
   ]
  },
  {
   "cell_type": "code",
   "execution_count": null,
   "metadata": {
    "collapsed": false
   },
   "outputs": [],
   "source": [
    "user_dep = priors.groupby(['user_id', 'department_id']).size().to_frame(\"user_dep_count\").reset_index()\n",
    "user_prod_count = priors.groupby(['user_id']).size()\n",
    "user_dep['user_prod_count'] = user_dep['user_id'].map(user_prod_count)\n",
    "user_dep['user_dep_ratio'] = (user_dep['user_dep_count']/ user_dep['user_prod_count']).astype(np.float32)\n",
    "user_dep.set_index(['user_id', 'department_id'], inplace = True)"
   ]
  },
  {
   "cell_type": "code",
   "execution_count": null,
   "metadata": {
    "collapsed": false
   },
   "outputs": [],
   "source": [
    "user_dep.head()"
   ]
  },
  {
   "cell_type": "code",
   "execution_count": null,
   "metadata": {
    "collapsed": false
   },
   "outputs": [],
   "source": [
    "#merge\n",
    "user_dep_info = pd.read_hdf(FEATURES_PATH+\"features.h5\", \"user_dep_info\")\n",
    "user_dep_info['user_dep_ratio'] = user_dep['user_dep_ratio']"
   ]
  },
  {
   "cell_type": "code",
   "execution_count": null,
   "metadata": {
    "collapsed": false
   },
   "outputs": [],
   "source": [
    "user_dep_info"
   ]
  },
  {
   "cell_type": "markdown",
   "metadata": {
    "collapsed": true
   },
   "source": [
    "# Test"
   ]
  },
  {
   "cell_type": "code",
   "execution_count": null,
   "metadata": {
    "collapsed": true
   },
   "outputs": [],
   "source": []
  }
 ],
 "metadata": {
  "kernelspec": {
   "display_name": "Python 3",
   "language": "python",
   "name": "python3"
  },
  "language_info": {
   "codemirror_mode": {
    "name": "ipython",
    "version": 3
   },
   "file_extension": ".py",
   "mimetype": "text/x-python",
   "name": "python",
   "nbconvert_exporter": "python",
   "pygments_lexer": "ipython3",
   "version": "3.6.0"
  }
 },
 "nbformat": 4,
 "nbformat_minor": 2
}
