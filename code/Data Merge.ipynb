{
 "cells": [
  {
   "cell_type": "code",
   "execution_count": 1,
   "metadata": {
    "collapsed": false
   },
   "outputs": [],
   "source": [
    "# Author : Trong Canh Nguyen\n",
    "\n",
    "# This script considers all the products a user has ordered\n",
    "#\n",
    "# We train a model computing the probability of reorder on the \"train\" data\n",
    "#\n",
    "# For the submission, we keep the orders that have a probability of\n",
    "# reorder higher than a threshold\n",
    "\n",
    "\n",
    "import numpy as np\n",
    "import pandas as pd\n",
    "import gc\n",
    "\n",
    "IDIR = '../input/'\n",
    "FEATURES_PATH = './features3/'"
   ]
  },
  {
   "cell_type": "code",
   "execution_count": null,
   "metadata": {
    "collapsed": false
   },
   "outputs": [],
   "source": [
    "gc.collect()"
   ]
  },
  {
   "cell_type": "markdown",
   "metadata": {},
   "source": [
    "## Data Construction"
   ]
  },
  {
   "cell_type": "code",
   "execution_count": null,
   "metadata": {
    "collapsed": false
   },
   "outputs": [],
   "source": [
    "dtype_dict = {\n",
    "    'user_id': np.int32,\n",
    "    'product_id': np.int32,\n",
    "    \n",
    "    'up_orders': np.int16,\n",
    "    'up_first_order':np.int16,\n",
    "    'up_last_order':np.int16,\n",
    "    'up_add_to_cart_order_mean':np.float32,\n",
    "    'up_order_rate': np.float32,\n",
    "    'up_order_rate_since_first_order': np.float32,\n",
    "    'up_orders_since_last_order':np.float32,\n",
    "    'up_days_since_last_order': np.int16,\n",
    "    'up_in_same_day_previous_order': np.int8,\n",
    "    \n",
    "    'user_total_order': np.int16,\n",
    "    'user_order_size_mean': np.float32,\n",
    "    'user_reorder_rate': np.float32,\n",
    "    'user_days_since_last_order': np.float32,\n",
    "    \n",
    "    \n",
    "    'up_reordered': np.float32,\n",
    "    \n",
    "    'product_reorder_ratio':np.float32,\n",
    "    \n",
    "    'aisle_id':np.int16,\n",
    "    'department_id':np.int16,\n",
    "    'aisle_reorder_rate': np.float32,\n",
    "    'dep_reorder_rate': np.float32,\n",
    "    'user_aisle_reorder_rate': np.float32,\n",
    "    'user_dep_reorder_rate': np.float32\n",
    "    \n",
    "    \n",
    "}"
   ]
  },
  {
   "cell_type": "code",
   "execution_count": null,
   "metadata": {
    "collapsed": false
   },
   "outputs": [],
   "source": [
    "import pickle\n",
    "with open(FEATURES_PATH + 'dtypes.pickle', 'wb') as f:\n",
    "    pickle.dump(dtype_dict, f)"
   ]
  },
  {
   "cell_type": "markdown",
   "metadata": {},
   "source": [
    "### Preload if necessary"
   ]
  },
  {
   "cell_type": "code",
   "execution_count": null,
   "metadata": {
    "collapsed": false
   },
   "outputs": [],
   "source": [
    "data = pd.read_csv(FEATURES_PATH + 'data.csv', dtype= dtype_dict)\n",
    "print(\"Memory (Gb):\", data.memory_usage().sum()/1000000)"
   ]
  },
  {
   "cell_type": "markdown",
   "metadata": {},
   "source": [
    "### Append features"
   ]
  },
  {
   "cell_type": "code",
   "execution_count": 2,
   "metadata": {
    "collapsed": false
   },
   "outputs": [
    {
     "name": "stdout",
     "output_type": "stream",
     "text": [
      "done\n"
     ]
    }
   ],
   "source": [
    "#data = pd.read_csv(FEATURES_PATH + \"up_order_rates.csv\", dtype= dtype_dict)\n",
    "data = pd.read_hdf(FEATURES_PATH + \"features.h5\", \"up_info\")\n",
    "data.reset_index(inplace = True)\n",
    "print('done')"
   ]
  },
  {
   "cell_type": "code",
   "execution_count": 3,
   "metadata": {
    "collapsed": false
   },
   "outputs": [
    {
     "name": "stdout",
     "output_type": "stream",
     "text": [
      "done\n"
     ]
    }
   ],
   "source": [
    "#data = pd.read_csv(FEATURES_PATH + \"up_order_rates.csv\", dtype= dtype_dict)\n",
    "tmp = pd.read_hdf(FEATURES_PATH + \"features.h5\", \"up_order_rates\").reset_index()\n",
    "data = pd.merge(data, tmp, on=[\"user_id\", \"product_id\"], how = 'left')\n",
    "print('done')"
   ]
  },
  {
   "cell_type": "code",
   "execution_count": 4,
   "metadata": {
    "collapsed": false
   },
   "outputs": [
    {
     "name": "stdout",
     "output_type": "stream",
     "text": [
      "done\n"
     ]
    }
   ],
   "source": [
    "#tmp = pd.read_csv(FEATURES_PATH + \"up_days_since_last_order.csv\", dtype= dtype_dict)\n",
    "tmp = pd.read_hdf(FEATURES_PATH + \"features.h5\", \"up_days_since_last_order\").reset_index()\n",
    "data = pd.merge(data, tmp, on=[\"user_id\", \"product_id\"], how = 'left')\n",
    "print('done')"
   ]
  },
  {
   "cell_type": "code",
   "execution_count": 5,
   "metadata": {
    "collapsed": false
   },
   "outputs": [
    {
     "name": "stdout",
     "output_type": "stream",
     "text": [
      "done\n"
     ]
    }
   ],
   "source": [
    "#tmp = pd.read_csv(FEATURES_PATH + \"up_add_to_cart_order_mean.csv\", dtype= dtype_dict)\n",
    "tmp = pd.read_hdf(FEATURES_PATH + \"features.h5\", \"up_add_to_cart_order_mean\").reset_index()\n",
    "data = pd.merge(data, tmp, on=[\"user_id\", \"product_id\"], how = 'left')\n",
    "print('done')"
   ]
  },
  {
   "cell_type": "code",
   "execution_count": 6,
   "metadata": {
    "collapsed": false
   },
   "outputs": [
    {
     "name": "stdout",
     "output_type": "stream",
     "text": [
      "done\n"
     ]
    }
   ],
   "source": [
    "#tmp = pd.read_csv(FEATURES_PATH + \"up_reordered.csv\", dtype= dtype_dict)\n",
    "tmp = pd.read_hdf(FEATURES_PATH + \"features.h5\", \"up_reordered\").reset_index()\n",
    "data = pd.merge(data, tmp, on=[\"user_id\", \"product_id\"], how = 'left')\n",
    "print('done')"
   ]
  },
  {
   "cell_type": "code",
   "execution_count": 7,
   "metadata": {
    "collapsed": false
   },
   "outputs": [
    {
     "name": "stdout",
     "output_type": "stream",
     "text": [
      "data memory 958.172616\n"
     ]
    },
    {
     "data": {
      "text/plain": [
       "168"
      ]
     },
     "execution_count": 7,
     "metadata": {},
     "output_type": "execute_result"
    }
   ],
   "source": [
    "del tmp\n",
    "print(\"data memory\", data.memory_usage().sum()/1000000)\n",
    "gc.collect()"
   ]
  },
  {
   "cell_type": "code",
   "execution_count": null,
   "metadata": {
    "collapsed": false
   },
   "outputs": [],
   "source": [
    "data.head()"
   ]
  },
  {
   "cell_type": "markdown",
   "metadata": {},
   "source": [
    "### User info"
   ]
  },
  {
   "cell_type": "code",
   "execution_count": 8,
   "metadata": {
    "collapsed": true
   },
   "outputs": [],
   "source": [
    "#user_info = pd.read_csv(FEATURES_PATH + \"user_info.csv\", dtype= dtype_dict)\n",
    "user_info = pd.read_hdf(FEATURES_PATH + \"features.h5\", \"user_info\").reset_index()"
   ]
  },
  {
   "cell_type": "code",
   "execution_count": null,
   "metadata": {
    "collapsed": false
   },
   "outputs": [],
   "source": [
    "user_info.head()"
   ]
  },
  {
   "cell_type": "code",
   "execution_count": 9,
   "metadata": {
    "collapsed": true
   },
   "outputs": [],
   "source": [
    "data = pd.merge(data, user_info, on=[\"user_id\"], how = 'left')"
   ]
  },
  {
   "cell_type": "markdown",
   "metadata": {},
   "source": [
    "### Product info"
   ]
  },
  {
   "cell_type": "code",
   "execution_count": 10,
   "metadata": {
    "collapsed": false
   },
   "outputs": [
    {
     "data": {
      "text/html": [
       "<div>\n",
       "<style>\n",
       "    .dataframe thead tr:only-child th {\n",
       "        text-align: right;\n",
       "    }\n",
       "\n",
       "    .dataframe thead th {\n",
       "        text-align: left;\n",
       "    }\n",
       "\n",
       "    .dataframe tbody tr th {\n",
       "        vertical-align: top;\n",
       "    }\n",
       "</style>\n",
       "<table border=\"1\" class=\"dataframe\">\n",
       "  <thead>\n",
       "    <tr style=\"text-align: right;\">\n",
       "      <th></th>\n",
       "      <th>product_id</th>\n",
       "      <th>product_reorder_ratio</th>\n",
       "      <th>aisle_id</th>\n",
       "      <th>department_id</th>\n",
       "      <th>product_reorder_probability</th>\n",
       "      <th>is_organic</th>\n",
       "    </tr>\n",
       "  </thead>\n",
       "  <tbody>\n",
       "    <tr>\n",
       "      <th>0</th>\n",
       "      <td>1</td>\n",
       "      <td>0.613600</td>\n",
       "      <td>61</td>\n",
       "      <td>19</td>\n",
       "      <td>0.385475</td>\n",
       "      <td>0</td>\n",
       "    </tr>\n",
       "    <tr>\n",
       "      <th>1</th>\n",
       "      <td>2</td>\n",
       "      <td>0.142857</td>\n",
       "      <td>104</td>\n",
       "      <td>13</td>\n",
       "      <td>0.102564</td>\n",
       "      <td>0</td>\n",
       "    </tr>\n",
       "    <tr>\n",
       "      <th>2</th>\n",
       "      <td>3</td>\n",
       "      <td>0.733813</td>\n",
       "      <td>94</td>\n",
       "      <td>7</td>\n",
       "      <td>0.486486</td>\n",
       "      <td>0</td>\n",
       "    </tr>\n",
       "    <tr>\n",
       "      <th>3</th>\n",
       "      <td>4</td>\n",
       "      <td>0.448485</td>\n",
       "      <td>38</td>\n",
       "      <td>1</td>\n",
       "      <td>0.351648</td>\n",
       "      <td>0</td>\n",
       "    </tr>\n",
       "    <tr>\n",
       "      <th>4</th>\n",
       "      <td>5</td>\n",
       "      <td>0.625000</td>\n",
       "      <td>5</td>\n",
       "      <td>13</td>\n",
       "      <td>0.666667</td>\n",
       "      <td>0</td>\n",
       "    </tr>\n",
       "  </tbody>\n",
       "</table>\n",
       "</div>"
      ],
      "text/plain": [
       "   product_id  product_reorder_ratio  aisle_id  department_id  \\\n",
       "0           1               0.613600        61             19   \n",
       "1           2               0.142857       104             13   \n",
       "2           3               0.733813        94              7   \n",
       "3           4               0.448485        38              1   \n",
       "4           5               0.625000         5             13   \n",
       "\n",
       "   product_reorder_probability  is_organic  \n",
       "0                     0.385475           0  \n",
       "1                     0.102564           0  \n",
       "2                     0.486486           0  \n",
       "3                     0.351648           0  \n",
       "4                     0.666667           0  "
      ]
     },
     "execution_count": 10,
     "metadata": {},
     "output_type": "execute_result"
    }
   ],
   "source": [
    "#product_info = pd.read_csv(FEATURES_PATH + \"product_info.csv\", dtype= dtype_dict)\n",
    "product_info = pd.read_hdf(FEATURES_PATH + \"features.h5\", \"product_info\").reset_index()\n",
    "product_info.head()"
   ]
  },
  {
   "cell_type": "code",
   "execution_count": 11,
   "metadata": {
    "collapsed": true
   },
   "outputs": [],
   "source": [
    "data = pd.merge(data, product_info, on=[\"product_id\"], how = 'left')"
   ]
  },
  {
   "cell_type": "code",
   "execution_count": 12,
   "metadata": {
    "collapsed": false
   },
   "outputs": [
    {
     "name": "stdout",
     "output_type": "stream",
     "text": [
      "data memory 1583.646407\n"
     ]
    },
    {
     "data": {
      "text/plain": [
       "95"
      ]
     },
     "execution_count": 12,
     "metadata": {},
     "output_type": "execute_result"
    }
   ],
   "source": [
    "print(\"data memory\", data.memory_usage().sum()/1000000)\n",
    "gc.collect()"
   ]
  },
  {
   "cell_type": "markdown",
   "metadata": {},
   "source": [
    "### Aisle & Department"
   ]
  },
  {
   "cell_type": "code",
   "execution_count": 13,
   "metadata": {
    "collapsed": false
   },
   "outputs": [],
   "source": [
    "#aisle_info = pd.read_csv(FEATURES_PATH + \"aisle_info.csv\", dtype= dtype_dict)\n",
    "aisle_info = pd.read_hdf(FEATURES_PATH + \"features.h5\", \"aisle_info\").reset_index()\n",
    "data = pd.merge(data, aisle_info, on=[\"aisle_id\"], how = 'left')"
   ]
  },
  {
   "cell_type": "code",
   "execution_count": 14,
   "metadata": {
    "collapsed": true
   },
   "outputs": [],
   "source": [
    "#department_info = pd.read_csv(FEATURES_PATH + \"department_info.csv\", dtype= dtype_dict)\n",
    "department_info = pd.read_hdf(FEATURES_PATH + \"features.h5\", \"department_info\").reset_index()\n",
    "data = pd.merge(data, department_info, on=[\"department_id\"], how = 'left')"
   ]
  },
  {
   "cell_type": "code",
   "execution_count": 15,
   "metadata": {
    "collapsed": false
   },
   "outputs": [
    {
     "name": "stdout",
     "output_type": "stream",
     "text": [
      "merge user_aisle_info\n"
     ]
    }
   ],
   "source": [
    "#user_aisle_info = pd.read_csv(FEATURES_PATH + \"user_aisle_info.csv\", dtype= dtype_dict)\n",
    "user_aisle_info = pd.read_hdf(FEATURES_PATH + \"features.h5\", \"user_aisle_info\").reset_index()\n",
    "data = pd.merge(data, user_aisle_info, on=[\"user_id\", \"aisle_id\"], how = 'left')\n",
    "print(\"merge user_aisle_info\")"
   ]
  },
  {
   "cell_type": "code",
   "execution_count": 16,
   "metadata": {
    "collapsed": false
   },
   "outputs": [
    {
     "name": "stdout",
     "output_type": "stream",
     "text": [
      "merge user_dep_info\n"
     ]
    }
   ],
   "source": [
    "#user_dep_info = pd.read_csv(FEATURES_PATH + \"user_dep_info.csv\", dtype= dtype_dict)\n",
    "user_dep_info = pd.read_hdf(FEATURES_PATH + \"features.h5\", \"user_dep_info\").reset_index()\n",
    "data = pd.merge(data, user_dep_info, on=[\"user_id\", \"department_id\"], how = 'left')\n",
    "print(\"merge user_dep_info\")"
   ]
  },
  {
   "cell_type": "code",
   "execution_count": 17,
   "metadata": {
    "collapsed": false
   },
   "outputs": [
    {
     "name": "stdout",
     "output_type": "stream",
     "text": [
      "True\n"
     ]
    }
   ],
   "source": [
    "print(len(data) == 13307953)"
   ]
  },
  {
   "cell_type": "code",
   "execution_count": 18,
   "metadata": {
    "collapsed": false
   },
   "outputs": [],
   "source": [
    "data.up_reordered = data.up_reordered.astype(np.uint8)"
   ]
  },
  {
   "cell_type": "markdown",
   "metadata": {},
   "source": [
    "### Computed features"
   ]
  },
  {
   "cell_type": "code",
   "execution_count": 19,
   "metadata": {
    "collapsed": false
   },
   "outputs": [],
   "source": [
    "data['up_recency'] = (data.up_last_order/data.user_total_order).astype(np.float32)\n",
    "#data['up_in_same_day_previous_order'] = ((data.user_days_since_last_order == 0) &  (data.up_orders_since_last_order == 0)).astype(np.int8)"
   ]
  },
  {
   "cell_type": "markdown",
   "metadata": {},
   "source": [
    "## SAVE"
   ]
  },
  {
   "cell_type": "code",
   "execution_count": 20,
   "metadata": {
    "collapsed": false
   },
   "outputs": [
    {
     "data": {
      "text/plain": [
       "140"
      ]
     },
     "execution_count": 20,
     "metadata": {},
     "output_type": "execute_result"
    }
   ],
   "source": [
    "gc.collect()"
   ]
  },
  {
   "cell_type": "code",
   "execution_count": 21,
   "metadata": {
    "collapsed": false
   },
   "outputs": [],
   "source": [
    "data.set_index([\"user_id\", \"product_id\"], inplace = True)\n",
    "data.to_hdf(FEATURES_PATH + \"./data.h5\", \"data\")"
   ]
  },
  {
   "cell_type": "code",
   "execution_count": 22,
   "metadata": {
    "collapsed": false
   },
   "outputs": [
    {
     "data": {
      "text/plain": [
       "up_days_since_prior_order_mean        0\n",
       "up_order_dow_mean                     0\n",
       "up_order_hour_of_day_mean             0\n",
       "up_add_to_cart_order_relative_mean    0\n",
       "up_orders                             0\n",
       "up_first_order                        0\n",
       "up_last_order                         0\n",
       "up_order_rate                         0\n",
       "up_orders_since_last_order            0\n",
       "up_order_rate_since_first_order       0\n",
       "up_days_since_last_order              0\n",
       "up_add_to_cart_order_mean             0\n",
       "up_reordered                          0\n",
       "user_total_order                      0\n",
       "user_reorder_rate                     0\n",
       "user_order_size_mean                  0\n",
       "user_days_since_prior_mean            0\n",
       "user_order_dow                        0\n",
       "user_order_hour_of_day                0\n",
       "user_eval_set                         0\n",
       "user_days_since_prior_order           0\n",
       "user_order_dow_mean                   0\n",
       "user_order_hour_of_day_mean           0\n",
       "product_reorder_ratio                 0\n",
       "aisle_id                              0\n",
       "department_id                         0\n",
       "product_reorder_probability           0\n",
       "is_organic                            0\n",
       "aisle_reorder_ratio                   0\n",
       "dep_reorder_ratio                     0\n",
       "user_aisle_reordered_ratio            0\n",
       "user_aisle_ratio                      0\n",
       "user_dep_reordered_ratio              0\n",
       "user_dep_ratio                        0\n",
       "up_recency                            0\n",
       "dtype: int64"
      ]
     },
     "execution_count": 22,
     "metadata": {},
     "output_type": "execute_result"
    }
   ],
   "source": [
    "data.isnull().sum()"
   ]
  },
  {
   "cell_type": "markdown",
   "metadata": {},
   "source": [
    "# FEATURE ENGINEER"
   ]
  },
  {
   "cell_type": "code",
   "execution_count": null,
   "metadata": {
    "collapsed": false
   },
   "outputs": [],
   "source": [
    "data = pd.read_hdf(FEATURES_PATH + \"data.h5\", \"data\")"
   ]
  },
  {
   "cell_type": "code",
   "execution_count": null,
   "metadata": {
    "collapsed": false
   },
   "outputs": [],
   "source": [
    "list(data.columns)"
   ]
  },
  {
   "cell_type": "code",
   "execution_count": null,
   "metadata": {
    "collapsed": true
   },
   "outputs": [],
   "source": []
  },
  {
   "cell_type": "markdown",
   "metadata": {},
   "source": [
    "### Merge"
   ]
  }
 ],
 "metadata": {
  "kernelspec": {
   "display_name": "Python 3",
   "language": "python",
   "name": "python3"
  },
  "language_info": {
   "codemirror_mode": {
    "name": "ipython",
    "version": 3
   },
   "file_extension": ".py",
   "mimetype": "text/x-python",
   "name": "python",
   "nbconvert_exporter": "python",
   "pygments_lexer": "ipython3",
   "version": "3.6.0"
  }
 },
 "nbformat": 4,
 "nbformat_minor": 2
}
