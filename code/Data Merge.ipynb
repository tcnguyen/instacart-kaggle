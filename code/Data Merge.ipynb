{
 "cells": [
  {
   "cell_type": "code",
   "execution_count": null,
   "metadata": {
    "collapsed": false
   },
   "outputs": [],
   "source": [
    "# Author : Trong Canh Nguyen\n",
    "\n",
    "# This script considers all the products a user has ordered\n",
    "#\n",
    "# We train a model computing the probability of reorder on the \"train\" data\n",
    "#\n",
    "# For the submission, we keep the orders that have a probability of\n",
    "# reorder higher than a threshold\n",
    "\n",
    "\n",
    "import numpy as np\n",
    "import pandas as pd\n",
    "import gc\n",
    "\n",
    "IDIR = '../input/'\n",
    "FEATURES_PATH = './features3/'"
   ]
  },
  {
   "cell_type": "code",
   "execution_count": null,
   "metadata": {
    "collapsed": false
   },
   "outputs": [],
   "source": [
    "gc.collect()"
   ]
  },
  {
   "cell_type": "markdown",
   "metadata": {},
   "source": [
    "## Data Construction"
   ]
  },
  {
   "cell_type": "code",
   "execution_count": null,
   "metadata": {
    "collapsed": false
   },
   "outputs": [],
   "source": [
    "dtype_dict = {\n",
    "    'user_id': np.int32,\n",
    "    'product_id': np.int32,\n",
    "    \n",
    "    'up_orders': np.int16,\n",
    "    'up_first_order':np.int16,\n",
    "    'up_last_order':np.int16,\n",
    "    'up_add_to_cart_order_mean':np.float32,\n",
    "    'up_order_rate': np.float32,\n",
    "    'up_order_rate_since_first_order': np.float32,\n",
    "    'up_orders_since_last_order':np.float32,\n",
    "    'up_days_since_last_order': np.int16,\n",
    "    'up_in_same_day_previous_order': np.int8,\n",
    "    \n",
    "    'user_total_order': np.int16,\n",
    "    'user_order_size_mean': np.float32,\n",
    "    'user_reorder_rate': np.float32,\n",
    "    'user_days_since_last_order': np.float32,\n",
    "    \n",
    "    \n",
    "    'up_reordered': np.float32,\n",
    "    \n",
    "    'product_reorder_ratio':np.float32,\n",
    "    \n",
    "    'aisle_id':np.int16,\n",
    "    'department_id':np.int16,\n",
    "    'aisle_reorder_rate': np.float32,\n",
    "    'dep_reorder_rate': np.float32,\n",
    "    'user_aisle_reorder_rate': np.float32,\n",
    "    'user_dep_reorder_rate': np.float32\n",
    "    \n",
    "    \n",
    "}"
   ]
  },
  {
   "cell_type": "code",
   "execution_count": null,
   "metadata": {
    "collapsed": false
   },
   "outputs": [],
   "source": [
    "import pickle\n",
    "with open(FEATURES_PATH + 'dtypes.pickle', 'wb') as f:\n",
    "    pickle.dump(dtype_dict, f)"
   ]
  },
  {
   "cell_type": "markdown",
   "metadata": {},
   "source": [
    "### Preload if necessary"
   ]
  },
  {
   "cell_type": "code",
   "execution_count": null,
   "metadata": {
    "collapsed": false
   },
   "outputs": [],
   "source": [
    "data = pd.read_csv(FEATURES_PATH + 'data.csv', dtype= dtype_dict)\n",
    "print(\"Memory (Gb):\", data.memory_usage().sum()/1000000)"
   ]
  },
  {
   "cell_type": "markdown",
   "metadata": {},
   "source": [
    "### Append features"
   ]
  },
  {
   "cell_type": "code",
   "execution_count": null,
   "metadata": {
    "collapsed": false
   },
   "outputs": [],
   "source": [
    "#data = pd.read_csv(FEATURES_PATH + \"up_order_rates.csv\", dtype= dtype_dict)\n",
    "data = pd.read_hdf(FEATURES_PATH + \"features.h5\", \"up_order_rates\")\n",
    "data.reset_index(inplace = True)"
   ]
  },
  {
   "cell_type": "code",
   "execution_count": null,
   "metadata": {
    "collapsed": false
   },
   "outputs": [],
   "source": [
    "#tmp = pd.read_csv(FEATURES_PATH + \"up_days_since_last_order.csv\", dtype= dtype_dict)\n",
    "tmp = pd.read_hdf(FEATURES_PATH + \"features.h5\", \"up_days_since_last_order\").reset_index()\n",
    "data = pd.merge(data, tmp, on=[\"user_id\", \"product_id\"], how = 'left')"
   ]
  },
  {
   "cell_type": "code",
   "execution_count": null,
   "metadata": {
    "collapsed": true
   },
   "outputs": [],
   "source": [
    "#tmp = pd.read_csv(FEATURES_PATH + \"up_add_to_cart_order_mean.csv\", dtype= dtype_dict)\n",
    "tmp = pd.read_hdf(FEATURES_PATH + \"features.h5\", \"up_add_to_cart_order_mean\").reset_index()\n",
    "data = pd.merge(data, tmp, on=[\"user_id\", \"product_id\"], how = 'left')"
   ]
  },
  {
   "cell_type": "code",
   "execution_count": null,
   "metadata": {
    "collapsed": false
   },
   "outputs": [],
   "source": [
    "#tmp = pd.read_csv(FEATURES_PATH + \"up_reordered.csv\", dtype= dtype_dict)\n",
    "tmp = pd.read_hdf(FEATURES_PATH + \"features.h5\", \"up_reordered\").reset_index()\n",
    "data = pd.merge(data, tmp, on=[\"user_id\", \"product_id\"], how = 'left')"
   ]
  },
  {
   "cell_type": "code",
   "execution_count": null,
   "metadata": {
    "collapsed": false
   },
   "outputs": [],
   "source": [
    "del tmp\n",
    "print(\"data memory\", data.memory_usage().sum()/1000000)\n",
    "gc.collect()"
   ]
  },
  {
   "cell_type": "code",
   "execution_count": null,
   "metadata": {
    "collapsed": false
   },
   "outputs": [],
   "source": [
    "data.head()"
   ]
  },
  {
   "cell_type": "markdown",
   "metadata": {},
   "source": [
    "### User info"
   ]
  },
  {
   "cell_type": "code",
   "execution_count": null,
   "metadata": {
    "collapsed": true
   },
   "outputs": [],
   "source": [
    "#user_info = pd.read_csv(FEATURES_PATH + \"user_info.csv\", dtype= dtype_dict)\n",
    "user_info = pd.read_hdf(FEATURES_PATH + \"features.h5\", \"user_info\").reset_index()"
   ]
  },
  {
   "cell_type": "code",
   "execution_count": null,
   "metadata": {
    "collapsed": false
   },
   "outputs": [],
   "source": [
    "user_info.head()"
   ]
  },
  {
   "cell_type": "code",
   "execution_count": null,
   "metadata": {
    "collapsed": true
   },
   "outputs": [],
   "source": [
    "data = pd.merge(data, user_info, on=[\"user_id\"], how = 'left')"
   ]
  },
  {
   "cell_type": "markdown",
   "metadata": {},
   "source": [
    "### Product info"
   ]
  },
  {
   "cell_type": "code",
   "execution_count": null,
   "metadata": {
    "collapsed": false
   },
   "outputs": [],
   "source": [
    "#product_info = pd.read_csv(FEATURES_PATH + \"product_info.csv\", dtype= dtype_dict)\n",
    "product_info = pd.read_hdf(FEATURES_PATH + \"features.h5\", \"product_info\").reset_index()\n",
    "product_info.head()"
   ]
  },
  {
   "cell_type": "code",
   "execution_count": null,
   "metadata": {
    "collapsed": true
   },
   "outputs": [],
   "source": [
    "data = pd.merge(data, product_info, on=[\"product_id\"], how = 'left')"
   ]
  },
  {
   "cell_type": "code",
   "execution_count": null,
   "metadata": {
    "collapsed": false
   },
   "outputs": [],
   "source": [
    "print(\"data memory\", data.memory_usage().sum()/1000000)\n",
    "gc.collect()"
   ]
  },
  {
   "cell_type": "markdown",
   "metadata": {},
   "source": [
    "### Aisle & Department"
   ]
  },
  {
   "cell_type": "code",
   "execution_count": null,
   "metadata": {
    "collapsed": false
   },
   "outputs": [],
   "source": [
    "#aisle_info = pd.read_csv(FEATURES_PATH + \"aisle_info.csv\", dtype= dtype_dict)\n",
    "aisle_info = pd.read_hdf(FEATURES_PATH + \"features.h5\", \"aisle_info\").reset_index()\n",
    "data = pd.merge(data, aisle_info, on=[\"aisle_id\"], how = 'left')"
   ]
  },
  {
   "cell_type": "code",
   "execution_count": null,
   "metadata": {
    "collapsed": true
   },
   "outputs": [],
   "source": [
    "#department_info = pd.read_csv(FEATURES_PATH + \"department_info.csv\", dtype= dtype_dict)\n",
    "department_info = pd.read_hdf(FEATURES_PATH + \"features.h5\", \"department_info\").reset_index()\n",
    "data = pd.merge(data, department_info, on=[\"department_id\"], how = 'left')"
   ]
  },
  {
   "cell_type": "code",
   "execution_count": null,
   "metadata": {
    "collapsed": false
   },
   "outputs": [],
   "source": [
    "#user_aisle_info = pd.read_csv(FEATURES_PATH + \"user_aisle_info.csv\", dtype= dtype_dict)\n",
    "user_aisle_info = pd.read_hdf(FEATURES_PATH + \"features.h5\", \"user_aisle_info\").reset_index()\n",
    "data = pd.merge(data, user_aisle_info, on=[\"user_id\", \"aisle_id\"], how = 'left')\n",
    "print(\"merge user_aisle_info\")"
   ]
  },
  {
   "cell_type": "code",
   "execution_count": null,
   "metadata": {
    "collapsed": false
   },
   "outputs": [],
   "source": [
    "#user_dep_info = pd.read_csv(FEATURES_PATH + \"user_dep_info.csv\", dtype= dtype_dict)\n",
    "user_dep_info = pd.read_hdf(FEATURES_PATH + \"features.h5\", \"user_dep_info\").reset_index()\n",
    "data = pd.merge(data, user_dep_info, on=[\"user_id\", \"department_id\"], how = 'left')\n",
    "print(\"merge user_dep_info\")"
   ]
  },
  {
   "cell_type": "code",
   "execution_count": null,
   "metadata": {
    "collapsed": false
   },
   "outputs": [],
   "source": [
    "data.dtypes"
   ]
  },
  {
   "cell_type": "markdown",
   "metadata": {},
   "source": [
    "### Computed features"
   ]
  },
  {
   "cell_type": "markdown",
   "metadata": {},
   "source": [
    "#### If the order is in the same day and the product is present in the previous order"
   ]
  },
  {
   "cell_type": "code",
   "execution_count": null,
   "metadata": {
    "collapsed": false
   },
   "outputs": [],
   "source": [
    "data['up_in_same_day_previous_order'] = ((data.user_days_since_last_order == 0) &  (data.up_orders_since_last_order == 0)).astype(np.int8)"
   ]
  },
  {
   "cell_type": "markdown",
   "metadata": {},
   "source": [
    "## SAVE"
   ]
  },
  {
   "cell_type": "code",
   "execution_count": null,
   "metadata": {
    "collapsed": true
   },
   "outputs": [],
   "source": [
    "#data.set_index([\"user_id\", \"product_id\"], inplace = True)\n",
    "#data.to_csv(FEATURES_PATH + \"./data4.csv\")"
   ]
  },
  {
   "cell_type": "code",
   "execution_count": null,
   "metadata": {
    "collapsed": false
   },
   "outputs": [],
   "source": [
    "data.set_index([\"user_id\", \"product_id\"], inplace = True)\n",
    "data.to_hdf(FEATURES_PATH + \"./data.h5\", \"data\")"
   ]
  },
  {
   "cell_type": "code",
   "execution_count": null,
   "metadata": {
    "collapsed": true
   },
   "outputs": [],
   "source": []
  }
 ],
 "metadata": {
  "kernelspec": {
   "display_name": "Python 3",
   "language": "python",
   "name": "python3"
  },
  "language_info": {
   "codemirror_mode": {
    "name": "ipython",
    "version": 3
   },
   "file_extension": ".py",
   "mimetype": "text/x-python",
   "name": "python",
   "nbconvert_exporter": "python",
   "pygments_lexer": "ipython3",
   "version": "3.6.0"
  }
 },
 "nbformat": 4,
 "nbformat_minor": 2
}
