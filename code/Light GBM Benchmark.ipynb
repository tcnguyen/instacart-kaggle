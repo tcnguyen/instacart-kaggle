{
 "cells": [
  {
   "cell_type": "code",
   "execution_count": 1,
   "metadata": {
    "collapsed": false
   },
   "outputs": [],
   "source": [
    "# Author : Paul-Antoine Nguyen\n",
    "\n",
    "# This script considers all the products a user has ordered\n",
    "#\n",
    "# We train a model computing the probability of reorder on the \"train\" data\n",
    "#\n",
    "# For the submission, we keep the orders that have a probability of\n",
    "# reorder higher than a threshold\n",
    "\n",
    "\n",
    "import numpy as np\n",
    "import pandas as pd\n",
    "import lightgbm as lgb\n",
    "IDIR = '../input/'"
   ]
  },
  {
   "cell_type": "code",
   "execution_count": 2,
   "metadata": {
    "collapsed": false
   },
   "outputs": [
    {
     "name": "stdout",
     "output_type": "stream",
     "text": [
      "loading prior\n",
      "loading train\n",
      "loading orders\n",
      "loading products\n",
      "priors (32434489, 4): order_id, product_id, add_to_cart_order, reordered\n",
      "orders (3421083, 7): order_id, user_id, eval_set, order_number, order_dow, order_hour_of_day, days_since_prior_order\n",
      "train (1384617, 4): order_id, product_id, add_to_cart_order, reordered\n"
     ]
    }
   ],
   "source": [
    "print('loading prior')\n",
    "priors = pd.read_csv(IDIR + 'order_products__prior.csv', dtype={\n",
    "            'order_id': np.int32,\n",
    "            'product_id': np.uint16,\n",
    "            'add_to_cart_order': np.int16,\n",
    "            'reordered': np.int8})\n",
    "\n",
    "print('loading train')\n",
    "train = pd.read_csv(IDIR + 'order_products__train.csv', dtype={\n",
    "            'order_id': np.int32,\n",
    "            'product_id': np.uint16,\n",
    "            'add_to_cart_order': np.int16,\n",
    "            'reordered': np.int8})\n",
    "\n",
    "print('loading orders')\n",
    "orders = pd.read_csv(IDIR + 'orders.csv', dtype={\n",
    "        'order_id': np.int32,\n",
    "        'user_id': np.int32,\n",
    "        'eval_set': 'category',\n",
    "        'order_number': np.int16,\n",
    "        'order_dow': np.int8,\n",
    "        'order_hour_of_day': np.int8,\n",
    "        'days_since_prior_order': np.float32})\n",
    "\n",
    "print('loading products')\n",
    "products = pd.read_csv(IDIR + 'products.csv', dtype={\n",
    "        'product_id': np.uint16,\n",
    "        'order_id': np.int32,\n",
    "        'aisle_id': np.uint8,\n",
    "        'department_id': np.uint8},\n",
    "        usecols=['product_id', 'aisle_id', 'department_id'])\n",
    "\n",
    "print('priors {}: {}'.format(priors.shape, ', '.join(priors.columns)))\n",
    "print('orders {}: {}'.format(orders.shape, ', '.join(orders.columns)))\n",
    "print('train {}: {}'.format(train.shape, ', '.join(train.columns)))"
   ]
  },
  {
   "cell_type": "markdown",
   "metadata": {},
   "source": [
    "## Compute Data"
   ]
  },
  {
   "cell_type": "code",
   "execution_count": null,
   "metadata": {
    "collapsed": false
   },
   "outputs": [],
   "source": [
    "print('computing product f')\n",
    "prods = pd.DataFrame()\n",
    "prods['orders'] = priors.groupby(priors.product_id).size().astype(np.int32)\n",
    "prods['reorders'] = priors['reordered'].groupby(priors.product_id).sum().astype(np.float32)\n",
    "prods['reorder_rate'] = (prods.reorders / prods.orders).astype(np.float32)\n",
    "prods.reset_index(inplace = True)\n",
    "products = pd.merge(products, prods,  on='product_id', how='left')\n",
    "products.set_index('product_id', inplace=True)\n",
    "\n",
    "del prods\n",
    "products.to_csv('./features/products.csv')"
   ]
  },
  {
   "cell_type": "code",
   "execution_count": null,
   "metadata": {
    "collapsed": false
   },
   "outputs": [],
   "source": [
    "print('add order info to priors')\n",
    "priors = pd.merge(priors, orders[['order_id', 'user_id', 'order_number']], on='order_id', how='left')"
   ]
  },
  {
   "cell_type": "code",
   "execution_count": null,
   "metadata": {
    "collapsed": false
   },
   "outputs": [],
   "source": [
    "### user features\n",
    "\n",
    "print('computing user f')\n",
    "usr = pd.DataFrame()\n",
    "usr['average_days_between_orders'] = orders.groupby('user_id')['days_since_prior_order'].mean().astype(np.float32)\n",
    "usr['nb_orders'] = orders.groupby('user_id').size().astype(np.int16)\n",
    "\n",
    "users = pd.DataFrame()\n",
    "users['total_items'] = priors.groupby('user_id').size().astype(np.int16)\n",
    "users['total_distinct_items'] = priors.groupby('user_id')['product_id'].apply(lambda x: len(set(x))).astype(np.int16)\n",
    "\n",
    "users = users.join(usr)\n",
    "del usr\n",
    "users['average_basket'] = (users.total_items / users.nb_orders).astype(np.float32)\n",
    "print('user f', users.shape)"
   ]
  },
  {
   "cell_type": "code",
   "execution_count": null,
   "metadata": {
    "collapsed": true
   },
   "outputs": [],
   "source": [
    "users.to_csv('./features/users.csv')"
   ]
  },
  {
   "cell_type": "markdown",
   "metadata": {},
   "source": [
    "### User x Product matrix with the following features:\n",
    "- Number of orders for that product (by each user)\n",
    "- The order_id of the last order which is required to compute another feature, which is how many orders has been done from this last order of this product. This measure how long we have not ordered this product\n",
    "- Average_pos_in_cart"
   ]
  },
  {
   "cell_type": "code",
   "execution_count": null,
   "metadata": {
    "collapsed": false
   },
   "outputs": [],
   "source": [
    "user_product = priors.groupby(['user_id', 'product_id'])[['order_id']].count().astype(np.uint16)\n",
    "user_product.rename(columns={'order_id': 'nb_orders'}, inplace=True)"
   ]
  },
  {
   "cell_type": "code",
   "execution_count": null,
   "metadata": {
    "collapsed": true
   },
   "outputs": [],
   "source": [
    "user_add_to_cart_avg = priors.groupby(['user_id', 'product_id'])[['add_to_cart_order']].sum().astype(np.uint16)\n",
    "user_add_to_cart_avg.rename(columns={'add_to_cart_order': 'add_to_cart_order_sum'}, inplace=True)\n",
    "user_product = user_product.join(user_add_to_cart_avg)\n",
    "del user_add_to_cart_avg"
   ]
  },
  {
   "cell_type": "code",
   "execution_count": null,
   "metadata": {
    "collapsed": false
   },
   "outputs": [],
   "source": [
    "last_order_number = priors.groupby(['user_id', 'product_id'])['order_number'].max()\n",
    "user_product = user_product.join(last_order_number)"
   ]
  },
  {
   "cell_type": "code",
   "execution_count": null,
   "metadata": {
    "collapsed": false
   },
   "outputs": [],
   "source": [
    "user_product.reset_index(inplace = True)\n",
    "user_product = pd.merge(user_product, orders[['user_id', 'order_id', 'order_number', 'order_hour_of_day']], \n",
    "                        on = ['user_id', 'order_number'], how = 'left' )\n",
    "user_product.set_index(['user_id', 'product_id'], drop = True, inplace=True)\n",
    "user_product.rename(columns={'order_number': 'last_order_number', 'order_id': 'last_order_id', \n",
    "                             'order_hour_of_day': 'last_order_hour_of_day'}, inplace=True)\n",
    "#user_product.to_csv('./features/user_product.csv')"
   ]
  },
  {
   "cell_type": "markdown",
   "metadata": {},
   "source": [
    "## Load precomputed data"
   ]
  },
  {
   "cell_type": "code",
   "execution_count": 3,
   "metadata": {
    "collapsed": false
   },
   "outputs": [],
   "source": [
    "user_product =  pd.read_csv('./features/user_product.csv', dtype={        \n",
    "        'user_id': np.int32,\n",
    "        'product_id': np.uint16,\n",
    "        'add_to_cart_order_sum': np.uint16,\n",
    "        'nb_orders': np.uint16,\n",
    "        'last_order_number': np.int16,\n",
    "        'last_order_id':np.uint32,\n",
    "        'last_order_hour_of_day': np.int8\n",
    "})\n"
   ]
  },
  {
   "cell_type": "code",
   "execution_count": 4,
   "metadata": {
    "collapsed": false
   },
   "outputs": [],
   "source": [
    "users =  pd.read_csv('./features/users.csv', dtype={        \n",
    "        'user_id': np.int32,\n",
    "        'total_items': np.uint16,\n",
    "        'total_distinct_items': np.uint16,\n",
    "        'average_days_between_orders': np.float32,\n",
    "        'nb_orders': np.uint16,\n",
    "        'average_basket': np.float32\n",
    "})"
   ]
  },
  {
   "cell_type": "code",
   "execution_count": 5,
   "metadata": {
    "collapsed": false
   },
   "outputs": [],
   "source": [
    "products =  pd.read_csv('./features/products.csv', dtype={ \n",
    "        'product_id': np.uint16,\n",
    "        'order_id': np.int32,\n",
    "        'aisle_id': np.uint8,\n",
    "        'department_id': np.uint8,\n",
    "        'orders': np.float32,\n",
    "        'reorders': np.float32,\n",
    "        'reorder_rate': np.float32\n",
    "})"
   ]
  },
  {
   "cell_type": "code",
   "execution_count": 6,
   "metadata": {
    "collapsed": true
   },
   "outputs": [],
   "source": [
    "priors = pd.merge(priors, orders[['order_id', 'user_id']], on='order_id', how='left')"
   ]
  },
  {
   "cell_type": "code",
   "execution_count": 8,
   "metadata": {
    "collapsed": true
   },
   "outputs": [],
   "source": [
    "### build list of candidate products to reorder, with features ###\n",
    "\n",
    "def features(selected_orders, labels_given=False):\n",
    "    print('build candidate list')\n",
    "        \n",
    "    # all (order_id, product_id) from priors by all the users that are in selected_orders    \n",
    "    df = priors[priors.user_id.isin(selected_orders.user_id.unique())][['order_id', 'product_id', 'user_id']]    \n",
    "    \n",
    "    print('user related features')\n",
    "    df = pd.merge(df, users, on = 'user_id', how='left')    \n",
    "    df.rename(columns={'nb_orders': 'user_total_orders', 'total_items':'user_total_items', \n",
    "                       'average_days_between_orders': 'user_average_days_between_orders', \n",
    "                       'average_basket': 'user_average_basket'}, inplace=True)\n",
    "    \n",
    "    print('order related features') \n",
    "    df = pd.merge(df, orders[['order_id', 'order_hour_of_day', 'days_since_prior_order',]], on = 'order_id', how='left')\n",
    "    df['days_since_ratio'] = df.days_since_prior_order / df.user_average_days_between_orders    \n",
    "        \n",
    "    print('product related features')\n",
    "    df = pd.merge(df, products, on = 'product_id', how='left')\n",
    "    df.rename(columns={'orders': 'product_orders', 'reorders': 'product_reorders', 'reorder_rate':'product_reorder_rate'}, inplace=True)\n",
    "\n",
    "    print('user_X_product related features')\n",
    "    df = pd.merge(df, user_product, on = ['user_id', 'product_id'], how='left')\n",
    "    df.rename(columns={'nb_orders': 'UP_orders'}, inplace=True)\n",
    "    df['UP_orders_ratio'] = (df.UP_orders / df.user_total_orders).astype(np.float32)\n",
    "    df['UP_average_pos_in_cart'] = (df.add_to_cart_order_sum / df.UP_orders).astype(np.float32)\n",
    "    df['UP_reorder_rate'] = (df.UP_orders / df.user_total_orders).astype(np.float32)\n",
    "    df['UP_orders_since_last'] = (df.user_total_orders - df.last_order_number)\n",
    "    df['UP_delta_hour_vs_last'] = abs(df.order_hour_of_day - df.last_order_hour_of_day).map(lambda x: min(x, 24-x)).astype(np.int8)\n",
    "    df.drop(['last_order_number', 'last_order_hour_of_day', 'last_order_id'],axis=1, inplace = True)\n",
    "    \n",
    "    if labels_given:\n",
    "        train['label'] = 1\n",
    "        train['label'] = train['label'].astype(np.int8)\n",
    "        train = pd.merge(train, orders[['order_id', 'user_id']], on = 'order_id', how='left')\n",
    "        df = pd.merge(df, train[['user_id', 'product_id', 'label']], on = ['user_id', 'product_id'], how='left')\n",
    "        train.drop(['label', 'user_id'], axis = 1, inplace = True)\n",
    "    \n",
    "    #print(df.dtypes)\n",
    "    print(\"features memory in Mb\", df.memory_usage().sum()/1000000)\n",
    "    return df"
   ]
  },
  {
   "cell_type": "code",
   "execution_count": 9,
   "metadata": {
    "collapsed": false
   },
   "outputs": [
    {
     "name": "stdout",
     "output_type": "stream",
     "text": [
      "split orders : train, test\n"
     ]
    }
   ],
   "source": [
    "### train / test orders ##\n",
    "print('split orders : train, test')\n",
    "test_orders = orders[orders.eval_set == 'test']\n",
    "train_orders = orders[orders.eval_set == 'train']"
   ]
  },
  {
   "cell_type": "code",
   "execution_count": 10,
   "metadata": {
    "collapsed": false,
    "scrolled": true
   },
   "outputs": [
    {
     "name": "stdout",
     "output_type": "stream",
     "text": [
      "build candidate list\n",
      "user related features\n",
      "order related features\n",
      "product related features\n",
      "user_X_product related features\n",
      "features memory in Mb 1568.791316\n"
     ]
    }
   ],
   "source": [
    "df = features(train_orders)"
   ]
  },
  {
   "cell_type": "code",
   "execution_count": 20,
   "metadata": {
    "collapsed": true
   },
   "outputs": [],
   "source": [
    "#df.to_csv(\"./features/df_train_2.csv\")\n",
    "#df.dtypes.to_csv('./features/df_train_dtypes.csv')"
   ]
  },
  {
   "cell_type": "code",
   "execution_count": 16,
   "metadata": {
    "collapsed": false
   },
   "outputs": [
    {
     "data": {
      "text/html": [
       "<div>\n",
       "<table border=\"1\" class=\"dataframe\">\n",
       "  <thead>\n",
       "    <tr style=\"text-align: right;\">\n",
       "      <th></th>\n",
       "      <th>order_id</th>\n",
       "      <th>product_id</th>\n",
       "      <th>user_id</th>\n",
       "      <th>user_total_items</th>\n",
       "      <th>total_distinct_items</th>\n",
       "      <th>user_average_days_between_orders</th>\n",
       "      <th>user_total_orders</th>\n",
       "      <th>user_average_basket</th>\n",
       "      <th>order_hour_of_day</th>\n",
       "      <th>days_since_prior_order</th>\n",
       "      <th>...</th>\n",
       "      <th>product_reorders</th>\n",
       "      <th>product_reorder_rate</th>\n",
       "      <th>UP_orders</th>\n",
       "      <th>add_to_cart_order_sum</th>\n",
       "      <th>UP_orders_ratio</th>\n",
       "      <th>UP_average_pos_in_cart</th>\n",
       "      <th>UP_reorder_rate</th>\n",
       "      <th>UP_orders_since_last</th>\n",
       "      <th>UP_delta_hour_vs_last</th>\n",
       "      <th>label</th>\n",
       "    </tr>\n",
       "  </thead>\n",
       "  <tbody>\n",
       "    <tr>\n",
       "      <th>0</th>\n",
       "      <td>2</td>\n",
       "      <td>33120</td>\n",
       "      <td>202279</td>\n",
       "      <td>90</td>\n",
       "      <td>47</td>\n",
       "      <td>22.625</td>\n",
       "      <td>9</td>\n",
       "      <td>10.0</td>\n",
       "      <td>9</td>\n",
       "      <td>8.0</td>\n",
       "      <td>...</td>\n",
       "      <td>13744.0</td>\n",
       "      <td>0.708454</td>\n",
       "      <td>5</td>\n",
       "      <td>10</td>\n",
       "      <td>0.555556</td>\n",
       "      <td>2.000000</td>\n",
       "      <td>0.555556</td>\n",
       "      <td>1</td>\n",
       "      <td>1</td>\n",
       "      <td>1.0</td>\n",
       "    </tr>\n",
       "    <tr>\n",
       "      <th>1</th>\n",
       "      <td>2</td>\n",
       "      <td>28985</td>\n",
       "      <td>202279</td>\n",
       "      <td>90</td>\n",
       "      <td>47</td>\n",
       "      <td>22.625</td>\n",
       "      <td>9</td>\n",
       "      <td>10.0</td>\n",
       "      <td>9</td>\n",
       "      <td>8.0</td>\n",
       "      <td>...</td>\n",
       "      <td>46841.0</td>\n",
       "      <td>0.694465</td>\n",
       "      <td>5</td>\n",
       "      <td>16</td>\n",
       "      <td>0.555556</td>\n",
       "      <td>3.200000</td>\n",
       "      <td>0.555556</td>\n",
       "      <td>3</td>\n",
       "      <td>0</td>\n",
       "      <td>NaN</td>\n",
       "    </tr>\n",
       "    <tr>\n",
       "      <th>2</th>\n",
       "      <td>2</td>\n",
       "      <td>9327</td>\n",
       "      <td>202279</td>\n",
       "      <td>90</td>\n",
       "      <td>47</td>\n",
       "      <td>22.625</td>\n",
       "      <td>9</td>\n",
       "      <td>10.0</td>\n",
       "      <td>9</td>\n",
       "      <td>8.0</td>\n",
       "      <td>...</td>\n",
       "      <td>995.0</td>\n",
       "      <td>0.157962</td>\n",
       "      <td>1</td>\n",
       "      <td>3</td>\n",
       "      <td>0.111111</td>\n",
       "      <td>3.000000</td>\n",
       "      <td>0.111111</td>\n",
       "      <td>6</td>\n",
       "      <td>0</td>\n",
       "      <td>NaN</td>\n",
       "    </tr>\n",
       "    <tr>\n",
       "      <th>3</th>\n",
       "      <td>2</td>\n",
       "      <td>45918</td>\n",
       "      <td>202279</td>\n",
       "      <td>90</td>\n",
       "      <td>47</td>\n",
       "      <td>22.625</td>\n",
       "      <td>9</td>\n",
       "      <td>10.0</td>\n",
       "      <td>9</td>\n",
       "      <td>8.0</td>\n",
       "      <td>...</td>\n",
       "      <td>203.0</td>\n",
       "      <td>0.272849</td>\n",
       "      <td>5</td>\n",
       "      <td>24</td>\n",
       "      <td>0.555556</td>\n",
       "      <td>4.800000</td>\n",
       "      <td>0.555556</td>\n",
       "      <td>2</td>\n",
       "      <td>5</td>\n",
       "      <td>NaN</td>\n",
       "    </tr>\n",
       "    <tr>\n",
       "      <th>4</th>\n",
       "      <td>2</td>\n",
       "      <td>30035</td>\n",
       "      <td>202279</td>\n",
       "      <td>90</td>\n",
       "      <td>47</td>\n",
       "      <td>22.625</td>\n",
       "      <td>9</td>\n",
       "      <td>10.0</td>\n",
       "      <td>9</td>\n",
       "      <td>8.0</td>\n",
       "      <td>...</td>\n",
       "      <td>289.0</td>\n",
       "      <td>0.507909</td>\n",
       "      <td>3</td>\n",
       "      <td>14</td>\n",
       "      <td>0.333333</td>\n",
       "      <td>4.666667</td>\n",
       "      <td>0.333333</td>\n",
       "      <td>2</td>\n",
       "      <td>5</td>\n",
       "      <td>NaN</td>\n",
       "    </tr>\n",
       "  </tbody>\n",
       "</table>\n",
       "<p>5 rows × 24 columns</p>\n",
       "</div>"
      ],
      "text/plain": [
       "   order_id  product_id  user_id  user_total_items  total_distinct_items  \\\n",
       "0         2       33120   202279                90                    47   \n",
       "1         2       28985   202279                90                    47   \n",
       "2         2        9327   202279                90                    47   \n",
       "3         2       45918   202279                90                    47   \n",
       "4         2       30035   202279                90                    47   \n",
       "\n",
       "   user_average_days_between_orders  user_total_orders  user_average_basket  \\\n",
       "0                            22.625                  9                 10.0   \n",
       "1                            22.625                  9                 10.0   \n",
       "2                            22.625                  9                 10.0   \n",
       "3                            22.625                  9                 10.0   \n",
       "4                            22.625                  9                 10.0   \n",
       "\n",
       "   order_hour_of_day  days_since_prior_order  ...    product_reorders  \\\n",
       "0                  9                     8.0  ...             13744.0   \n",
       "1                  9                     8.0  ...             46841.0   \n",
       "2                  9                     8.0  ...               995.0   \n",
       "3                  9                     8.0  ...               203.0   \n",
       "4                  9                     8.0  ...               289.0   \n",
       "\n",
       "   product_reorder_rate  UP_orders  add_to_cart_order_sum  UP_orders_ratio  \\\n",
       "0              0.708454          5                     10         0.555556   \n",
       "1              0.694465          5                     16         0.555556   \n",
       "2              0.157962          1                      3         0.111111   \n",
       "3              0.272849          5                     24         0.555556   \n",
       "4              0.507909          3                     14         0.333333   \n",
       "\n",
       "   UP_average_pos_in_cart  UP_reorder_rate  UP_orders_since_last  \\\n",
       "0                2.000000         0.555556                     1   \n",
       "1                3.200000         0.555556                     3   \n",
       "2                3.000000         0.111111                     6   \n",
       "3                4.800000         0.555556                     2   \n",
       "4                4.666667         0.333333                     2   \n",
       "\n",
       "   UP_delta_hour_vs_last  label  \n",
       "0                      1    1.0  \n",
       "1                      0    NaN  \n",
       "2                      0    NaN  \n",
       "3                      5    NaN  \n",
       "4                      5    NaN  \n",
       "\n",
       "[5 rows x 24 columns]"
      ]
     },
     "execution_count": 16,
     "metadata": {},
     "output_type": "execute_result"
    }
   ],
   "source": [
    "df.head()"
   ]
  },
  {
   "cell_type": "code",
   "execution_count": 17,
   "metadata": {
    "collapsed": true
   },
   "outputs": [],
   "source": [
    "labels = df.label"
   ]
  },
  {
   "cell_type": "markdown",
   "metadata": {},
   "source": [
    "## Model"
   ]
  },
  {
   "cell_type": "code",
   "execution_count": null,
   "metadata": {
    "collapsed": true
   },
   "outputs": [],
   "source": []
  }
 ],
 "metadata": {
  "kernelspec": {
   "display_name": "Python 3",
   "language": "python",
   "name": "python3"
  },
  "language_info": {
   "codemirror_mode": {
    "name": "ipython",
    "version": 3
   },
   "file_extension": ".py",
   "mimetype": "text/x-python",
   "name": "python",
   "nbconvert_exporter": "python",
   "pygments_lexer": "ipython3",
   "version": "3.6.0"
  }
 },
 "nbformat": 4,
 "nbformat_minor": 2
}
