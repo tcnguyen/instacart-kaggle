{
 "cells": [
  {
   "cell_type": "code",
   "execution_count": 39,
   "metadata": {
    "collapsed": false
   },
   "outputs": [],
   "source": [
    "# Author : Paul-Antoine Nguyen\n",
    "\n",
    "# This script considers all the products a user has ordered\n",
    "#\n",
    "# We train a model computing the probability of reorder on the \"train\" data\n",
    "#\n",
    "# For the submission, we keep the orders that have a probability of\n",
    "# reorder higher than a threshold\n",
    "\n",
    "\n",
    "import numpy as np\n",
    "import pandas as pd\n",
    "import lightgbm as lgb\n",
    "IDIR = '../input/'\n",
    "\n",
    "FEATURES_PATH = './features2/'"
   ]
  },
  {
   "cell_type": "code",
   "execution_count": 40,
   "metadata": {
    "collapsed": false
   },
   "outputs": [
    {
     "name": "stdout",
     "output_type": "stream",
     "text": [
      "loading prior\n",
      "loading train\n",
      "loading orders\n",
      "loading products\n",
      "priors (32434489, 4): order_id, product_id, add_to_cart_order, reordered\n",
      "orders (3421083, 7): order_id, user_id, eval_set, order_number, order_dow, order_hour_of_day, days_since_prior_order\n",
      "train (1384617, 4): order_id, product_id, add_to_cart_order, reordered\n"
     ]
    }
   ],
   "source": [
    "print('loading prior')\n",
    "priors = pd.read_csv(IDIR + 'order_products__prior.csv', dtype={\n",
    "            'order_id': np.int32,\n",
    "            'product_id': np.uint16,\n",
    "            'add_to_cart_order': np.int16,\n",
    "            'reordered': np.int8})\n",
    "\n",
    "print('loading train')\n",
    "trains = pd.read_csv(IDIR + 'order_products__train.csv', dtype={\n",
    "            'order_id': np.int32,\n",
    "            'product_id': np.uint16,\n",
    "            'add_to_cart_order': np.int16,\n",
    "            'reordered': np.int8})\n",
    "\n",
    "print('loading orders')\n",
    "orders = pd.read_csv(IDIR + 'orders.csv', dtype={\n",
    "        'order_id': np.int32,\n",
    "        'user_id': np.int32,\n",
    "        'eval_set': 'category',\n",
    "        'order_number': np.int16,\n",
    "        'order_dow': np.int8,\n",
    "        'order_hour_of_day': np.int8,\n",
    "        'days_since_prior_order': np.float32})\n",
    "\n",
    "print('loading products')\n",
    "products = pd.read_csv(IDIR + 'products.csv', dtype={\n",
    "        'product_id': np.uint16,\n",
    "        'order_id': np.int32,\n",
    "        'aisle_id': np.uint8,\n",
    "        'department_id': np.uint8},\n",
    "        usecols=['product_id', 'aisle_id', 'department_id'])\n",
    "\n",
    "print('priors {}: {}'.format(priors.shape, ', '.join(priors.columns)))\n",
    "print('orders {}: {}'.format(orders.shape, ', '.join(orders.columns)))\n",
    "print('train {}: {}'.format(trains.shape, ', '.join(trains.columns)))\n"
   ]
  },
  {
   "cell_type": "code",
   "execution_count": 41,
   "metadata": {
    "collapsed": true
   },
   "outputs": [],
   "source": [
    "priors = pd.merge(priors, orders, on=\"order_id\", how=\"inner\")"
   ]
  },
  {
   "cell_type": "code",
   "execution_count": 42,
   "metadata": {
    "collapsed": false
   },
   "outputs": [
    {
     "data": {
      "text/html": [
       "<div>\n",
       "<table border=\"1\" class=\"dataframe\">\n",
       "  <thead>\n",
       "    <tr style=\"text-align: right;\">\n",
       "      <th></th>\n",
       "      <th>order_id</th>\n",
       "      <th>product_id</th>\n",
       "      <th>add_to_cart_order</th>\n",
       "      <th>reordered</th>\n",
       "      <th>user_id</th>\n",
       "      <th>eval_set</th>\n",
       "      <th>order_number</th>\n",
       "      <th>order_dow</th>\n",
       "      <th>order_hour_of_day</th>\n",
       "      <th>days_since_prior_order</th>\n",
       "    </tr>\n",
       "  </thead>\n",
       "  <tbody>\n",
       "    <tr>\n",
       "      <th>0</th>\n",
       "      <td>2</td>\n",
       "      <td>33120</td>\n",
       "      <td>1</td>\n",
       "      <td>1</td>\n",
       "      <td>202279</td>\n",
       "      <td>prior</td>\n",
       "      <td>3</td>\n",
       "      <td>5</td>\n",
       "      <td>9</td>\n",
       "      <td>8.0</td>\n",
       "    </tr>\n",
       "    <tr>\n",
       "      <th>1</th>\n",
       "      <td>2</td>\n",
       "      <td>28985</td>\n",
       "      <td>2</td>\n",
       "      <td>1</td>\n",
       "      <td>202279</td>\n",
       "      <td>prior</td>\n",
       "      <td>3</td>\n",
       "      <td>5</td>\n",
       "      <td>9</td>\n",
       "      <td>8.0</td>\n",
       "    </tr>\n",
       "    <tr>\n",
       "      <th>2</th>\n",
       "      <td>2</td>\n",
       "      <td>9327</td>\n",
       "      <td>3</td>\n",
       "      <td>0</td>\n",
       "      <td>202279</td>\n",
       "      <td>prior</td>\n",
       "      <td>3</td>\n",
       "      <td>5</td>\n",
       "      <td>9</td>\n",
       "      <td>8.0</td>\n",
       "    </tr>\n",
       "    <tr>\n",
       "      <th>3</th>\n",
       "      <td>2</td>\n",
       "      <td>45918</td>\n",
       "      <td>4</td>\n",
       "      <td>1</td>\n",
       "      <td>202279</td>\n",
       "      <td>prior</td>\n",
       "      <td>3</td>\n",
       "      <td>5</td>\n",
       "      <td>9</td>\n",
       "      <td>8.0</td>\n",
       "    </tr>\n",
       "    <tr>\n",
       "      <th>4</th>\n",
       "      <td>2</td>\n",
       "      <td>30035</td>\n",
       "      <td>5</td>\n",
       "      <td>0</td>\n",
       "      <td>202279</td>\n",
       "      <td>prior</td>\n",
       "      <td>3</td>\n",
       "      <td>5</td>\n",
       "      <td>9</td>\n",
       "      <td>8.0</td>\n",
       "    </tr>\n",
       "  </tbody>\n",
       "</table>\n",
       "</div>"
      ],
      "text/plain": [
       "   order_id  product_id  add_to_cart_order  reordered  user_id eval_set  \\\n",
       "0         2       33120                  1          1   202279    prior   \n",
       "1         2       28985                  2          1   202279    prior   \n",
       "2         2        9327                  3          0   202279    prior   \n",
       "3         2       45918                  4          1   202279    prior   \n",
       "4         2       30035                  5          0   202279    prior   \n",
       "\n",
       "   order_number  order_dow  order_hour_of_day  days_since_prior_order  \n",
       "0             3          5                  9                     8.0  \n",
       "1             3          5                  9                     8.0  \n",
       "2             3          5                  9                     8.0  \n",
       "3             3          5                  9                     8.0  \n",
       "4             3          5                  9                     8.0  "
      ]
     },
     "execution_count": 42,
     "metadata": {},
     "output_type": "execute_result"
    }
   ],
   "source": [
    "priors.head()"
   ]
  },
  {
   "cell_type": "markdown",
   "metadata": {},
   "source": [
    "## User basket average"
   ]
  },
  {
   "cell_type": "code",
   "execution_count": 44,
   "metadata": {
    "collapsed": false
   },
   "outputs": [
    {
     "data": {
      "text/plain": [
       "order_id\n",
       "2     9\n",
       "3     8\n",
       "4    13\n",
       "5    26\n",
       "6     3\n",
       "Name: product_id, dtype: int64"
      ]
     },
     "execution_count": 44,
     "metadata": {},
     "output_type": "execute_result"
    }
   ],
   "source": [
    "orders_count = priors.groupby('order_id')['product_id'].count()\n",
    "orders_prior = orders[orders.eval_set == \"prior\"]\n",
    "orders_prior['item_count'] = orders_prior['order_id'].map(orders_count)\n",
    "user_basket_avg = orders_prior.groupby('user_id')[['item_count']].mean()\n",
    "user_basket_avg.rename(columns={\"item_count\": \"basket_size_avg\"}, inplace=True)"
   ]
  },
  {
   "cell_type": "markdown",
   "metadata": {},
   "source": [
    "## Order product features"
   ]
  },
  {
   "cell_type": "code",
   "execution_count": null,
   "metadata": {
    "collapsed": false
   },
   "outputs": [],
   "source": [
    "user_info = orders[orders.eval_set == \"prior\"].groupby('user_id') \\\n",
    "        .agg({'order_number': np.max}) \\\n",
    "        .rename(columns={'order_number': 'user_orders'})\n",
    "        \n",
    "user_info.reset_index(inplace = True)\n",
    "user_info = pd.merge(user_info, orders[orders.eval_set != 'prior'][['user_id', 'eval_set', 'days_since_prior_order']],\n",
    "                    on='user_id', how='inner')\n",
    "user_info.rename(columns={'days_since_prior_order': 'time_since_last_order'}, inplace=True)"
   ]
  },
  {
   "cell_type": "code",
   "execution_count": null,
   "metadata": {
    "collapsed": false
   },
   "outputs": [],
   "source": [
    "user_info.head()"
   ]
  },
  {
   "cell_type": "code",
   "execution_count": null,
   "metadata": {
    "collapsed": true
   },
   "outputs": [],
   "source": [
    "user_info.to_csv(FEATURES_PATH + \"user_info.csv\")"
   ]
  },
  {
   "cell_type": "code",
   "execution_count": null,
   "metadata": {
    "collapsed": false
   },
   "outputs": [],
   "source": [
    "up_info = pd.DataFrame(priors.groupby(['user_id', 'product_id']).size().astype(np.int16), columns=['up_orders'])\n",
    "up_info[['up_first_order', 'up_last_order']] = priors.groupby(['user_id', 'product_id']).order_number.agg([np.min, np.max])\n",
    "up_info['up_average_cart_order'] = priors.groupby(['user_id', 'product_id']).add_to_cart_order.mean().astype(np.float32)\n",
    "\n",
    "up_info.reset_index(inplace = True)\n",
    "up_info.user_id = up_info.user_id.astype(np.int32)\n",
    "up_info.product_id  = up_info.product_id.astype(np.int32)"
   ]
  },
  {
   "cell_type": "code",
   "execution_count": null,
   "metadata": {
    "collapsed": true
   },
   "outputs": [],
   "source": [
    "up_info = pd.merge(up_info, user_info, on='user_id', how='left')\n",
    "up_info['up_order_rate'] = (up_info.up_orders/up_info.user_orders).astype(np.float32)\n",
    "up_info['up_orders_since_last_order'] = (up_info.user_orders - up_info.up_last_order).astype(np.float32)\n",
    "up_info['up_order_rate_since_first_order'] = (up_info.up_orders / (up_info.user_orders - up_info.up_first_order + 1)).astype(np.float32)"
   ]
  },
  {
   "cell_type": "code",
   "execution_count": null,
   "metadata": {
    "collapsed": true
   },
   "outputs": [],
   "source": [
    "trains = pd.merge(trains, orders[['order_id', 'user_id']], on = 'order_id', how='left')\n",
    "up_info = pd.merge(up_info, trains[['user_id', 'product_id', 'reordered']], on=['user_id', 'product_id'], how='left')\n",
    "up_info.reordered.fillna(0, inplace = True)"
   ]
  },
  {
   "cell_type": "code",
   "execution_count": null,
   "metadata": {
    "collapsed": false
   },
   "outputs": [],
   "source": [
    "up_info.to_csv(FEATURES_PATH + \"up_info.csv\")"
   ]
  },
  {
   "cell_type": "code",
   "execution_count": null,
   "metadata": {
    "collapsed": true
   },
   "outputs": [],
   "source": []
  },
  {
   "cell_type": "markdown",
   "metadata": {},
   "source": [
    "## Load data"
   ]
  },
  {
   "cell_type": "code",
   "execution_count": 3,
   "metadata": {
    "collapsed": true
   },
   "outputs": [],
   "source": [
    "up_info = pd.read_csv(FEATURES_PATH + \"up_info.csv\", dtype={\n",
    "    'user_id': np.int32,\n",
    "    'product_id': np.int32,\n",
    "    'up_orders': np.int16,\n",
    "    'up_average_cart_order':np.float32,\n",
    "    'up_order_rate': np.float32,\n",
    "    'up_orders_since_last_order':np.float32,\n",
    "    'up_order_rate_since_first_order': np.float32,\n",
    "    'user_orders': np.int16,\n",
    "    'time_since_last_order': np.float32,\n",
    "   \n",
    "})"
   ]
  },
  {
   "cell_type": "code",
   "execution_count": 7,
   "metadata": {
    "collapsed": false
   },
   "outputs": [
    {
     "data": {
      "text/html": [
       "<div>\n",
       "<table border=\"1\" class=\"dataframe\">\n",
       "  <thead>\n",
       "    <tr style=\"text-align: right;\">\n",
       "      <th></th>\n",
       "      <th>Unnamed: 0</th>\n",
       "      <th>user_id</th>\n",
       "      <th>product_id</th>\n",
       "      <th>up_orders</th>\n",
       "      <th>up_first_order</th>\n",
       "      <th>up_last_order</th>\n",
       "      <th>up_average_cart_order</th>\n",
       "      <th>user_orders</th>\n",
       "      <th>eval_set</th>\n",
       "      <th>time_since_last_order</th>\n",
       "      <th>up_order_rate</th>\n",
       "      <th>up_orders_since_last_order</th>\n",
       "      <th>up_order_rate_since_first_order</th>\n",
       "      <th>reordered</th>\n",
       "    </tr>\n",
       "  </thead>\n",
       "  <tbody>\n",
       "    <tr>\n",
       "      <th>0</th>\n",
       "      <td>0</td>\n",
       "      <td>1</td>\n",
       "      <td>196</td>\n",
       "      <td>10</td>\n",
       "      <td>1</td>\n",
       "      <td>10</td>\n",
       "      <td>1.400000</td>\n",
       "      <td>10</td>\n",
       "      <td>train</td>\n",
       "      <td>14.0</td>\n",
       "      <td>1.0</td>\n",
       "      <td>0.0</td>\n",
       "      <td>1.000000</td>\n",
       "      <td>1.0</td>\n",
       "    </tr>\n",
       "    <tr>\n",
       "      <th>1</th>\n",
       "      <td>1</td>\n",
       "      <td>1</td>\n",
       "      <td>10258</td>\n",
       "      <td>9</td>\n",
       "      <td>2</td>\n",
       "      <td>10</td>\n",
       "      <td>3.333333</td>\n",
       "      <td>10</td>\n",
       "      <td>train</td>\n",
       "      <td>14.0</td>\n",
       "      <td>0.9</td>\n",
       "      <td>0.0</td>\n",
       "      <td>1.000000</td>\n",
       "      <td>1.0</td>\n",
       "    </tr>\n",
       "    <tr>\n",
       "      <th>2</th>\n",
       "      <td>2</td>\n",
       "      <td>1</td>\n",
       "      <td>10326</td>\n",
       "      <td>1</td>\n",
       "      <td>5</td>\n",
       "      <td>5</td>\n",
       "      <td>5.000000</td>\n",
       "      <td>10</td>\n",
       "      <td>train</td>\n",
       "      <td>14.0</td>\n",
       "      <td>0.1</td>\n",
       "      <td>5.0</td>\n",
       "      <td>0.166667</td>\n",
       "      <td>0.0</td>\n",
       "    </tr>\n",
       "    <tr>\n",
       "      <th>3</th>\n",
       "      <td>3</td>\n",
       "      <td>1</td>\n",
       "      <td>12427</td>\n",
       "      <td>10</td>\n",
       "      <td>1</td>\n",
       "      <td>10</td>\n",
       "      <td>3.300000</td>\n",
       "      <td>10</td>\n",
       "      <td>train</td>\n",
       "      <td>14.0</td>\n",
       "      <td>1.0</td>\n",
       "      <td>0.0</td>\n",
       "      <td>1.000000</td>\n",
       "      <td>0.0</td>\n",
       "    </tr>\n",
       "    <tr>\n",
       "      <th>4</th>\n",
       "      <td>4</td>\n",
       "      <td>1</td>\n",
       "      <td>13032</td>\n",
       "      <td>3</td>\n",
       "      <td>2</td>\n",
       "      <td>10</td>\n",
       "      <td>6.333333</td>\n",
       "      <td>10</td>\n",
       "      <td>train</td>\n",
       "      <td>14.0</td>\n",
       "      <td>0.3</td>\n",
       "      <td>0.0</td>\n",
       "      <td>0.333333</td>\n",
       "      <td>1.0</td>\n",
       "    </tr>\n",
       "  </tbody>\n",
       "</table>\n",
       "</div>"
      ],
      "text/plain": [
       "   Unnamed: 0  user_id  product_id  up_orders  up_first_order  up_last_order  \\\n",
       "0           0        1         196         10               1             10   \n",
       "1           1        1       10258          9               2             10   \n",
       "2           2        1       10326          1               5              5   \n",
       "3           3        1       12427         10               1             10   \n",
       "4           4        1       13032          3               2             10   \n",
       "\n",
       "   up_average_cart_order  user_orders eval_set  time_since_last_order  \\\n",
       "0               1.400000           10    train                   14.0   \n",
       "1               3.333333           10    train                   14.0   \n",
       "2               5.000000           10    train                   14.0   \n",
       "3               3.300000           10    train                   14.0   \n",
       "4               6.333333           10    train                   14.0   \n",
       "\n",
       "   up_order_rate  up_orders_since_last_order  up_order_rate_since_first_order  \\\n",
       "0            1.0                         0.0                         1.000000   \n",
       "1            0.9                         0.0                         1.000000   \n",
       "2            0.1                         5.0                         0.166667   \n",
       "3            1.0                         0.0                         1.000000   \n",
       "4            0.3                         0.0                         0.333333   \n",
       "\n",
       "   reordered  \n",
       "0        1.0  \n",
       "1        1.0  \n",
       "2        0.0  \n",
       "3        0.0  \n",
       "4        1.0  "
      ]
     },
     "execution_count": 7,
     "metadata": {},
     "output_type": "execute_result"
    }
   ],
   "source": [
    "up_info.reordered.fillna(0, inplace=True)\n",
    "up_info.head()"
   ]
  },
  {
   "cell_type": "code",
   "execution_count": 8,
   "metadata": {
    "collapsed": false
   },
   "outputs": [
    {
     "data": {
      "text/plain": [
       "958.172696"
      ]
     },
     "execution_count": 8,
     "metadata": {},
     "output_type": "execute_result"
    }
   ],
   "source": [
    "up_info.memory_usage().sum()/1000000"
   ]
  },
  {
   "cell_type": "code",
   "execution_count": 14,
   "metadata": {
    "collapsed": true
   },
   "outputs": [],
   "source": [
    "features = ['up_orders', 'up_average_cart_order', 'user_orders', 'time_since_last_order', 'up_order_rate', 'up_orders_since_last_order', \n",
    "            'up_order_rate_since_first_order']\n",
    "up_info_train = up_info[up_info.eval_set == \"train\"][features + [\"reordered\"]]\n",
    "train_data = up_info_train[features]\n",
    "train_label = up_info_train[\"reordered\"]"
   ]
  },
  {
   "cell_type": "code",
   "execution_count": 18,
   "metadata": {
    "collapsed": false
   },
   "outputs": [
    {
     "data": {
      "text/html": [
       "<div>\n",
       "<table border=\"1\" class=\"dataframe\">\n",
       "  <thead>\n",
       "    <tr style=\"text-align: right;\">\n",
       "      <th></th>\n",
       "      <th>up_orders</th>\n",
       "      <th>up_average_cart_order</th>\n",
       "      <th>user_orders</th>\n",
       "      <th>time_since_last_order</th>\n",
       "      <th>up_order_rate</th>\n",
       "      <th>up_orders_since_last_order</th>\n",
       "      <th>up_order_rate_since_first_order</th>\n",
       "    </tr>\n",
       "  </thead>\n",
       "  <tbody>\n",
       "    <tr>\n",
       "      <th>0</th>\n",
       "      <td>10</td>\n",
       "      <td>1.400000</td>\n",
       "      <td>10</td>\n",
       "      <td>14.0</td>\n",
       "      <td>1.0</td>\n",
       "      <td>0.0</td>\n",
       "      <td>1.000000</td>\n",
       "    </tr>\n",
       "    <tr>\n",
       "      <th>1</th>\n",
       "      <td>9</td>\n",
       "      <td>3.333333</td>\n",
       "      <td>10</td>\n",
       "      <td>14.0</td>\n",
       "      <td>0.9</td>\n",
       "      <td>0.0</td>\n",
       "      <td>1.000000</td>\n",
       "    </tr>\n",
       "    <tr>\n",
       "      <th>2</th>\n",
       "      <td>1</td>\n",
       "      <td>5.000000</td>\n",
       "      <td>10</td>\n",
       "      <td>14.0</td>\n",
       "      <td>0.1</td>\n",
       "      <td>5.0</td>\n",
       "      <td>0.166667</td>\n",
       "    </tr>\n",
       "    <tr>\n",
       "      <th>3</th>\n",
       "      <td>10</td>\n",
       "      <td>3.300000</td>\n",
       "      <td>10</td>\n",
       "      <td>14.0</td>\n",
       "      <td>1.0</td>\n",
       "      <td>0.0</td>\n",
       "      <td>1.000000</td>\n",
       "    </tr>\n",
       "    <tr>\n",
       "      <th>4</th>\n",
       "      <td>3</td>\n",
       "      <td>6.333333</td>\n",
       "      <td>10</td>\n",
       "      <td>14.0</td>\n",
       "      <td>0.3</td>\n",
       "      <td>0.0</td>\n",
       "      <td>0.333333</td>\n",
       "    </tr>\n",
       "  </tbody>\n",
       "</table>\n",
       "</div>"
      ],
      "text/plain": [
       "   up_orders  up_average_cart_order  user_orders  time_since_last_order  \\\n",
       "0         10               1.400000           10                   14.0   \n",
       "1          9               3.333333           10                   14.0   \n",
       "2          1               5.000000           10                   14.0   \n",
       "3         10               3.300000           10                   14.0   \n",
       "4          3               6.333333           10                   14.0   \n",
       "\n",
       "   up_order_rate  up_orders_since_last_order  up_order_rate_since_first_order  \n",
       "0            1.0                         0.0                         1.000000  \n",
       "1            0.9                         0.0                         1.000000  \n",
       "2            0.1                         5.0                         0.166667  \n",
       "3            1.0                         0.0                         1.000000  \n",
       "4            0.3                         0.0                         0.333333  "
      ]
     },
     "execution_count": 18,
     "metadata": {},
     "output_type": "execute_result"
    }
   ],
   "source": [
    "train_data.head()"
   ]
  },
  {
   "cell_type": "code",
   "execution_count": 19,
   "metadata": {
    "collapsed": false
   },
   "outputs": [
    {
     "name": "stdout",
     "output_type": "stream",
     "text": [
      "formating for lgb\n"
     ]
    }
   ],
   "source": [
    "print('formating for lgb')\n",
    "d_train = lgb.Dataset(train_data, label=train_label)\n",
    "#d_train.save_binary(FEATURES_PATH +  'train.bin')"
   ]
  },
  {
   "cell_type": "code",
   "execution_count": 20,
   "metadata": {
    "collapsed": false
   },
   "outputs": [
    {
     "name": "stdout",
     "output_type": "stream",
     "text": [
      "light GBM train :-)\n"
     ]
    }
   ],
   "source": [
    "params = {\n",
    "    'task': 'train',\n",
    "    'boosting_type': 'gbdt',\n",
    "    'objective': 'binary',\n",
    "    'metric': {'binary_logloss'},\n",
    "    'num_leaves': 96,\n",
    "    'max_depth': 10,\n",
    "    'feature_fraction': 0.9,\n",
    "    'bagging_fraction': 0.95,\n",
    "    'bagging_freq': 5\n",
    "}\n",
    "ROUNDS = 100\n",
    "\n",
    "print('light GBM train :-)')\n",
    "bst = lgb.train(params, d_train, ROUNDS)"
   ]
  },
  {
   "cell_type": "code",
   "execution_count": 23,
   "metadata": {
    "collapsed": true
   },
   "outputs": [],
   "source": [
    "bst.save_model(FEATURES_PATH+ 'trained_model.txt')"
   ]
  },
  {
   "cell_type": "code",
   "execution_count": 84,
   "metadata": {
    "collapsed": true
   },
   "outputs": [],
   "source": [
    "test_data = up_info[up_info.eval_set == \"test\"][['user_id', 'product_id'] + features]"
   ]
  },
  {
   "cell_type": "code",
   "execution_count": 85,
   "metadata": {
    "collapsed": false
   },
   "outputs": [
    {
     "name": "stdout",
     "output_type": "stream",
     "text": [
      "light GBM predict\n"
     ]
    },
    {
     "data": {
      "text/plain": [
       "array([ 0.02593077,  0.06310495,  0.09914106, ...,  0.00674819,\n",
       "        0.01007783,  0.0110262 ])"
      ]
     },
     "execution_count": 85,
     "metadata": {},
     "output_type": "execute_result"
    }
   ],
   "source": [
    "print('light GBM predict')\n",
    "preds = bst.predict(test_data[features])\n",
    "preds"
   ]
  },
  {
   "cell_type": "code",
   "execution_count": null,
   "metadata": {
    "collapsed": true
   },
   "outputs": [],
   "source": [
    "test_orders= orders[orders.eval_set == 'test']"
   ]
  },
  {
   "cell_type": "code",
   "execution_count": 116,
   "metadata": {
    "collapsed": false
   },
   "outputs": [
    {
     "data": {
      "text/html": [
       "<div>\n",
       "<table border=\"1\" class=\"dataframe\">\n",
       "  <thead>\n",
       "    <tr style=\"text-align: right;\">\n",
       "      <th></th>\n",
       "      <th>order_id</th>\n",
       "      <th>user_id</th>\n",
       "      <th>eval_set</th>\n",
       "      <th>order_number</th>\n",
       "      <th>order_dow</th>\n",
       "      <th>order_hour_of_day</th>\n",
       "      <th>days_since_prior_order</th>\n",
       "    </tr>\n",
       "  </thead>\n",
       "  <tbody>\n",
       "    <tr>\n",
       "      <th>38</th>\n",
       "      <td>2774568</td>\n",
       "      <td>3</td>\n",
       "      <td>test</td>\n",
       "      <td>13</td>\n",
       "      <td>5</td>\n",
       "      <td>15</td>\n",
       "      <td>11.0</td>\n",
       "    </tr>\n",
       "    <tr>\n",
       "      <th>44</th>\n",
       "      <td>329954</td>\n",
       "      <td>4</td>\n",
       "      <td>test</td>\n",
       "      <td>6</td>\n",
       "      <td>3</td>\n",
       "      <td>12</td>\n",
       "      <td>30.0</td>\n",
       "    </tr>\n",
       "    <tr>\n",
       "      <th>53</th>\n",
       "      <td>1528013</td>\n",
       "      <td>6</td>\n",
       "      <td>test</td>\n",
       "      <td>4</td>\n",
       "      <td>3</td>\n",
       "      <td>16</td>\n",
       "      <td>22.0</td>\n",
       "    </tr>\n",
       "    <tr>\n",
       "      <th>96</th>\n",
       "      <td>1376945</td>\n",
       "      <td>11</td>\n",
       "      <td>test</td>\n",
       "      <td>8</td>\n",
       "      <td>6</td>\n",
       "      <td>11</td>\n",
       "      <td>8.0</td>\n",
       "    </tr>\n",
       "    <tr>\n",
       "      <th>102</th>\n",
       "      <td>1356845</td>\n",
       "      <td>12</td>\n",
       "      <td>test</td>\n",
       "      <td>6</td>\n",
       "      <td>1</td>\n",
       "      <td>20</td>\n",
       "      <td>30.0</td>\n",
       "    </tr>\n",
       "  </tbody>\n",
       "</table>\n",
       "</div>"
      ],
      "text/plain": [
       "     order_id  user_id eval_set  order_number  order_dow  order_hour_of_day  \\\n",
       "38    2774568        3     test            13          5                 15   \n",
       "44     329954        4     test             6          3                 12   \n",
       "53    1528013        6     test             4          3                 16   \n",
       "96    1376945       11     test             8          6                 11   \n",
       "102   1356845       12     test             6          1                 20   \n",
       "\n",
       "     days_since_prior_order  \n",
       "38                     11.0  \n",
       "44                     30.0  \n",
       "53                     22.0  \n",
       "96                      8.0  \n",
       "102                    30.0  "
      ]
     },
     "execution_count": 116,
     "metadata": {},
     "output_type": "execute_result"
    }
   ],
   "source": [
    "test_orders.head()"
   ]
  },
  {
   "cell_type": "code",
   "execution_count": 88,
   "metadata": {
    "collapsed": false
   },
   "outputs": [],
   "source": [
    "prediction = pd.DataFrame()\n",
    "prediction[['user_id', 'product_id']] = test_data[['user_id', 'product_id']]\n",
    "prediction['proba'] = preds\n",
    "prediction.sort_values(by=['user_id', 'proba'], ascending=[True, False], inplace=True)"
   ]
  },
  {
   "cell_type": "code",
   "execution_count": 117,
   "metadata": {
    "collapsed": true
   },
   "outputs": [],
   "source": [
    "prediction = pd.merge(prediction, test_orders[['order_id', 'user_id']], on=\"user_id\", how='left')"
   ]
  },
  {
   "cell_type": "markdown",
   "metadata": {},
   "source": [
    "### Recommendation using average user basket"
   ]
  },
  {
   "cell_type": "code",
   "execution_count": 105,
   "metadata": {
    "collapsed": false
   },
   "outputs": [
    {
     "name": "stdout",
     "output_type": "stream",
     "text": [
      "10000\n",
      "20000\n",
      "30000\n",
      "40000\n",
      "50000\n",
      "60000\n",
      "70000\n"
     ]
    }
   ],
   "source": [
    "products = []\n",
    "count = 0\n",
    "for _,row in test_orders[['user_id', 'order_id']].iterrows():\n",
    "    count += 1\n",
    "    if (count)%10000 == 0:\n",
    "        print(count)    \n",
    "    \n",
    "    user_id, order_id = row['user_id'], row['order_id']\n",
    "    n = int(user_basket_avg.ix[user_id].basket_size_avg)+1\n",
    "    products.append(list(prediction[prediction.user_id == user_id].product_id[:n]))"
   ]
  },
  {
   "cell_type": "code",
   "execution_count": 106,
   "metadata": {
    "collapsed": false
   },
   "outputs": [],
   "source": [
    "# create submission\n",
    "submission = pd.DataFrame()\n",
    "submission['order_id'] = test_orders['order_id']\n",
    "submission['products'] = [' '.join([str(x) for x in p]) for p in products]\n",
    "submission.sort_values(by='order_id', inplace = True)\n",
    "submission.to_csv(FEATURES_PATH + 'submission.csv', index=False)"
   ]
  },
  {
   "cell_type": "code",
   "execution_count": 107,
   "metadata": {
    "collapsed": false
   },
   "outputs": [
    {
     "data": {
      "text/html": [
       "<div>\n",
       "<table border=\"1\" class=\"dataframe\">\n",
       "  <thead>\n",
       "    <tr style=\"text-align: right;\">\n",
       "      <th></th>\n",
       "      <th>order_id</th>\n",
       "      <th>products</th>\n",
       "    </tr>\n",
       "  </thead>\n",
       "  <tbody>\n",
       "    <tr>\n",
       "      <th>611292</th>\n",
       "      <td>17</td>\n",
       "      <td>13107 21463 38777 26429 39275 21709 47766</td>\n",
       "    </tr>\n",
       "    <tr>\n",
       "      <th>584613</th>\n",
       "      <td>34</td>\n",
       "      <td>44663 39475 16083 47766 2596 47792 21137 43504...</td>\n",
       "    </tr>\n",
       "    <tr>\n",
       "      <th>3102779</th>\n",
       "      <td>137</td>\n",
       "      <td>23794 41787 24852 38689 5134 2326 25890 29594 ...</td>\n",
       "    </tr>\n",
       "    <tr>\n",
       "      <th>1929637</th>\n",
       "      <td>182</td>\n",
       "      <td>9337 39275 5479 47672 13629 33000 41149 47209 ...</td>\n",
       "    </tr>\n",
       "    <tr>\n",
       "      <th>590591</th>\n",
       "      <td>257</td>\n",
       "      <td>49235 24852 27104 45013 29837 27966 37646 3947...</td>\n",
       "    </tr>\n",
       "    <tr>\n",
       "      <th>1888538</th>\n",
       "      <td>313</td>\n",
       "      <td>45007 12779 21903 46906 13198 28535 30391 25890</td>\n",
       "    </tr>\n",
       "    <tr>\n",
       "      <th>2880687</th>\n",
       "      <td>353</td>\n",
       "      <td>35561 40688 33000 48183 17302</td>\n",
       "    </tr>\n",
       "    <tr>\n",
       "      <th>924638</th>\n",
       "      <td>386</td>\n",
       "      <td>47766 38281 15872 45066 21479 42265 40759 2485...</td>\n",
       "    </tr>\n",
       "    <tr>\n",
       "      <th>2009806</th>\n",
       "      <td>414</td>\n",
       "      <td>20392 20564 21230 21709 33320 31730 27845 2137...</td>\n",
       "    </tr>\n",
       "    <tr>\n",
       "      <th>556925</th>\n",
       "      <td>418</td>\n",
       "      <td>40268 47766 30489 12036 45364 1503 13702 41950...</td>\n",
       "    </tr>\n",
       "    <tr>\n",
       "      <th>1298828</th>\n",
       "      <td>437</td>\n",
       "      <td>4589 27966 365 5769 10132 45106 1463 13176 302...</td>\n",
       "    </tr>\n",
       "    <tr>\n",
       "      <th>3157714</th>\n",
       "      <td>452</td>\n",
       "      <td>36735 13166 13176 27966 28666 40386 36313 3660...</td>\n",
       "    </tr>\n",
       "    <tr>\n",
       "      <th>1989415</th>\n",
       "      <td>474</td>\n",
       "      <td>47966 41950 47502 17015 5098 20022</td>\n",
       "    </tr>\n",
       "    <tr>\n",
       "      <th>1537295</th>\n",
       "      <td>492</td>\n",
       "      <td>44632 24852 21137 43086 46667 28918 26604 3323...</td>\n",
       "    </tr>\n",
       "    <tr>\n",
       "      <th>2882881</th>\n",
       "      <td>497</td>\n",
       "      <td>31964 1831 39947 27275 36316 21501 17122</td>\n",
       "    </tr>\n",
       "    <tr>\n",
       "      <th>2530384</th>\n",
       "      <td>513</td>\n",
       "      <td>16023 32806 49328 801 17820</td>\n",
       "    </tr>\n",
       "    <tr>\n",
       "      <th>1631633</th>\n",
       "      <td>517</td>\n",
       "      <td>24852 37646 21903 8424 13198 9387 44560 25890 ...</td>\n",
       "    </tr>\n",
       "    <tr>\n",
       "      <th>435727</th>\n",
       "      <td>604</td>\n",
       "      <td>12099 24852 19660 16797 13176</td>\n",
       "    </tr>\n",
       "    <tr>\n",
       "      <th>2225890</th>\n",
       "      <td>680</td>\n",
       "      <td>7743 30441 14836 30353 27275 47977</td>\n",
       "    </tr>\n",
       "    <tr>\n",
       "      <th>2791939</th>\n",
       "      <td>758</td>\n",
       "      <td>19660 651</td>\n",
       "    </tr>\n",
       "    <tr>\n",
       "      <th>862415</th>\n",
       "      <td>759</td>\n",
       "      <td>5612 14651 16959 24852 4290 15269 39527 1752 6...</td>\n",
       "    </tr>\n",
       "    <tr>\n",
       "      <th>2123398</th>\n",
       "      <td>887</td>\n",
       "      <td>24852 25647 41290 49683 28993 39758 39275 2820...</td>\n",
       "    </tr>\n",
       "    <tr>\n",
       "      <th>1484004</th>\n",
       "      <td>1161</td>\n",
       "      <td>22935 47626 44142 31506 43772 20608 26209 3319...</td>\n",
       "    </tr>\n",
       "    <tr>\n",
       "      <th>2153555</th>\n",
       "      <td>1195</td>\n",
       "      <td>2707 13870 22275 19488 3473 17650 43295</td>\n",
       "    </tr>\n",
       "    <tr>\n",
       "      <th>2042161</th>\n",
       "      <td>1304</td>\n",
       "      <td>24852 22035 14218 42585 17122 42265 26298 2390...</td>\n",
       "    </tr>\n",
       "    <tr>\n",
       "      <th>925469</th>\n",
       "      <td>1408</td>\n",
       "      <td>46676 47912 10163 16428 43352 1158 47209 31915...</td>\n",
       "    </tr>\n",
       "    <tr>\n",
       "      <th>2422033</th>\n",
       "      <td>1513</td>\n",
       "      <td>5385 29373 16556 26250 19488 46041 10070 33298...</td>\n",
       "    </tr>\n",
       "    <tr>\n",
       "      <th>2026953</th>\n",
       "      <td>1564</td>\n",
       "      <td>25169 18339 24382</td>\n",
       "    </tr>\n",
       "    <tr>\n",
       "      <th>138409</th>\n",
       "      <td>1727</td>\n",
       "      <td>12218 40310 28710 2489 1313 4210 40348</td>\n",
       "    </tr>\n",
       "    <tr>\n",
       "      <th>1756309</th>\n",
       "      <td>1789</td>\n",
       "      <td>29694 33200 27796 17794 39512</td>\n",
       "    </tr>\n",
       "    <tr>\n",
       "      <th>...</th>\n",
       "      <td>...</td>\n",
       "      <td>...</td>\n",
       "    </tr>\n",
       "    <tr>\n",
       "      <th>2938820</th>\n",
       "      <td>3419522</td>\n",
       "      <td>47759 888 34355 280 27294 37436</td>\n",
       "    </tr>\n",
       "    <tr>\n",
       "      <th>3380545</th>\n",
       "      <td>3419568</td>\n",
       "      <td>196 6184 31651</td>\n",
       "    </tr>\n",
       "    <tr>\n",
       "      <th>28154</th>\n",
       "      <td>3419574</td>\n",
       "      <td>35527 26038 49235 23238 47759</td>\n",
       "    </tr>\n",
       "    <tr>\n",
       "      <th>3297416</th>\n",
       "      <td>3419600</td>\n",
       "      <td>13996 2086 6287 12312 30135</td>\n",
       "    </tr>\n",
       "    <tr>\n",
       "      <th>964246</th>\n",
       "      <td>3419623</td>\n",
       "      <td>4461 49236 24964</td>\n",
       "    </tr>\n",
       "    <tr>\n",
       "      <th>414162</th>\n",
       "      <td>3419726</td>\n",
       "      <td>39877 46616 43961 9507 22935 19057 49412</td>\n",
       "    </tr>\n",
       "    <tr>\n",
       "      <th>600738</th>\n",
       "      <td>3419729</td>\n",
       "      <td>39581 40164 13884 49683 21137</td>\n",
       "    </tr>\n",
       "    <tr>\n",
       "      <th>1873677</th>\n",
       "      <td>3419732</td>\n",
       "      <td>13176 24838 22035 25931 4957 47209 5020 37646 ...</td>\n",
       "    </tr>\n",
       "    <tr>\n",
       "      <th>2373921</th>\n",
       "      <td>3419743</td>\n",
       "      <td>45051 13176 6184 43154 38928 44172</td>\n",
       "    </tr>\n",
       "    <tr>\n",
       "      <th>188751</th>\n",
       "      <td>3419832</td>\n",
       "      <td>27966 260 45747 11712 26604 5450 27845 22281 3...</td>\n",
       "    </tr>\n",
       "    <tr>\n",
       "      <th>714394</th>\n",
       "      <td>3419878</td>\n",
       "      <td>7916 21137 35221 23783 47766 4920 30391 38456 ...</td>\n",
       "    </tr>\n",
       "    <tr>\n",
       "      <th>2900028</th>\n",
       "      <td>3419910</td>\n",
       "      <td>27966 27360 5385 37927 44683 32429 32338 15872...</td>\n",
       "    </tr>\n",
       "    <tr>\n",
       "      <th>3009519</th>\n",
       "      <td>3419934</td>\n",
       "      <td>26209 47626 25146 27845 21497 19173 12889 3376...</td>\n",
       "    </tr>\n",
       "    <tr>\n",
       "      <th>3325117</th>\n",
       "      <td>3420147</td>\n",
       "      <td>15290 5025 25771 19030 32960 41729 6233 20303 ...</td>\n",
       "    </tr>\n",
       "    <tr>\n",
       "      <th>1539925</th>\n",
       "      <td>3420168</td>\n",
       "      <td>44625 1883 8021 24561 14881 18441 27845 38383 ...</td>\n",
       "    </tr>\n",
       "    <tr>\n",
       "      <th>757108</th>\n",
       "      <td>3420237</td>\n",
       "      <td>5451 3896 13176 27423 41192 36377 44949 21137 ...</td>\n",
       "    </tr>\n",
       "    <tr>\n",
       "      <th>1609776</th>\n",
       "      <td>3420327</td>\n",
       "      <td>36988 1940 5077 34234 18362 31502 9076</td>\n",
       "    </tr>\n",
       "    <tr>\n",
       "      <th>1070042</th>\n",
       "      <td>3420360</td>\n",
       "      <td>47652 1774 21903 47144 8929 48679 40545 11481 ...</td>\n",
       "    </tr>\n",
       "    <tr>\n",
       "      <th>2661292</th>\n",
       "      <td>3420390</td>\n",
       "      <td>48720 30949 9407 7905 28924 16254 7308 8539 30...</td>\n",
       "    </tr>\n",
       "    <tr>\n",
       "      <th>468674</th>\n",
       "      <td>3420443</td>\n",
       "      <td>24852 20842 44422 8277 47144 41950 18434 21543...</td>\n",
       "    </tr>\n",
       "    <tr>\n",
       "      <th>2454634</th>\n",
       "      <td>3420449</td>\n",
       "      <td>37687 21903 33768</td>\n",
       "    </tr>\n",
       "    <tr>\n",
       "      <th>549847</th>\n",
       "      <td>3420544</td>\n",
       "      <td>28577 25466 23909 47141 43631 49605 5782 29731...</td>\n",
       "    </tr>\n",
       "    <tr>\n",
       "      <th>460086</th>\n",
       "      <td>3420569</td>\n",
       "      <td>46667 26384 47766 16759 39812 29334 44359 1950...</td>\n",
       "    </tr>\n",
       "    <tr>\n",
       "      <th>582863</th>\n",
       "      <td>3420651</td>\n",
       "      <td>39928 16797 22035 13870 42701 49175 8021 17706...</td>\n",
       "    </tr>\n",
       "    <tr>\n",
       "      <th>1969389</th>\n",
       "      <td>3420702</td>\n",
       "      <td>9018 41885 10305 24852 5803 20073 2525 18804 2...</td>\n",
       "    </tr>\n",
       "    <tr>\n",
       "      <th>3248863</th>\n",
       "      <td>3420740</td>\n",
       "      <td>49005 35951 46252 8174 39146 19660 16291 34429...</td>\n",
       "    </tr>\n",
       "    <tr>\n",
       "      <th>263110</th>\n",
       "      <td>3420877</td>\n",
       "      <td>49111 13646 43122 47209 8277 21137 10768 12238...</td>\n",
       "    </tr>\n",
       "    <tr>\n",
       "      <th>2696027</th>\n",
       "      <td>3420888</td>\n",
       "      <td>10880 44632 35951 2361 7963 22935 20542 28985 ...</td>\n",
       "    </tr>\n",
       "    <tr>\n",
       "      <th>1821161</th>\n",
       "      <td>3420989</td>\n",
       "      <td>35004 46676 42450 47766 47229 43210 13517 5134...</td>\n",
       "    </tr>\n",
       "    <tr>\n",
       "      <th>2552568</th>\n",
       "      <td>3421054</td>\n",
       "      <td>31231 11123 13375 18426 38448 13493 15802 2485...</td>\n",
       "    </tr>\n",
       "  </tbody>\n",
       "</table>\n",
       "<p>75000 rows × 2 columns</p>\n",
       "</div>"
      ],
      "text/plain": [
       "         order_id                                           products\n",
       "611292         17          13107 21463 38777 26429 39275 21709 47766\n",
       "584613         34  44663 39475 16083 47766 2596 47792 21137 43504...\n",
       "3102779       137  23794 41787 24852 38689 5134 2326 25890 29594 ...\n",
       "1929637       182  9337 39275 5479 47672 13629 33000 41149 47209 ...\n",
       "590591        257  49235 24852 27104 45013 29837 27966 37646 3947...\n",
       "1888538       313    45007 12779 21903 46906 13198 28535 30391 25890\n",
       "2880687       353                      35561 40688 33000 48183 17302\n",
       "924638        386  47766 38281 15872 45066 21479 42265 40759 2485...\n",
       "2009806       414  20392 20564 21230 21709 33320 31730 27845 2137...\n",
       "556925        418  40268 47766 30489 12036 45364 1503 13702 41950...\n",
       "1298828       437  4589 27966 365 5769 10132 45106 1463 13176 302...\n",
       "3157714       452  36735 13166 13176 27966 28666 40386 36313 3660...\n",
       "1989415       474                 47966 41950 47502 17015 5098 20022\n",
       "1537295       492  44632 24852 21137 43086 46667 28918 26604 3323...\n",
       "2882881       497           31964 1831 39947 27275 36316 21501 17122\n",
       "2530384       513                        16023 32806 49328 801 17820\n",
       "1631633       517  24852 37646 21903 8424 13198 9387 44560 25890 ...\n",
       "435727        604                      12099 24852 19660 16797 13176\n",
       "2225890       680                 7743 30441 14836 30353 27275 47977\n",
       "2791939       758                                          19660 651\n",
       "862415        759  5612 14651 16959 24852 4290 15269 39527 1752 6...\n",
       "2123398       887  24852 25647 41290 49683 28993 39758 39275 2820...\n",
       "1484004      1161  22935 47626 44142 31506 43772 20608 26209 3319...\n",
       "2153555      1195            2707 13870 22275 19488 3473 17650 43295\n",
       "2042161      1304  24852 22035 14218 42585 17122 42265 26298 2390...\n",
       "925469       1408  46676 47912 10163 16428 43352 1158 47209 31915...\n",
       "2422033      1513  5385 29373 16556 26250 19488 46041 10070 33298...\n",
       "2026953      1564                                  25169 18339 24382\n",
       "138409       1727             12218 40310 28710 2489 1313 4210 40348\n",
       "1756309      1789                      29694 33200 27796 17794 39512\n",
       "...           ...                                                ...\n",
       "2938820   3419522                    47759 888 34355 280 27294 37436\n",
       "3380545   3419568                                     196 6184 31651\n",
       "28154     3419574                      35527 26038 49235 23238 47759\n",
       "3297416   3419600                        13996 2086 6287 12312 30135\n",
       "964246    3419623                                   4461 49236 24964\n",
       "414162    3419726           39877 46616 43961 9507 22935 19057 49412\n",
       "600738    3419729                      39581 40164 13884 49683 21137\n",
       "1873677   3419732  13176 24838 22035 25931 4957 47209 5020 37646 ...\n",
       "2373921   3419743                 45051 13176 6184 43154 38928 44172\n",
       "188751    3419832  27966 260 45747 11712 26604 5450 27845 22281 3...\n",
       "714394    3419878  7916 21137 35221 23783 47766 4920 30391 38456 ...\n",
       "2900028   3419910  27966 27360 5385 37927 44683 32429 32338 15872...\n",
       "3009519   3419934  26209 47626 25146 27845 21497 19173 12889 3376...\n",
       "3325117   3420147  15290 5025 25771 19030 32960 41729 6233 20303 ...\n",
       "1539925   3420168  44625 1883 8021 24561 14881 18441 27845 38383 ...\n",
       "757108    3420237  5451 3896 13176 27423 41192 36377 44949 21137 ...\n",
       "1609776   3420327             36988 1940 5077 34234 18362 31502 9076\n",
       "1070042   3420360  47652 1774 21903 47144 8929 48679 40545 11481 ...\n",
       "2661292   3420390  48720 30949 9407 7905 28924 16254 7308 8539 30...\n",
       "468674    3420443  24852 20842 44422 8277 47144 41950 18434 21543...\n",
       "2454634   3420449                                  37687 21903 33768\n",
       "549847    3420544  28577 25466 23909 47141 43631 49605 5782 29731...\n",
       "460086    3420569  46667 26384 47766 16759 39812 29334 44359 1950...\n",
       "582863    3420651  39928 16797 22035 13870 42701 49175 8021 17706...\n",
       "1969389   3420702  9018 41885 10305 24852 5803 20073 2525 18804 2...\n",
       "3248863   3420740  49005 35951 46252 8174 39146 19660 16291 34429...\n",
       "263110    3420877  49111 13646 43122 47209 8277 21137 10768 12238...\n",
       "2696027   3420888  10880 44632 35951 2361 7963 22935 20542 28985 ...\n",
       "1821161   3420989  35004 46676 42450 47766 47229 43210 13517 5134...\n",
       "2552568   3421054  31231 11123 13375 18426 38448 13493 15802 2485...\n",
       "\n",
       "[75000 rows x 2 columns]"
      ]
     },
     "execution_count": 107,
     "metadata": {},
     "output_type": "execute_result"
    }
   ],
   "source": [
    "submission"
   ]
  },
  {
   "cell_type": "markdown",
   "metadata": {},
   "source": [
    "#### Feature importance"
   ]
  },
  {
   "cell_type": "code",
   "execution_count": 111,
   "metadata": {
    "collapsed": true
   },
   "outputs": [],
   "source": [
    "import matplotlib.pyplot as plt\n",
    "%matplotlib inline"
   ]
  },
  {
   "cell_type": "code",
   "execution_count": 113,
   "metadata": {
    "collapsed": false
   },
   "outputs": [
    {
     "name": "stdout",
     "output_type": "stream",
     "text": [
      "Plot feature importances...\n"
     ]
    },
    {
     "data": {
      "image/png": "[encoded data removed]",
      "text/plain": [
       "<matplotlib.figure.Figure at 0x7f09d8b93e48>"
      ]
     },
     "metadata": {},
     "output_type": "display_data"
    }
   ],
   "source": [
    "print('Plot feature importances...')\n",
    "ax = lgb.plot_importance(bst, max_num_features=10)\n",
    "plt.show()\n"
   ]
  },
  {
   "cell_type": "markdown",
   "metadata": {},
   "source": [
    "### Recommendation using threshold"
   ]
  },
  {
   "cell_type": "code",
   "execution_count": 144,
   "metadata": {
    "collapsed": false
   },
   "outputs": [],
   "source": [
    "threshold = 0.21\n",
    "recommend = prediction[prediction.proba >= threshold].groupby('order_id').product_id.apply(list)"
   ]
  },
  {
   "cell_type": "code",
   "execution_count": 164,
   "metadata": {
    "collapsed": false
   },
   "outputs": [
    {
     "data": {
      "text/html": [
       "<div>\n",
       "<table border=\"1\" class=\"dataframe\">\n",
       "  <thead>\n",
       "    <tr style=\"text-align: right;\">\n",
       "      <th></th>\n",
       "      <th>count</th>\n",
       "      <th>product_list</th>\n",
       "    </tr>\n",
       "    <tr>\n",
       "      <th>order_id</th>\n",
       "      <th></th>\n",
       "      <th></th>\n",
       "    </tr>\n",
       "  </thead>\n",
       "  <tbody>\n",
       "    <tr>\n",
       "      <th>17</th>\n",
       "      <td>21</td>\n",
       "      <td>[13107, 21463]</td>\n",
       "    </tr>\n",
       "    <tr>\n",
       "      <th>34</th>\n",
       "      <td>78</td>\n",
       "      <td>[44663, 39475, 16083, 47766, 2596, 47792, 2113...</td>\n",
       "    </tr>\n",
       "    <tr>\n",
       "      <th>137</th>\n",
       "      <td>68</td>\n",
       "      <td>[23794, 41787, 24852, 38689, 5134, 2326, 25890]</td>\n",
       "    </tr>\n",
       "    <tr>\n",
       "      <th>182</th>\n",
       "      <td>100</td>\n",
       "      <td>[9337, 39275, 5479, 47672, 13629, 33000, 41149...</td>\n",
       "    </tr>\n",
       "    <tr>\n",
       "      <th>257</th>\n",
       "      <td>57</td>\n",
       "      <td>[49235, 24852, 27104, 45013, 29837, 27966, 376...</td>\n",
       "    </tr>\n",
       "  </tbody>\n",
       "</table>\n",
       "</div>"
      ],
      "text/plain": [
       "          count                                       product_list\n",
       "order_id                                                          \n",
       "17           21                                     [13107, 21463]\n",
       "34           78  [44663, 39475, 16083, 47766, 2596, 47792, 2113...\n",
       "137          68    [23794, 41787, 24852, 38689, 5134, 2326, 25890]\n",
       "182         100  [9337, 39275, 5479, 47672, 13629, 33000, 41149...\n",
       "257          57  [49235, 24852, 27104, 45013, 29837, 27966, 376..."
      ]
     },
     "execution_count": 164,
     "metadata": {},
     "output_type": "execute_result"
    }
   ],
   "source": [
    "recommend_df = pd.DataFrame()\n",
    "recommend_df[\"count\"] = prediction.groupby('order_id').size()\n",
    "recommend_df['product_list'] = recommend\n"
   ]
  },
  {
   "cell_type": "code",
   "execution_count": 203,
   "metadata": {
    "collapsed": false
   },
   "outputs": [],
   "source": [
    "recommend_df['products'].to_csv(FEATURES_PATH + 'recommend.csv', header = True)"
   ]
  },
  {
   "cell_type": "code",
   "execution_count": 202,
   "metadata": {
    "collapsed": false
   },
   "outputs": [],
   "source": [
    "recommend_df['products']= recommend_df.product_list.apply(lambda p: ' '.join([str(x)  for x in p]) if type(p) == list else 'None' ) "
   ]
  },
  {
   "cell_type": "code",
   "execution_count": 204,
   "metadata": {
    "collapsed": false
   },
   "outputs": [
    {
     "data": {
      "text/plain": [
       "8474661"
      ]
     },
     "execution_count": 204,
     "metadata": {},
     "output_type": "execute_result"
    }
   ],
   "source": [
    "len(train_data)"
   ]
  },
  {
   "cell_type": "code",
   "execution_count": null,
   "metadata": {
    "collapsed": true
   },
   "outputs": [],
   "source": []
  }
 ],
 "metadata": {
  "kernelspec": {
   "display_name": "Python 3",
   "language": "python",
   "name": "python3"
  },
  "language_info": {
   "codemirror_mode": {
    "name": "ipython",
    "version": 3
   },
   "file_extension": ".py",
   "mimetype": "text/x-python",
   "name": "python",
   "nbconvert_exporter": "python",
   "pygments_lexer": "ipython3",
   "version": "3.6.0"
  }
 },
 "nbformat": 4,
 "nbformat_minor": 2
}
