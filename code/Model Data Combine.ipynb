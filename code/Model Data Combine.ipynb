{
 "cells": [
  {
   "cell_type": "code",
   "execution_count": null,
   "metadata": {
    "collapsed": false
   },
   "outputs": [],
   "source": [
    "# Author : Trong Canh Nguyen\n",
    "\n",
    "# This script considers all the products a user has ordered\n",
    "#\n",
    "# We train a model computing the probability of reorder on the \"train\" data\n",
    "#\n",
    "# For the submission, we keep the orders that have a probability of\n",
    "# reorder higher than a threshold\n",
    "\n",
    "\n",
    "import numpy as np\n",
    "import pandas as pd\n",
    "import lightgbm as lgb\n",
    "import h5py\n",
    "import gc\n",
    "IDIR = '../input/'\n",
    "FEATURES_PATH = './features3/'\n",
    "\n",
    "IDIR4 = '../input/'\n",
    "FEATURES_PATH4 = './features3_2/'"
   ]
  },
  {
   "cell_type": "code",
   "execution_count": null,
   "metadata": {
    "collapsed": false
   },
   "outputs": [],
   "source": [
    "gc.collect()"
   ]
  },
  {
   "cell_type": "markdown",
   "metadata": {},
   "source": [
    "## Data Load"
   ]
  },
  {
   "cell_type": "code",
   "execution_count": null,
   "metadata": {
    "collapsed": true
   },
   "outputs": [],
   "source": [
    "import pickle\n",
    "with open(FEATURES_PATH + 'dtypes.pickle', 'rb') as f:\n",
    "    dtype_dict = pickle.load(f)\n",
    "dtype_dict"
   ]
  },
  {
   "cell_type": "markdown",
   "metadata": {
    "collapsed": false
   },
   "source": [
    "### Combine data"
   ]
  },
  {
   "cell_type": "code",
   "execution_count": null,
   "metadata": {
    "collapsed": false
   },
   "outputs": [],
   "source": [
    "data0 = pd.read_hdf(FEATURES_PATH + \"data.h5\", \"data\")\n",
    "data0.reset_index(inplace=True)\n",
    "print(\"memory = \", data0.memory_usage().sum()/1000000)"
   ]
  },
  {
   "cell_type": "code",
   "execution_count": null,
   "metadata": {
    "collapsed": true
   },
   "outputs": [],
   "source": [
    "data0['data_set'] = 0\n",
    "data0['data_set'] = data0['data_set'].astype(np.int8)"
   ]
  },
  {
   "cell_type": "code",
   "execution_count": null,
   "metadata": {
    "collapsed": false
   },
   "outputs": [],
   "source": [
    "data4 = pd.read_hdf(FEATURES_PATH4 + \"data4.h5\", \"data\")\n",
    "data4.reset_index(inplace=True)\n",
    "print(\"memory = \", data4.memory_usage().sum()/1000000)"
   ]
  },
  {
   "cell_type": "code",
   "execution_count": null,
   "metadata": {
    "collapsed": true
   },
   "outputs": [],
   "source": [
    "data4['data_set'] = 1\n",
    "data4['data_set'] = data4['data_set'].astype(np.int8)"
   ]
  },
  {
   "cell_type": "code",
   "execution_count": null,
   "metadata": {
    "collapsed": true
   },
   "outputs": [],
   "source": [
    "data = pd.concat([data0, data4])"
   ]
  },
  {
   "cell_type": "code",
   "execution_count": null,
   "metadata": {
    "collapsed": false
   },
   "outputs": [],
   "source": [
    "data.set_index(['user_id', 'product_id', 'data_set'], inplace = True)"
   ]
  },
  {
   "cell_type": "code",
   "execution_count": null,
   "metadata": {
    "collapsed": true
   },
   "outputs": [],
   "source": [
    "store = pd.HDFStore(FEATURES_PATH + \"./data_total.h5\")\n",
    "store[\"data\"] = data\n",
    "store.close()"
   ]
  },
  {
   "cell_type": "markdown",
   "metadata": {},
   "source": [
    "### Load from h5"
   ]
  },
  {
   "cell_type": "code",
   "execution_count": null,
   "metadata": {
    "collapsed": false
   },
   "outputs": [],
   "source": [
    "data = pd.read_hdf(FEATURES_PATH + \"data_total.h5\", \"data\")"
   ]
  },
  {
   "cell_type": "code",
   "execution_count": null,
   "metadata": {
    "collapsed": false
   },
   "outputs": [],
   "source": [
    "print(\"len data\", len(data))\n",
    "print(\"memory = \", data.memory_usage().sum()/1000000)"
   ]
  },
  {
   "cell_type": "markdown",
   "metadata": {},
   "source": [
    "### Data train"
   ]
  },
  {
   "cell_type": "code",
   "execution_count": null,
   "metadata": {
    "collapsed": false
   },
   "outputs": [],
   "source": [
    "data_train = data[data.user_eval_set == \"train\"]"
   ]
  },
  {
   "cell_type": "code",
   "execution_count": null,
   "metadata": {
    "collapsed": false
   },
   "outputs": [],
   "source": [
    "# save\n",
    "data_train.to_hdf(FEATURES_PATH + \"./data_train_total.h5\", \"data\", mode =\"w\")"
   ]
  },
  {
   "cell_type": "code",
   "execution_count": null,
   "metadata": {
    "collapsed": true
   },
   "outputs": [],
   "source": [
    "# Load\n",
    "data_train = pd.read_hdf(FEATURES_PATH + \"data_train_total.h5\", \"data\")"
   ]
  },
  {
   "cell_type": "code",
   "execution_count": null,
   "metadata": {
    "collapsed": false
   },
   "outputs": [],
   "source": [
    "print(\"len data train\", len(data_train))\n",
    "print(\"memory = \", data_train.memory_usage().sum()/1000000)"
   ]
  },
  {
   "cell_type": "markdown",
   "metadata": {},
   "source": [
    "### Data test"
   ]
  },
  {
   "cell_type": "code",
   "execution_count": null,
   "metadata": {
    "collapsed": true
   },
   "outputs": [],
   "source": [
    "data_test = data[data.user_eval_set == \"test\"]\n",
    "data_test.to_hdf(FEATURES_PATH + \"./data_test_total.h5\", \"data\", mode = \"w\")"
   ]
  },
  {
   "cell_type": "code",
   "execution_count": 13,
   "metadata": {
    "collapsed": true
   },
   "outputs": [],
   "source": [
    "data_test = pd.read_hdf(FEATURES_PATH + \"data_test_total.h5\", \"data\")"
   ]
  },
  {
   "cell_type": "code",
   "execution_count": null,
   "metadata": {
    "collapsed": false
   },
   "outputs": [],
   "source": [
    "print(\"len test train\", len(data_test))\n",
    "print(\"memory = \", data_test.memory_usage().sum()/1000000)"
   ]
  },
  {
   "cell_type": "markdown",
   "metadata": {},
   "source": [
    "# MODEL"
   ]
  },
  {
   "cell_type": "code",
   "execution_count": null,
   "metadata": {
    "collapsed": false
   },
   "outputs": [],
   "source": [
    "columns = [   \n",
    "    'aisle_id', \n",
    " 'department_id',\n",
    "    'user_eval_set',\n",
    "    'up_reordered',\n",
    " 'product_reorder_ratio', \n",
    " 'up_add_to_cart_order_mean',\n",
    " 'up_days_since_last_order',  \n",
    " 'up_in_same_day_previous_order',  \n",
    " 'up_order_rate',\n",
    " 'up_order_rate_since_first_order', \n",
    " 'up_orders',\n",
    " 'up_orders_since_last_order',  \n",
    " 'aisle_reorder_rate', \n",
    " 'dep_reorder_rate',             \n",
    " 'user_aisle_reorder_rate',\n",
    " 'user_days_since_last_order', \n",
    " 'user_dep_reorder_rate', \n",
    " \n",
    " 'user_order_size_mean', \n",
    " 'user_reorder_rate', \n",
    " 'user_total_order'\n",
    "  ]\n",
    "\n",
    "data = data[columns]"
   ]
  },
  {
   "cell_type": "code",
   "execution_count": 5,
   "metadata": {
    "collapsed": true
   },
   "outputs": [],
   "source": [
    "features = [    \n",
    "    'product_reorder_ratio', \n",
    " 'up_add_to_cart_order_mean',\n",
    " 'up_days_since_last_order',  \n",
    " 'up_in_same_day_previous_order',  \n",
    " 'up_order_rate',\n",
    " 'up_order_rate_since_first_order', \n",
    " 'up_orders',\n",
    " 'up_orders_since_last_order',  \n",
    " 'aisle_reorder_rate', \n",
    " 'dep_reorder_rate',             \n",
    " 'user_days_since_last_order', \n",
    " 'user_order_size_mean', \n",
    " 'user_reorder_rate', \n",
    " 'user_total_order']\n"
   ]
  },
  {
   "cell_type": "code",
   "execution_count": null,
   "metadata": {
    "collapsed": false
   },
   "outputs": [],
   "source": [
    "X_train_values = data_train[features].values"
   ]
  },
  {
   "cell_type": "code",
   "execution_count": null,
   "metadata": {
    "collapsed": true
   },
   "outputs": [],
   "source": [
    "y_train_values = data_train['up_reordered'].values"
   ]
  },
  {
   "cell_type": "code",
   "execution_count": null,
   "metadata": {
    "collapsed": true
   },
   "outputs": [],
   "source": [
    "with h5py.File(FEATURES_PATH+ 'data_train_values.h5', 'w') as hf:\n",
    "    hf.create_dataset(\"X_train_values\",  data=X_train_values)\n",
    "\n",
    "with h5py.File(FEATURES_PATH+ 'data_train_values.h5', 'a') as hf:\n",
    "    hf.create_dataset(\"y_train_values\",  data=y_train_values)"
   ]
  },
  {
   "cell_type": "code",
   "execution_count": null,
   "metadata": {
    "collapsed": true
   },
   "outputs": [],
   "source": [
    "X_test_values = data_test[features].values"
   ]
  },
  {
   "cell_type": "code",
   "execution_count": null,
   "metadata": {
    "collapsed": true
   },
   "outputs": [],
   "source": [
    "with h5py.File(FEATURES_PATH+ 'data_test_values.h5', 'w') as hf:\n",
    "    hf.create_dataset(\"X_test_values\",  data=X_test_values)"
   ]
  },
  {
   "cell_type": "code",
   "execution_count": 3,
   "metadata": {
    "collapsed": false
   },
   "outputs": [
    {
     "name": "stdout",
     "output_type": "stream",
     "text": [
      "True\n",
      "True\n"
     ]
    }
   ],
   "source": [
    "print((len(X_train_values)==20499354))\n",
    "print((len(y_train_values)==20499354))"
   ]
  },
  {
   "cell_type": "markdown",
   "metadata": {},
   "source": [
    "## Load train data from h5"
   ]
  },
  {
   "cell_type": "code",
   "execution_count": 2,
   "metadata": {
    "collapsed": false
   },
   "outputs": [],
   "source": [
    "with h5py.File(FEATURES_PATH+ 'data_train_values.h5', 'r') as hf:\n",
    "    X_train_values = hf['X_train_values'][:]\n",
    "    y_train_values = hf['y_train_values'][:]"
   ]
  },
  {
   "cell_type": "code",
   "execution_count": 6,
   "metadata": {
    "collapsed": false
   },
   "outputs": [
    {
     "name": "stdout",
     "output_type": "stream",
     "text": [
      "formating for lgb\n"
     ]
    }
   ],
   "source": [
    "print('formating for lgb')\n",
    "d_train = lgb.Dataset(X_train_values, label=y_train_values, feature_name = features)"
   ]
  },
  {
   "cell_type": "code",
   "execution_count": 7,
   "metadata": {
    "collapsed": false
   },
   "outputs": [],
   "source": [
    "d_train.save_binary(FEATURES_PATH +  'train_total.bin')"
   ]
  },
  {
   "cell_type": "code",
   "execution_count": 24,
   "metadata": {
    "collapsed": false
   },
   "outputs": [
    {
     "name": "stdout",
     "output_type": "stream",
     "text": [
      "light GBM train :-)\n"
     ]
    }
   ],
   "source": [
    "params = {\n",
    "    'task': 'train',\n",
    "    'boosting_type': 'gbdt',\n",
    "    'objective': 'binary',\n",
    "    'metric': {'binary_logloss'},\n",
    "    'num_leaves': 512,\n",
    "    'max_depth': 10,\n",
    "    'feature_fraction': 0.9,\n",
    "    'bagging_fraction': 0.95,\n",
    "    'bagging_freq': 5\n",
    "}\n",
    "ROUNDS = 200\n",
    "\n",
    "print('light GBM train :-)')\n",
    "bst = lgb.train(params, d_train, ROUNDS)"
   ]
  },
  {
   "cell_type": "code",
   "execution_count": 25,
   "metadata": {
    "collapsed": true
   },
   "outputs": [],
   "source": [
    "bst.save_model(FEATURES_PATH+ 'trained_model_total_data_2.txt')"
   ]
  },
  {
   "cell_type": "code",
   "execution_count": 26,
   "metadata": {
    "collapsed": false
   },
   "outputs": [
    {
     "data": {
      "text/plain": [
       "[('training', 'binary_logloss', 0.23919039691284924, False)]"
      ]
     },
     "execution_count": 26,
     "metadata": {},
     "output_type": "execute_result"
    }
   ],
   "source": [
    "bst.eval_train()"
   ]
  },
  {
   "cell_type": "markdown",
   "metadata": {},
   "source": [
    "### Validation"
   ]
  },
  {
   "cell_type": "code",
   "execution_count": null,
   "metadata": {
    "collapsed": true
   },
   "outputs": [],
   "source": [
    "def precision(y, y_, correct):\n",
    "    if y_>0:\n",
    "        return correct/y_\n",
    "    else:\n",
    "        return 1.0\n",
    "        \n",
    "def recall(y, y_, correct):\n",
    "    if y>0:\n",
    "        return correct/y\n",
    "    else:\n",
    "        return 1.0\n",
    "\n",
    "def f1(y,y_, correct):\n",
    "    p = precision(y, y_, correct)\n",
    "    r = recall(y, y_, correct)\n",
    "    if (p == 0) and (r ==0):\n",
    "        return 0.\n",
    "    f1 = 2*p*r/(p+r)\n",
    "    return f1\n",
    "\n",
    "def compute_f1(valid_df, threshold):\n",
    "    valid_df['y_'] = valid_df['pred'] > threshold\n",
    "    valid_df['correct'] = (valid_df['y'] == valid_df['y_']) & (valid_df['y_'])\n",
    "    result = valid_df.groupby('user_id').sum()\n",
    "    result['f1'] = result.apply(lambda row: f1(row['y'], row['y_'], row['correct']), axis=1)\n",
    "    return result['f1'].mean()"
   ]
  },
  {
   "cell_type": "code",
   "execution_count": null,
   "metadata": {
    "collapsed": false
   },
   "outputs": [],
   "source": [
    "pred_valid = bst.predict(X_valid)"
   ]
  },
  {
   "cell_type": "code",
   "execution_count": null,
   "metadata": {
    "collapsed": false
   },
   "outputs": [],
   "source": [
    "valid_df = data.ix[X_valid.index][['user_id', 'product_id']]\n",
    "valid_df[\"y\"] = y_valid\n",
    "valid_df[\"pred\"] = pred_valid\n",
    "valid_df[\"y_\"] = valid_df[\"pred\"]  >= 0.20\n",
    "valid_df['correct'] = (valid_df['y'] == valid_df['y_']) & (valid_df['y_'])\n",
    "valid_df.sort_values(['user_id', 'pred'], ascending=[True, False], inplace = True)\n",
    "#print(\"valid log loss = \", -((valid_df[\"y\"]*np.log(valid_df[\"pred\"])+ (1.-valid_df[\"y\"])* np.log(1.- valid_df[\"pred\"]))).mean())"
   ]
  },
  {
   "cell_type": "code",
   "execution_count": null,
   "metadata": {
    "collapsed": false
   },
   "outputs": [],
   "source": [
    "result = valid_df.groupby('user_id').sum()\n",
    "result['f1'] = result.apply(lambda row: f1(row['y'], row['y_'], row['correct']), axis=1)"
   ]
  },
  {
   "cell_type": "code",
   "execution_count": null,
   "metadata": {
    "collapsed": false
   },
   "outputs": [],
   "source": [
    "result[result.y_ == 0]"
   ]
  },
  {
   "cell_type": "code",
   "execution_count": null,
   "metadata": {
    "collapsed": false
   },
   "outputs": [],
   "source": [
    "compute_f1(valid_df, 0.20)"
   ]
  },
  {
   "cell_type": "markdown",
   "metadata": {},
   "source": [
    "## Generate predictions"
   ]
  },
  {
   "cell_type": "code",
   "execution_count": null,
   "metadata": {
    "collapsed": true
   },
   "outputs": [],
   "source": [
    "bst = lgb.Booster(model_file=FEATURES_PATH+ 'trained_model_total_data.txt')"
   ]
  },
  {
   "cell_type": "code",
   "execution_count": 11,
   "metadata": {
    "collapsed": true
   },
   "outputs": [],
   "source": [
    "with h5py.File(FEATURES_PATH+ 'data_test_values.h5', 'r') as hf:\n",
    "    X_test_values = hf['X_test_values'][:]"
   ]
  },
  {
   "cell_type": "code",
   "execution_count": 27,
   "metadata": {
    "collapsed": false
   },
   "outputs": [
    {
     "name": "stdout",
     "output_type": "stream",
     "text": [
      "light GBM predict\n"
     ]
    },
    {
     "data": {
      "text/plain": [
       "array([ 0.02278097,  0.07159386,  0.1392367 , ...,  0.0055673 ,\n",
       "        0.00255577,  0.01035494])"
      ]
     },
     "execution_count": 27,
     "metadata": {},
     "output_type": "execute_result"
    }
   ],
   "source": [
    "print('light GBM predict')\n",
    "pred_test = bst.predict(X_test_values)\n",
    "pred_test"
   ]
  },
  {
   "cell_type": "code",
   "execution_count": 14,
   "metadata": {
    "collapsed": true
   },
   "outputs": [],
   "source": [
    "orders = pd.read_csv(IDIR + 'orders.csv', dtype={\n",
    "        'order_id': np.int32,\n",
    "        'user_id': np.int32},\n",
    "        usecols=[\"order_id\", \"user_id\", \"eval_set\"])\n",
    "\n",
    "test_orders= orders[orders.eval_set == 'test']"
   ]
  },
  {
   "cell_type": "code",
   "execution_count": 28,
   "metadata": {
    "collapsed": false
   },
   "outputs": [],
   "source": [
    "prediction = pd.DataFrame()\n",
    "data_test.reset_index(inplace = True)\n",
    "prediction[['user_id', 'product_id']] = data_test[['user_id', 'product_id']]\n",
    "prediction['proba'] = pred_test\n",
    "prediction.sort_values(by=['user_id', 'proba'], ascending=[True, False], inplace=True)\n",
    "prediction = pd.merge(prediction, test_orders[['order_id', 'user_id']], on=\"user_id\", how='left')"
   ]
  },
  {
   "cell_type": "markdown",
   "metadata": {},
   "source": [
    "## Feature importance"
   ]
  },
  {
   "cell_type": "code",
   "execution_count": 29,
   "metadata": {
    "collapsed": true
   },
   "outputs": [],
   "source": [
    "import matplotlib.pyplot as plt\n",
    "%matplotlib inline"
   ]
  },
  {
   "cell_type": "code",
   "execution_count": 30,
   "metadata": {
    "collapsed": false
   },
   "outputs": [
    {
     "name": "stdout",
     "output_type": "stream",
     "text": [
      "Plot feature importances...\n"
     ]
    },
    {
     "data": {
      "image/png": "[encoded data removed]",
      "text/plain": [
       "<matplotlib.figure.Figure at 0x7fe3f19c3358>"
      ]
     },
     "metadata": {},
     "output_type": "display_data"
    }
   ],
   "source": [
    "print('Plot feature importances...')\n",
    "ax = lgb.plot_importance(bst, max_num_features=20)\n",
    "plt.show()\n"
   ]
  },
  {
   "cell_type": "markdown",
   "metadata": {},
   "source": [
    "### Recommendation using threshold"
   ]
  },
  {
   "cell_type": "code",
   "execution_count": 31,
   "metadata": {
    "collapsed": false
   },
   "outputs": [],
   "source": [
    "threshold = 0.20\n",
    "recommend = prediction[prediction.proba >= threshold].groupby('order_id').product_id.apply(list)"
   ]
  },
  {
   "cell_type": "code",
   "execution_count": 32,
   "metadata": {
    "collapsed": false
   },
   "outputs": [
    {
     "data": {
      "text/html": [
       "<div>\n",
       "<style>\n",
       "    .dataframe thead tr:only-child th {\n",
       "        text-align: right;\n",
       "    }\n",
       "\n",
       "    .dataframe thead th {\n",
       "        text-align: left;\n",
       "    }\n",
       "\n",
       "    .dataframe tbody tr th {\n",
       "        vertical-align: top;\n",
       "    }\n",
       "</style>\n",
       "<table border=\"1\" class=\"dataframe\">\n",
       "  <thead>\n",
       "    <tr style=\"text-align: right;\">\n",
       "      <th></th>\n",
       "      <th>user_id</th>\n",
       "      <th>product_id</th>\n",
       "      <th>proba</th>\n",
       "      <th>order_id</th>\n",
       "    </tr>\n",
       "  </thead>\n",
       "  <tbody>\n",
       "    <tr>\n",
       "      <th>0</th>\n",
       "      <td>3</td>\n",
       "      <td>39190</td>\n",
       "      <td>0.694264</td>\n",
       "      <td>2774568</td>\n",
       "    </tr>\n",
       "    <tr>\n",
       "      <th>1</th>\n",
       "      <td>3</td>\n",
       "      <td>47766</td>\n",
       "      <td>0.684499</td>\n",
       "      <td>2774568</td>\n",
       "    </tr>\n",
       "    <tr>\n",
       "      <th>2</th>\n",
       "      <td>3</td>\n",
       "      <td>21903</td>\n",
       "      <td>0.608418</td>\n",
       "      <td>2774568</td>\n",
       "    </tr>\n",
       "    <tr>\n",
       "      <th>3</th>\n",
       "      <td>3</td>\n",
       "      <td>43961</td>\n",
       "      <td>0.370602</td>\n",
       "      <td>2774568</td>\n",
       "    </tr>\n",
       "    <tr>\n",
       "      <th>4</th>\n",
       "      <td>3</td>\n",
       "      <td>18599</td>\n",
       "      <td>0.354240</td>\n",
       "      <td>2774568</td>\n",
       "    </tr>\n",
       "  </tbody>\n",
       "</table>\n",
       "</div>"
      ],
      "text/plain": [
       "   user_id  product_id     proba  order_id\n",
       "0        3       39190  0.694264   2774568\n",
       "1        3       47766  0.684499   2774568\n",
       "2        3       21903  0.608418   2774568\n",
       "3        3       43961  0.370602   2774568\n",
       "4        3       18599  0.354240   2774568"
      ]
     },
     "execution_count": 32,
     "metadata": {},
     "output_type": "execute_result"
    }
   ],
   "source": [
    "prediction.head()"
   ]
  },
  {
   "cell_type": "code",
   "execution_count": 33,
   "metadata": {
    "collapsed": false
   },
   "outputs": [],
   "source": [
    "recommend_df = pd.DataFrame()\n",
    "recommend_df[\"count\"] = prediction.groupby('order_id').size()\n",
    "recommend_df['product_list'] = recommend\n",
    "recommend_df['products']= recommend_df.product_list.apply(lambda p: ' '.join([str(x)  for x in p]) if type(p) == list else 'None' ) "
   ]
  },
  {
   "cell_type": "code",
   "execution_count": 34,
   "metadata": {
    "collapsed": false
   },
   "outputs": [
    {
     "data": {
      "text/html": [
       "<div>\n",
       "<style>\n",
       "    .dataframe thead tr:only-child th {\n",
       "        text-align: right;\n",
       "    }\n",
       "\n",
       "    .dataframe thead th {\n",
       "        text-align: left;\n",
       "    }\n",
       "\n",
       "    .dataframe tbody tr th {\n",
       "        vertical-align: top;\n",
       "    }\n",
       "</style>\n",
       "<table border=\"1\" class=\"dataframe\">\n",
       "  <thead>\n",
       "    <tr style=\"text-align: right;\">\n",
       "      <th></th>\n",
       "      <th>count</th>\n",
       "      <th>product_list</th>\n",
       "      <th>products</th>\n",
       "    </tr>\n",
       "    <tr>\n",
       "      <th>order_id</th>\n",
       "      <th></th>\n",
       "      <th></th>\n",
       "      <th></th>\n",
       "    </tr>\n",
       "  </thead>\n",
       "  <tbody>\n",
       "    <tr>\n",
       "      <th>17</th>\n",
       "      <td>21</td>\n",
       "      <td>[13107, 21709, 21463, 38777, 47766]</td>\n",
       "      <td>13107 21709 21463 38777 47766</td>\n",
       "    </tr>\n",
       "    <tr>\n",
       "      <th>34</th>\n",
       "      <td>78</td>\n",
       "      <td>[47766, 16083, 39475, 21137, 2596, 43504, 4779...</td>\n",
       "      <td>47766 16083 39475 21137 2596 43504 47792 13176...</td>\n",
       "    </tr>\n",
       "    <tr>\n",
       "      <th>137</th>\n",
       "      <td>68</td>\n",
       "      <td>[24852, 38689, 23794, 41787, 25890, 2326, 5134]</td>\n",
       "      <td>24852 38689 23794 41787 25890 2326 5134</td>\n",
       "    </tr>\n",
       "    <tr>\n",
       "      <th>182</th>\n",
       "      <td>100</td>\n",
       "      <td>[39275, 9337, 5479, 47672, 13629, 41149, 11520...</td>\n",
       "      <td>39275 9337 5479 47672 13629 41149 11520 47209 ...</td>\n",
       "    </tr>\n",
       "    <tr>\n",
       "      <th>257</th>\n",
       "      <td>57</td>\n",
       "      <td>[24852, 49235, 27104, 37646, 27966, 29837, 394...</td>\n",
       "      <td>24852 49235 27104 37646 27966 29837 39475 3023...</td>\n",
       "    </tr>\n",
       "  </tbody>\n",
       "</table>\n",
       "</div>"
      ],
      "text/plain": [
       "          count                                       product_list  \\\n",
       "order_id                                                             \n",
       "17           21                [13107, 21709, 21463, 38777, 47766]   \n",
       "34           78  [47766, 16083, 39475, 21137, 2596, 43504, 4779...   \n",
       "137          68    [24852, 38689, 23794, 41787, 25890, 2326, 5134]   \n",
       "182         100  [39275, 9337, 5479, 47672, 13629, 41149, 11520...   \n",
       "257          57  [24852, 49235, 27104, 37646, 27966, 29837, 394...   \n",
       "\n",
       "                                                   products  \n",
       "order_id                                                     \n",
       "17                            13107 21709 21463 38777 47766  \n",
       "34        47766 16083 39475 21137 2596 43504 47792 13176...  \n",
       "137                 24852 38689 23794 41787 25890 2326 5134  \n",
       "182       39275 9337 5479 47672 13629 41149 11520 47209 ...  \n",
       "257       24852 49235 27104 37646 27966 29837 39475 3023...  "
      ]
     },
     "execution_count": 34,
     "metadata": {},
     "output_type": "execute_result"
    }
   ],
   "source": [
    "recommend_df.head()"
   ]
  },
  {
   "cell_type": "code",
   "execution_count": 35,
   "metadata": {
    "collapsed": false
   },
   "outputs": [],
   "source": [
    "recommend_df['products'].to_csv(FEATURES_PATH + 'recommend_totaldata_2.csv', header = True)"
   ]
  },
  {
   "cell_type": "markdown",
   "metadata": {},
   "source": [
    "### Recommendation using average user basket"
   ]
  },
  {
   "cell_type": "code",
   "execution_count": null,
   "metadata": {
    "collapsed": false
   },
   "outputs": [],
   "source": [
    "products = []\n",
    "count = 0\n",
    "for _,row in test_orders[['user_id', 'order_id']].iterrows():\n",
    "    count += 1\n",
    "    if (count)%10000 == 0:\n",
    "        print(count)    \n",
    "    \n",
    "    user_id, order_id = row['user_id'], row['order_id']\n",
    "    n = int(user_basket_avg.ix[user_id].basket_size_avg)+1\n",
    "    products.append(list(prediction[prediction.user_id == user_id].product_id[:n]))\n",
    "    \n",
    "# create submission\n",
    "submission = pd.DataFrame()\n",
    "submission['order_id'] = test_orders['order_id']\n",
    "submission['products'] = [' '.join([str(x) for x in p]) for p in products]\n",
    "submission.sort_values(by='order_id', inplace = True)\n",
    "submission.to_csv(FEATURES_PATH + 'submission.csv', index=False)"
   ]
  }
 ],
 "metadata": {
  "kernelspec": {
   "display_name": "Python 3",
   "language": "python",
   "name": "python3"
  },
  "language_info": {
   "codemirror_mode": {
    "name": "ipython",
    "version": 3
   },
   "file_extension": ".py",
   "mimetype": "text/x-python",
   "name": "python",
   "nbconvert_exporter": "python",
   "pygments_lexer": "ipython3",
   "version": "3.6.0"
  }
 },
 "nbformat": 4,
 "nbformat_minor": 2
}
