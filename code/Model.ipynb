{
 "cells": [
  {
   "cell_type": "code",
   "execution_count": 1,
   "metadata": {
    "collapsed": false
   },
   "outputs": [],
   "source": [
    "# Author : Trong Canh Nguyen\n",
    "\n",
    "# This script considers all the products a user has ordered\n",
    "#\n",
    "# We train a model computing the probability of reorder on the \"train\" data\n",
    "#\n",
    "# For the submission, we keep the orders that have a probability of\n",
    "# reorder higher than a threshold\n",
    "\n",
    "\n",
    "import numpy as np\n",
    "import pandas as pd\n",
    "import lightgbm as lgb\n",
    "import gc\n",
    "IDIR = '../input/'\n",
    "\n",
    "FEATURES_PATH = './features3/'"
   ]
  },
  {
   "cell_type": "code",
   "execution_count": 9,
   "metadata": {
    "collapsed": false
   },
   "outputs": [
    {
     "data": {
      "text/plain": [
       "24"
      ]
     },
     "execution_count": 9,
     "metadata": {},
     "output_type": "execute_result"
    }
   ],
   "source": [
    "gc.collect()"
   ]
  },
  {
   "cell_type": "markdown",
   "metadata": {},
   "source": [
    "## Data Load"
   ]
  },
  {
   "cell_type": "code",
   "execution_count": null,
   "metadata": {
    "collapsed": true
   },
   "outputs": [],
   "source": [
    "import pickle\n",
    "with open(FEATURES_PATH + 'dtypes.pickle', 'rb') as f:\n",
    "    dtype_dict = pickle.load(f)\n",
    "dtype_dict"
   ]
  },
  {
   "cell_type": "code",
   "execution_count": null,
   "metadata": {
    "collapsed": false
   },
   "outputs": [],
   "source": [
    "#data = pd.read_csv(FEATURES_PATH + \"data.csv\", dtype= dtype_dict)"
   ]
  },
  {
   "cell_type": "code",
   "execution_count": 2,
   "metadata": {
    "collapsed": false
   },
   "outputs": [
    {
     "name": "stdout",
     "output_type": "stream",
     "text": [
      "memory =  1211.023803\n"
     ]
    }
   ],
   "source": [
    "data = pd.read_hdf(FEATURES_PATH + \"data.h5\", \"data\")\n",
    "data.reset_index(inplace=True)\n",
    "print(\"memory = \", data.memory_usage().sum()/1000000)"
   ]
  },
  {
   "cell_type": "code",
   "execution_count": 26,
   "metadata": {
    "collapsed": false
   },
   "outputs": [
    {
     "data": {
      "text/html": [
       "<div>\n",
       "<style>\n",
       "    .dataframe thead tr:only-child th {\n",
       "        text-align: right;\n",
       "    }\n",
       "\n",
       "    .dataframe thead th {\n",
       "        text-align: left;\n",
       "    }\n",
       "\n",
       "    .dataframe tbody tr th {\n",
       "        vertical-align: top;\n",
       "    }\n",
       "</style>\n",
       "<table border=\"1\" class=\"dataframe\">\n",
       "  <thead>\n",
       "    <tr style=\"text-align: right;\">\n",
       "      <th></th>\n",
       "      <th></th>\n",
       "      <th>up_orders</th>\n",
       "      <th>up_first_order</th>\n",
       "      <th>up_last_order</th>\n",
       "      <th>up_order_rate</th>\n",
       "      <th>up_orders_since_last_order</th>\n",
       "      <th>up_order_rate_since_first_order</th>\n",
       "      <th>up_days_since_last_order</th>\n",
       "      <th>up_add_to_cart_order_mean</th>\n",
       "      <th>user_total_order</th>\n",
       "      <th>user_eval_set</th>\n",
       "      <th>...</th>\n",
       "      <th>user_order_size_mean</th>\n",
       "      <th>product_reorder_ratio</th>\n",
       "      <th>aisle_id</th>\n",
       "      <th>department_id</th>\n",
       "      <th>up_in_same_day_previous_order</th>\n",
       "      <th>up_reordered</th>\n",
       "      <th>aisle_reorder_rate</th>\n",
       "      <th>dep_reorder_rate</th>\n",
       "      <th>user_aisle_reorder_rate</th>\n",
       "      <th>user_dep_reorder_rate</th>\n",
       "    </tr>\n",
       "    <tr>\n",
       "      <th>user_id</th>\n",
       "      <th>product_id</th>\n",
       "      <th></th>\n",
       "      <th></th>\n",
       "      <th></th>\n",
       "      <th></th>\n",
       "      <th></th>\n",
       "      <th></th>\n",
       "      <th></th>\n",
       "      <th></th>\n",
       "      <th></th>\n",
       "      <th></th>\n",
       "      <th></th>\n",
       "      <th></th>\n",
       "      <th></th>\n",
       "      <th></th>\n",
       "      <th></th>\n",
       "      <th></th>\n",
       "      <th></th>\n",
       "      <th></th>\n",
       "      <th></th>\n",
       "      <th></th>\n",
       "      <th></th>\n",
       "    </tr>\n",
       "  </thead>\n",
       "  <tbody>\n",
       "    <tr>\n",
       "      <th rowspan=\"5\" valign=\"top\">1</th>\n",
       "      <th>196</th>\n",
       "      <td>10</td>\n",
       "      <td>1</td>\n",
       "      <td>10</td>\n",
       "      <td>1.0</td>\n",
       "      <td>0.0</td>\n",
       "      <td>1.000000</td>\n",
       "      <td>14</td>\n",
       "      <td>1.400000</td>\n",
       "      <td>10</td>\n",
       "      <td>train</td>\n",
       "      <td>...</td>\n",
       "      <td>5.9</td>\n",
       "      <td>0.776480</td>\n",
       "      <td>77</td>\n",
       "      <td>7</td>\n",
       "      <td>0</td>\n",
       "      <td>1.0</td>\n",
       "      <td>0.685758</td>\n",
       "      <td>0.696882</td>\n",
       "      <td>0.916667</td>\n",
       "      <td>0.916667</td>\n",
       "    </tr>\n",
       "    <tr>\n",
       "      <th>10258</th>\n",
       "      <td>9</td>\n",
       "      <td>2</td>\n",
       "      <td>10</td>\n",
       "      <td>0.9</td>\n",
       "      <td>0.0</td>\n",
       "      <td>1.000000</td>\n",
       "      <td>14</td>\n",
       "      <td>3.333333</td>\n",
       "      <td>10</td>\n",
       "      <td>train</td>\n",
       "      <td>...</td>\n",
       "      <td>5.9</td>\n",
       "      <td>0.713772</td>\n",
       "      <td>117</td>\n",
       "      <td>19</td>\n",
       "      <td>0</td>\n",
       "      <td>1.0</td>\n",
       "      <td>0.552527</td>\n",
       "      <td>0.612557</td>\n",
       "      <td>0.888889</td>\n",
       "      <td>0.900000</td>\n",
       "    </tr>\n",
       "    <tr>\n",
       "      <th>10326</th>\n",
       "      <td>1</td>\n",
       "      <td>5</td>\n",
       "      <td>5</td>\n",
       "      <td>0.1</td>\n",
       "      <td>5.0</td>\n",
       "      <td>0.166667</td>\n",
       "      <td>97</td>\n",
       "      <td>5.000000</td>\n",
       "      <td>10</td>\n",
       "      <td>train</td>\n",
       "      <td>...</td>\n",
       "      <td>5.9</td>\n",
       "      <td>0.652009</td>\n",
       "      <td>24</td>\n",
       "      <td>4</td>\n",
       "      <td>0</td>\n",
       "      <td>0.0</td>\n",
       "      <td>0.763352</td>\n",
       "      <td>0.692611</td>\n",
       "      <td>0.200000</td>\n",
       "      <td>0.200000</td>\n",
       "    </tr>\n",
       "    <tr>\n",
       "      <th>12427</th>\n",
       "      <td>10</td>\n",
       "      <td>1</td>\n",
       "      <td>10</td>\n",
       "      <td>1.0</td>\n",
       "      <td>0.0</td>\n",
       "      <td>1.000000</td>\n",
       "      <td>14</td>\n",
       "      <td>3.300000</td>\n",
       "      <td>10</td>\n",
       "      <td>train</td>\n",
       "      <td>...</td>\n",
       "      <td>5.9</td>\n",
       "      <td>0.740735</td>\n",
       "      <td>23</td>\n",
       "      <td>19</td>\n",
       "      <td>0</td>\n",
       "      <td>0.0</td>\n",
       "      <td>0.633501</td>\n",
       "      <td>0.612557</td>\n",
       "      <td>1.000000</td>\n",
       "      <td>0.900000</td>\n",
       "    </tr>\n",
       "    <tr>\n",
       "      <th>13032</th>\n",
       "      <td>3</td>\n",
       "      <td>2</td>\n",
       "      <td>10</td>\n",
       "      <td>0.3</td>\n",
       "      <td>0.0</td>\n",
       "      <td>0.333333</td>\n",
       "      <td>14</td>\n",
       "      <td>6.333333</td>\n",
       "      <td>10</td>\n",
       "      <td>train</td>\n",
       "      <td>...</td>\n",
       "      <td>5.9</td>\n",
       "      <td>0.657158</td>\n",
       "      <td>121</td>\n",
       "      <td>14</td>\n",
       "      <td>0</td>\n",
       "      <td>1.0</td>\n",
       "      <td>0.613882</td>\n",
       "      <td>0.600948</td>\n",
       "      <td>0.666667</td>\n",
       "      <td>0.666667</td>\n",
       "    </tr>\n",
       "  </tbody>\n",
       "</table>\n",
       "<p>5 rows × 22 columns</p>\n",
       "</div>"
      ],
      "text/plain": [
       "                    up_orders  up_first_order  up_last_order  up_order_rate  \\\n",
       "user_id product_id                                                            \n",
       "1       196                10               1             10            1.0   \n",
       "        10258               9               2             10            0.9   \n",
       "        10326               1               5              5            0.1   \n",
       "        12427              10               1             10            1.0   \n",
       "        13032               3               2             10            0.3   \n",
       "\n",
       "                    up_orders_since_last_order  \\\n",
       "user_id product_id                               \n",
       "1       196                                0.0   \n",
       "        10258                              0.0   \n",
       "        10326                              5.0   \n",
       "        12427                              0.0   \n",
       "        13032                              0.0   \n",
       "\n",
       "                    up_order_rate_since_first_order  up_days_since_last_order  \\\n",
       "user_id product_id                                                              \n",
       "1       196                                1.000000                        14   \n",
       "        10258                              1.000000                        14   \n",
       "        10326                              0.166667                        97   \n",
       "        12427                              1.000000                        14   \n",
       "        13032                              0.333333                        14   \n",
       "\n",
       "                    up_add_to_cart_order_mean  user_total_order user_eval_set  \\\n",
       "user_id product_id                                                              \n",
       "1       196                          1.400000                10         train   \n",
       "        10258                        3.333333                10         train   \n",
       "        10326                        5.000000                10         train   \n",
       "        12427                        3.300000                10         train   \n",
       "        13032                        6.333333                10         train   \n",
       "\n",
       "                            ...            user_order_size_mean  \\\n",
       "user_id product_id          ...                                   \n",
       "1       196                 ...                             5.9   \n",
       "        10258               ...                             5.9   \n",
       "        10326               ...                             5.9   \n",
       "        12427               ...                             5.9   \n",
       "        13032               ...                             5.9   \n",
       "\n",
       "                    product_reorder_ratio  aisle_id  department_id  \\\n",
       "user_id product_id                                                   \n",
       "1       196                      0.776480        77              7   \n",
       "        10258                    0.713772       117             19   \n",
       "        10326                    0.652009        24              4   \n",
       "        12427                    0.740735        23             19   \n",
       "        13032                    0.657158       121             14   \n",
       "\n",
       "                    up_in_same_day_previous_order  up_reordered  \\\n",
       "user_id product_id                                                \n",
       "1       196                                     0           1.0   \n",
       "        10258                                   0           1.0   \n",
       "        10326                                   0           0.0   \n",
       "        12427                                   0           0.0   \n",
       "        13032                                   0           1.0   \n",
       "\n",
       "                    aisle_reorder_rate  dep_reorder_rate  \\\n",
       "user_id product_id                                         \n",
       "1       196                   0.685758          0.696882   \n",
       "        10258                 0.552527          0.612557   \n",
       "        10326                 0.763352          0.692611   \n",
       "        12427                 0.633501          0.612557   \n",
       "        13032                 0.613882          0.600948   \n",
       "\n",
       "                    user_aisle_reorder_rate  user_dep_reorder_rate  \n",
       "user_id product_id                                                  \n",
       "1       196                        0.916667               0.916667  \n",
       "        10258                      0.888889               0.900000  \n",
       "        10326                      0.200000               0.200000  \n",
       "        12427                      1.000000               0.900000  \n",
       "        13032                      0.666667               0.666667  \n",
       "\n",
       "[5 rows x 22 columns]"
      ]
     },
     "execution_count": 26,
     "metadata": {},
     "output_type": "execute_result"
    }
   ],
   "source": [
    "data.head()"
   ]
  },
  {
   "cell_type": "markdown",
   "metadata": {},
   "source": [
    "# MODEL"
   ]
  },
  {
   "cell_type": "code",
   "execution_count": 6,
   "metadata": {
    "collapsed": false
   },
   "outputs": [],
   "source": [
    "features = [    \n",
    "    'up_orders',\n",
    "    'up_add_to_cart_order_mean',\n",
    "    'up_order_rate',\n",
    "    'up_order_rate_since_first_order',\n",
    "    'up_orders_since_last_order',\n",
    "    'up_days_since_last_order',\n",
    "    'up_in_same_day_previous_order',\n",
    "    \n",
    "    'user_total_order',\n",
    "    'user_order_size_mean',\n",
    "    'user_reorder_rate',\n",
    "    'user_days_since_last_order',   \n",
    "    \n",
    "    'product_reorder_ratio',\n",
    "    \n",
    "    'aisle_reorder_rate',\n",
    "    'user_aisle_reorder_rate',\n",
    "    \n",
    "    'dep_reorder_rate',\n",
    "    'user_dep_reorder_rate'\n",
    "]\n",
    "\n",
    "        \n",
    "data_train = data[data.user_eval_set == \"train\"][['user_id', 'product_id']+ features + [\"up_reordered\"]]"
   ]
  },
  {
   "cell_type": "code",
   "execution_count": null,
   "metadata": {
    "collapsed": false
   },
   "outputs": [],
   "source": [
    "tmp = data_train.user_id.unique()\n",
    "user_train = tmp[0:120000]\n",
    "user_test = tmp[120000:]\n",
    "\n",
    "X_train= data_train[data_train.user_id.isin(user_train)][features]\n",
    "y_train= data_train[data_train.user_id.isin(user_train)]['up_reordered']\n",
    "X_valid= data_train[data_train.user_id.isin(user_test)][features]\n",
    "y_valid= data_train[data_train.user_id.isin(user_test)]['up_reordered']"
   ]
  },
  {
   "cell_type": "code",
   "execution_count": null,
   "metadata": {
    "collapsed": false
   },
   "outputs": [],
   "source": [
    "print('formating for lgb')\n",
    "d_train = lgb.Dataset(X_train, label=y_train)\n",
    "d_valid = lgb.Dataset(X_valid, label=y_valid, reference=d_train)\n",
    "d_train.save_binary(FEATURES_PATH +  'train.bin')\n",
    "d_valid.save_binary(FEATURES_PATH +  'valid.bin')"
   ]
  },
  {
   "cell_type": "code",
   "execution_count": null,
   "metadata": {
    "collapsed": false
   },
   "outputs": [],
   "source": [
    "del data_train\n",
    "del X_train\n",
    "del y_train\n",
    "del X_valid\n",
    "del y_valid\n",
    "gc.collect()"
   ]
  },
  {
   "cell_type": "code",
   "execution_count": null,
   "metadata": {
    "collapsed": false
   },
   "outputs": [],
   "source": [
    "params = {\n",
    "    'task': 'train',\n",
    "    'boosting_type': 'gbdt',\n",
    "    'objective': 'binary',\n",
    "    'metric': {'binary_logloss'},\n",
    "    'num_leaves': 200,\n",
    "    'max_depth': 10,\n",
    "    'feature_fraction': 0.9,\n",
    "    'bagging_fraction': 0.95,\n",
    "    'bagging_freq': 5\n",
    "}\n",
    "ROUNDS = 100\n",
    "\n",
    "print('light GBM train :-)')\n",
    "bst = lgb.train(params, d_train, ROUNDS)"
   ]
  },
  {
   "cell_type": "code",
   "execution_count": null,
   "metadata": {
    "collapsed": true
   },
   "outputs": [],
   "source": [
    "bst.save_model(FEATURES_PATH+ 'trained_model.txt')"
   ]
  },
  {
   "cell_type": "code",
   "execution_count": null,
   "metadata": {
    "collapsed": true
   },
   "outputs": [],
   "source": [
    "bst.add_valid(d_valid, \"valid1\")"
   ]
  },
  {
   "cell_type": "code",
   "execution_count": null,
   "metadata": {
    "collapsed": true
   },
   "outputs": [],
   "source": [
    "bst.eval_train()"
   ]
  },
  {
   "cell_type": "code",
   "execution_count": null,
   "metadata": {
    "collapsed": false
   },
   "outputs": [],
   "source": [
    "bst.eval_valid()"
   ]
  },
  {
   "cell_type": "markdown",
   "metadata": {},
   "source": [
    "### Validation"
   ]
  },
  {
   "cell_type": "code",
   "execution_count": null,
   "metadata": {
    "collapsed": true
   },
   "outputs": [],
   "source": [
    "def precision(y, y_, correct):\n",
    "    if y_>0:\n",
    "        return correct/y_\n",
    "    else:\n",
    "        return 1.0\n",
    "        \n",
    "def recall(y, y_, correct):\n",
    "    if y>0:\n",
    "        return correct/y\n",
    "    else:\n",
    "        return 1.0\n",
    "\n",
    "def f1(y,y_, correct):\n",
    "    p = precision(y, y_, correct)\n",
    "    r = recall(y, y_, correct)\n",
    "    if (p == 0) and (r ==0):\n",
    "        return 0.\n",
    "    f1 = 2*p*r/(p+r)\n",
    "    return f1\n",
    "\n",
    "def compute_f1(valid_df, threshold):\n",
    "    valid_df['y_'] = valid_df['pred'] > threshold\n",
    "    valid_df['correct'] = (valid_df['y'] == valid_df['y_']) & (valid_df['y_'])\n",
    "    result = valid_df.groupby('user_id').sum()\n",
    "    result['f1'] = result.apply(lambda row: f1(row['y'], row['y_'], row['correct']), axis=1)\n",
    "    return result['f1'].mean()"
   ]
  },
  {
   "cell_type": "code",
   "execution_count": null,
   "metadata": {
    "collapsed": false
   },
   "outputs": [],
   "source": [
    "pred_valid = bst.predict(X_valid)"
   ]
  },
  {
   "cell_type": "code",
   "execution_count": null,
   "metadata": {
    "collapsed": false
   },
   "outputs": [],
   "source": [
    "valid_df = data.ix[X_valid.index][['user_id', 'product_id']]\n",
    "valid_df[\"y\"] = y_valid\n",
    "valid_df[\"pred\"] = pred_valid\n",
    "valid_df[\"y_\"] = valid_df[\"pred\"]  >= 0.20\n",
    "valid_df['correct'] = (valid_df['y'] == valid_df['y_']) & (valid_df['y_'])\n",
    "valid_df.sort_values(['user_id', 'pred'], ascending=[True, False], inplace = True)\n",
    "#print(\"valid log loss = \", -((valid_df[\"y\"]*np.log(valid_df[\"pred\"])+ (1.-valid_df[\"y\"])* np.log(1.- valid_df[\"pred\"]))).mean())"
   ]
  },
  {
   "cell_type": "code",
   "execution_count": null,
   "metadata": {
    "collapsed": false
   },
   "outputs": [],
   "source": [
    "result = valid_df.groupby('user_id').sum()\n",
    "result['f1'] = result.apply(lambda row: f1(row['y'], row['y_'], row['correct']), axis=1)"
   ]
  },
  {
   "cell_type": "code",
   "execution_count": null,
   "metadata": {
    "collapsed": false
   },
   "outputs": [],
   "source": [
    "result[result.y_ == 0]"
   ]
  },
  {
   "cell_type": "code",
   "execution_count": null,
   "metadata": {
    "collapsed": false
   },
   "outputs": [],
   "source": [
    "compute_f1(valid_df, 0.20)"
   ]
  },
  {
   "cell_type": "markdown",
   "metadata": {},
   "source": [
    "## Generate predictions"
   ]
  },
  {
   "cell_type": "code",
   "execution_count": 7,
   "metadata": {
    "collapsed": false
   },
   "outputs": [],
   "source": [
    "data_test = data[data.user_eval_set == \"test\"][['user_id', 'product_id'] + features]"
   ]
  },
  {
   "cell_type": "code",
   "execution_count": 8,
   "metadata": {
    "collapsed": true
   },
   "outputs": [],
   "source": [
    "bst = lgb.Booster(model_file=FEATURES_PATH+ 'trained_model.txt')"
   ]
  },
  {
   "cell_type": "code",
   "execution_count": 10,
   "metadata": {
    "collapsed": false
   },
   "outputs": [
    {
     "name": "stdout",
     "output_type": "stream",
     "text": [
      "light GBM predict\n"
     ]
    },
    {
     "data": {
      "text/plain": [
       "array([ 0.02037025,  0.06086408,  0.11589927, ...,  0.00556573,\n",
       "        0.00359589,  0.01072436])"
      ]
     },
     "execution_count": 10,
     "metadata": {},
     "output_type": "execute_result"
    }
   ],
   "source": [
    "print('light GBM predict')\n",
    "pred_test = bst.predict(data_test[features])\n",
    "pred_test"
   ]
  },
  {
   "cell_type": "code",
   "execution_count": 11,
   "metadata": {
    "collapsed": true
   },
   "outputs": [],
   "source": [
    "orders = pd.read_csv(IDIR + 'orders.csv', dtype={\n",
    "        'order_id': np.int32,\n",
    "        'user_id': np.int32},\n",
    "        usecols=[\"order_id\", \"user_id\", \"eval_set\"])\n",
    "\n",
    "test_orders= orders[orders.eval_set == 'test']"
   ]
  },
  {
   "cell_type": "code",
   "execution_count": 12,
   "metadata": {
    "collapsed": false
   },
   "outputs": [],
   "source": [
    "prediction = pd.DataFrame()\n",
    "prediction[['user_id', 'product_id']] = data_test[['user_id', 'product_id']]\n",
    "prediction['proba'] = pred_test\n",
    "prediction.sort_values(by=['user_id', 'proba'], ascending=[True, False], inplace=True)\n",
    "prediction = pd.merge(prediction, test_orders[['order_id', 'user_id']], on=\"user_id\", how='left')"
   ]
  },
  {
   "cell_type": "markdown",
   "metadata": {},
   "source": [
    "## Feature importance"
   ]
  },
  {
   "cell_type": "code",
   "execution_count": 13,
   "metadata": {
    "collapsed": true
   },
   "outputs": [],
   "source": [
    "import matplotlib.pyplot as plt\n",
    "%matplotlib inline"
   ]
  },
  {
   "cell_type": "code",
   "execution_count": 15,
   "metadata": {
    "collapsed": false
   },
   "outputs": [
    {
     "name": "stdout",
     "output_type": "stream",
     "text": [
      "Plot feature importances...\n"
     ]
    },
    {
     "data": {
      "image/png": "[encoded data removed]",
      "text/plain": [
       "<matplotlib.figure.Figure at 0x7f8bdfb30278>"
      ]
     },
     "metadata": {},
     "output_type": "display_data"
    }
   ],
   "source": [
    "print('Plot feature importances...')\n",
    "ax = lgb.plot_importance(bst, max_num_features=20)\n",
    "plt.show()\n"
   ]
  },
  {
   "cell_type": "markdown",
   "metadata": {},
   "source": [
    "### Recommendation using threshold"
   ]
  },
  {
   "cell_type": "code",
   "execution_count": 16,
   "metadata": {
    "collapsed": false
   },
   "outputs": [],
   "source": [
    "threshold = 0.20\n",
    "recommend = prediction[prediction.proba >= threshold].groupby('order_id').product_id.apply(list)"
   ]
  },
  {
   "cell_type": "code",
   "execution_count": 17,
   "metadata": {
    "collapsed": false
   },
   "outputs": [],
   "source": [
    "recommend_df = pd.DataFrame()\n",
    "recommend_df[\"count\"] = prediction.groupby('order_id').size()\n",
    "recommend_df['product_list'] = recommend\n",
    "recommend_df['products']= recommend_df.product_list.apply(lambda p: ' '.join([str(x)  for x in p]) if type(p) == list else 'None' ) "
   ]
  },
  {
   "cell_type": "code",
   "execution_count": 18,
   "metadata": {
    "collapsed": false
   },
   "outputs": [
    {
     "data": {
      "text/html": [
       "<div>\n",
       "<style>\n",
       "    .dataframe thead tr:only-child th {\n",
       "        text-align: right;\n",
       "    }\n",
       "\n",
       "    .dataframe thead th {\n",
       "        text-align: left;\n",
       "    }\n",
       "\n",
       "    .dataframe tbody tr th {\n",
       "        vertical-align: top;\n",
       "    }\n",
       "</style>\n",
       "<table border=\"1\" class=\"dataframe\">\n",
       "  <thead>\n",
       "    <tr style=\"text-align: right;\">\n",
       "      <th></th>\n",
       "      <th>count</th>\n",
       "      <th>product_list</th>\n",
       "      <th>products</th>\n",
       "    </tr>\n",
       "    <tr>\n",
       "      <th>order_id</th>\n",
       "      <th></th>\n",
       "      <th></th>\n",
       "      <th></th>\n",
       "    </tr>\n",
       "  </thead>\n",
       "  <tbody>\n",
       "    <tr>\n",
       "      <th>17</th>\n",
       "      <td>21</td>\n",
       "      <td>[13107, 21463, 38777, 21709]</td>\n",
       "      <td>13107 21463 38777 21709</td>\n",
       "    </tr>\n",
       "    <tr>\n",
       "      <th>34</th>\n",
       "      <td>78</td>\n",
       "      <td>[16083, 47766, 39475, 21137, 43504, 2596, 4779...</td>\n",
       "      <td>16083 47766 39475 21137 43504 2596 47792 13176...</td>\n",
       "    </tr>\n",
       "    <tr>\n",
       "      <th>137</th>\n",
       "      <td>68</td>\n",
       "      <td>[24852, 38689, 23794, 41787, 25890, 2326, 5134]</td>\n",
       "      <td>24852 38689 23794 41787 25890 2326 5134</td>\n",
       "    </tr>\n",
       "    <tr>\n",
       "      <th>182</th>\n",
       "      <td>100</td>\n",
       "      <td>[9337, 39275, 5479, 47672, 13629, 41149, 11520...</td>\n",
       "      <td>9337 39275 5479 47672 13629 41149 11520 47209 ...</td>\n",
       "    </tr>\n",
       "    <tr>\n",
       "      <th>257</th>\n",
       "      <td>57</td>\n",
       "      <td>[24852, 49235, 27104, 37646, 27966, 29837, 394...</td>\n",
       "      <td>24852 49235 27104 37646 27966 29837 39475 3023...</td>\n",
       "    </tr>\n",
       "  </tbody>\n",
       "</table>\n",
       "</div>"
      ],
      "text/plain": [
       "          count                                       product_list  \\\n",
       "order_id                                                             \n",
       "17           21                       [13107, 21463, 38777, 21709]   \n",
       "34           78  [16083, 47766, 39475, 21137, 43504, 2596, 4779...   \n",
       "137          68    [24852, 38689, 23794, 41787, 25890, 2326, 5134]   \n",
       "182         100  [9337, 39275, 5479, 47672, 13629, 41149, 11520...   \n",
       "257          57  [24852, 49235, 27104, 37646, 27966, 29837, 394...   \n",
       "\n",
       "                                                   products  \n",
       "order_id                                                     \n",
       "17                                  13107 21463 38777 21709  \n",
       "34        16083 47766 39475 21137 43504 2596 47792 13176...  \n",
       "137                 24852 38689 23794 41787 25890 2326 5134  \n",
       "182       9337 39275 5479 47672 13629 41149 11520 47209 ...  \n",
       "257       24852 49235 27104 37646 27966 29837 39475 3023...  "
      ]
     },
     "execution_count": 18,
     "metadata": {},
     "output_type": "execute_result"
    }
   ],
   "source": [
    "recommend_df.head()"
   ]
  },
  {
   "cell_type": "code",
   "execution_count": 19,
   "metadata": {
    "collapsed": false
   },
   "outputs": [],
   "source": [
    "recommend_df['products'].to_csv(FEATURES_PATH + 'recommend2.csv', header = True)"
   ]
  },
  {
   "cell_type": "markdown",
   "metadata": {},
   "source": [
    "### Recommendation using average user basket"
   ]
  },
  {
   "cell_type": "code",
   "execution_count": null,
   "metadata": {
    "collapsed": false
   },
   "outputs": [],
   "source": [
    "products = []\n",
    "count = 0\n",
    "for _,row in test_orders[['user_id', 'order_id']].iterrows():\n",
    "    count += 1\n",
    "    if (count)%10000 == 0:\n",
    "        print(count)    \n",
    "    \n",
    "    user_id, order_id = row['user_id'], row['order_id']\n",
    "    n = int(user_basket_avg.ix[user_id].basket_size_avg)+1\n",
    "    products.append(list(prediction[prediction.user_id == user_id].product_id[:n]))\n",
    "    \n",
    "# create submission\n",
    "submission = pd.DataFrame()\n",
    "submission['order_id'] = test_orders['order_id']\n",
    "submission['products'] = [' '.join([str(x) for x in p]) for p in products]\n",
    "submission.sort_values(by='order_id', inplace = True)\n",
    "submission.to_csv(FEATURES_PATH + 'submission.csv', index=False)"
   ]
  }
 ],
 "metadata": {
  "kernelspec": {
   "display_name": "Python 3",
   "language": "python",
   "name": "python3"
  },
  "language_info": {
   "codemirror_mode": {
    "name": "ipython",
    "version": 3
   },
   "file_extension": ".py",
   "mimetype": "text/x-python",
   "name": "python",
   "nbconvert_exporter": "python",
   "pygments_lexer": "ipython3",
   "version": "3.6.0"
  }
 },
 "nbformat": 4,
 "nbformat_minor": 2
}
